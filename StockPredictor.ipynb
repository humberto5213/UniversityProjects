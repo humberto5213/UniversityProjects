{
 "cells": [
  {
   "cell_type": "code",
   "execution_count": 1,
   "metadata": {},
   "outputs": [
    {
     "name": "stderr",
     "output_type": "stream",
     "text": [
      "C:\\Users\\humbe\\anaconda3\\envs\\CVNLP\\lib\\site-packages\\tensorflow\\python\\framework\\dtypes.py:523: FutureWarning: Passing (type, 1) or '1type' as a synonym of type is deprecated; in a future version of numpy, it will be understood as (type, (1,)) / '(1,)type'.\n",
      "  _np_qint8 = np.dtype([(\"qint8\", np.int8, 1)])\n",
      "C:\\Users\\humbe\\anaconda3\\envs\\CVNLP\\lib\\site-packages\\tensorflow\\python\\framework\\dtypes.py:524: FutureWarning: Passing (type, 1) or '1type' as a synonym of type is deprecated; in a future version of numpy, it will be understood as (type, (1,)) / '(1,)type'.\n",
      "  _np_quint8 = np.dtype([(\"quint8\", np.uint8, 1)])\n",
      "C:\\Users\\humbe\\anaconda3\\envs\\CVNLP\\lib\\site-packages\\tensorflow\\python\\framework\\dtypes.py:525: FutureWarning: Passing (type, 1) or '1type' as a synonym of type is deprecated; in a future version of numpy, it will be understood as (type, (1,)) / '(1,)type'.\n",
      "  _np_qint16 = np.dtype([(\"qint16\", np.int16, 1)])\n",
      "C:\\Users\\humbe\\anaconda3\\envs\\CVNLP\\lib\\site-packages\\tensorflow\\python\\framework\\dtypes.py:526: FutureWarning: Passing (type, 1) or '1type' as a synonym of type is deprecated; in a future version of numpy, it will be understood as (type, (1,)) / '(1,)type'.\n",
      "  _np_quint16 = np.dtype([(\"quint16\", np.uint16, 1)])\n",
      "C:\\Users\\humbe\\anaconda3\\envs\\CVNLP\\lib\\site-packages\\tensorflow\\python\\framework\\dtypes.py:527: FutureWarning: Passing (type, 1) or '1type' as a synonym of type is deprecated; in a future version of numpy, it will be understood as (type, (1,)) / '(1,)type'.\n",
      "  _np_qint32 = np.dtype([(\"qint32\", np.int32, 1)])\n",
      "C:\\Users\\humbe\\anaconda3\\envs\\CVNLP\\lib\\site-packages\\tensorflow\\python\\framework\\dtypes.py:532: FutureWarning: Passing (type, 1) or '1type' as a synonym of type is deprecated; in a future version of numpy, it will be understood as (type, (1,)) / '(1,)type'.\n",
      "  np_resource = np.dtype([(\"resource\", np.ubyte, 1)])\n"
     ]
    }
   ],
   "source": [
    "import numpy as np\n",
    "import matplotlib.pyplot as plt\n",
    "import pandas as pd\n",
    "import pandas_datareader as web\n",
    "import datetime as dt\n",
    "\n",
    "from sklearn.preprocessing import MinMaxScaler\n",
    "from tensorflow.keras.models import Sequential\n",
    "from tensorflow.keras.layers import Dense,Dropout,LSTM"
   ]
  },
  {
   "cell_type": "code",
   "execution_count": 4,
   "metadata": {},
   "outputs": [
    {
     "name": "stdin",
     "output_type": "stream",
     "text": [
      "Enter year period:  2010,2021\n",
      "Enter month period:  10,10\n",
      "Enter day period:  20,20\n",
      "Enter company ID:  BTC-USD\n"
     ]
    }
   ],
   "source": [
    "# load de data\n",
    "#company = 'TSLA'\n",
    "\n",
    "start_end_year = input('Enter year period: ').split(',')\n",
    "start_end_month = input('Enter month period: ').split(',')\n",
    "start_end_day = input('Enter day period: ').split(',')\n",
    "company = input('Enter company ID: ')\n",
    "\n",
    "start = dt.datetime(int(start_end_year[0]),int(start_end_month[0]),int(start_end_day[0]))\n",
    "end = dt.datetime(int(start_end_year[1]),int(start_end_month[1]),int(start_end_day[1]))\n",
    "\n",
    "data = web.DataReader(company, 'yahoo', start, end)\n",
    "\n",
    "# Prepare data\n",
    "scaler = MinMaxScaler(feature_range=(0,1))\n",
    "scaled_data = scaler.fit_transform(data['Close'].values.reshape(-1,1))\n",
    "\n",
    "prediction_days = 60\n",
    "\n",
    "x_train = []\n",
    "y_train = []\n",
    "\n",
    "for x in range(prediction_days, len(scaled_data)):\n",
    "    x_train.append(scaled_data[x-prediction_days:x, 0])\n",
    "    y_train.append(scaled_data[x,0])\n",
    "\n",
    "x_train,y_train = np.array(x_train), np.array(y_train)\n",
    "x_train = np.reshape(x_train, (x_train.shape[0], x_train.shape[1],1))"
   ]
  },
  {
   "cell_type": "code",
   "execution_count": 5,
   "metadata": {},
   "outputs": [],
   "source": [
    "model = Sequential()\n",
    "\n",
    "model.add(LSTM(units=50, return_sequences=True, input_shape=(x_train.shape[1],1)))\n",
    "model.add(Dropout(0.2))\n",
    "model.add(LSTM(units=50, return_sequences=True))\n",
    "model.add(Dropout(0.2))\n",
    "model.add(LSTM(units=50))\n",
    "model.add(Dropout(0.2))\n",
    "model.add(Dense(units=1))\n",
    "\n",
    "model.compile(optimizer='adam', loss='mean_squared_error', metrics=['acc'])"
   ]
  },
  {
   "cell_type": "code",
   "execution_count": 6,
   "metadata": {},
   "outputs": [
    {
     "name": "stdout",
     "output_type": "stream",
     "text": [
      "Train on 2268 samples, validate on 253 samples\n",
      "Epoch 1/25\n",
      "2268/2268 [==============================] - 10s 5ms/step - loss: 0.0012 - acc: 4.4092e-04 - val_loss: 0.0187 - val_acc: 0.0040\n",
      "Epoch 2/25\n",
      "2268/2268 [==============================] - 8s 4ms/step - loss: 5.9679e-04 - acc: 4.4092e-04 - val_loss: 0.0071 - val_acc: 0.0040\n",
      "Epoch 3/25\n",
      "2268/2268 [==============================] - 9s 4ms/step - loss: 4.7636e-04 - acc: 4.4092e-04 - val_loss: 0.0058 - val_acc: 0.0040\n",
      "Epoch 4/25\n",
      "2268/2268 [==============================] - 10s 4ms/step - loss: 3.8969e-04 - acc: 4.4092e-04 - val_loss: 0.0059 - val_acc: 0.0040\n",
      "Epoch 5/25\n",
      "2268/2268 [==============================] - 10s 4ms/step - loss: 3.9556e-04 - acc: 4.4092e-04 - val_loss: 0.0092 - val_acc: 0.0040\n",
      "Epoch 6/25\n",
      "2268/2268 [==============================] - 9s 4ms/step - loss: 3.4356e-04 - acc: 4.4092e-04 - val_loss: 0.0048 - val_acc: 0.0040\n",
      "Epoch 7/25\n",
      "2268/2268 [==============================] - 9s 4ms/step - loss: 2.9782e-04 - acc: 4.4092e-04 - val_loss: 0.0043 - val_acc: 0.0040\n",
      "Epoch 8/25\n",
      "2268/2268 [==============================] - 9s 4ms/step - loss: 3.1386e-04 - acc: 4.4092e-04 - val_loss: 0.0037 - val_acc: 0.0040\n",
      "Epoch 9/25\n",
      "2268/2268 [==============================] - 9s 4ms/step - loss: 2.7641e-04 - acc: 4.4092e-04 - val_loss: 0.0080 - val_acc: 0.0040\n",
      "Epoch 10/25\n",
      "2268/2268 [==============================] - 9s 4ms/step - loss: 3.3381e-04 - acc: 4.4092e-04 - val_loss: 0.0055 - val_acc: 0.0040\n",
      "Epoch 11/25\n",
      "2268/2268 [==============================] - 9s 4ms/step - loss: 2.8899e-04 - acc: 4.4092e-04 - val_loss: 0.0046 - val_acc: 0.0040\n",
      "Epoch 12/25\n",
      "2268/2268 [==============================] - 9s 4ms/step - loss: 2.9939e-04 - acc: 4.4092e-04 - val_loss: 0.0034 - val_acc: 0.0040\n",
      "Epoch 13/25\n",
      "2268/2268 [==============================] - 9s 4ms/step - loss: 2.7630e-04 - acc: 4.4092e-04 - val_loss: 0.0038 - val_acc: 0.0040\n",
      "Epoch 14/25\n",
      "2268/2268 [==============================] - 9s 4ms/step - loss: 3.1146e-04 - acc: 4.4092e-04 - val_loss: 0.0102 - val_acc: 0.0040\n",
      "Epoch 15/25\n",
      "2268/2268 [==============================] - 9s 4ms/step - loss: 2.5583e-04 - acc: 4.4092e-04 - val_loss: 0.0032 - val_acc: 0.0040\n",
      "Epoch 16/25\n",
      "2268/2268 [==============================] - 9s 4ms/step - loss: 2.8120e-04 - acc: 4.4092e-04 - val_loss: 0.0052 - val_acc: 0.0040\n",
      "Epoch 17/25\n",
      "2268/2268 [==============================] - 9s 4ms/step - loss: 2.1284e-04 - acc: 4.4092e-04 - val_loss: 0.0026 - val_acc: 0.0040\n",
      "Epoch 18/25\n",
      "2268/2268 [==============================] - 9s 4ms/step - loss: 2.2655e-04 - acc: 4.4092e-04 - val_loss: 0.0026 - val_acc: 0.0040\n",
      "Epoch 19/25\n",
      "2268/2268 [==============================] - 11s 5ms/step - loss: 2.5240e-04 - acc: 4.4092e-04 - val_loss: 0.0167 - val_acc: 0.0040\n",
      "Epoch 20/25\n",
      "2268/2268 [==============================] - 17s 7ms/step - loss: 2.4509e-04 - acc: 4.4092e-04 - val_loss: 0.0025 - val_acc: 0.0040\n",
      "Epoch 21/25\n",
      "2268/2268 [==============================] - 11s 5ms/step - loss: 2.4143e-04 - acc: 4.4092e-04 - val_loss: 0.0037 - val_acc: 0.0040\n",
      "Epoch 22/25\n",
      "2268/2268 [==============================] - 9s 4ms/step - loss: 2.1824e-04 - acc: 4.4092e-04 - val_loss: 0.0025 - val_acc: 0.0040\n",
      "Epoch 23/25\n",
      "2268/2268 [==============================] - 9s 4ms/step - loss: 2.0879e-04 - acc: 4.4092e-04 - val_loss: 0.0034 - val_acc: 0.0040\n",
      "Epoch 24/25\n",
      "2268/2268 [==============================] - 9s 4ms/step - loss: 2.3954e-04 - acc: 4.4092e-04 - val_loss: 0.0027 - val_acc: 0.0040\n",
      "Epoch 25/25\n",
      "2268/2268 [==============================] - 9s 4ms/step - loss: 2.4019e-04 - acc: 4.4092e-04 - val_loss: 0.0039 - val_acc: 0.0040\n"
     ]
    },
    {
     "data": {
      "text/plain": [
       "<tensorflow.python.keras.callbacks.History at 0x2dfe5a874a8>"
      ]
     },
     "execution_count": 6,
     "metadata": {},
     "output_type": "execute_result"
    }
   ],
   "source": [
    "model.fit(x_train, y_train, epochs=25, batch_size=32, validation_split=0.1)"
   ]
  },
  {
   "cell_type": "code",
   "execution_count": 7,
   "metadata": {},
   "outputs": [],
   "source": [
    "model_df = pd.DataFrame(model.history.history)"
   ]
  },
  {
   "cell_type": "code",
   "execution_count": 8,
   "metadata": {},
   "outputs": [
    {
     "data": {
      "text/plain": [
       "<matplotlib.axes._subplots.AxesSubplot at 0x2dfe950bfd0>"
      ]
     },
     "execution_count": 8,
     "metadata": {},
     "output_type": "execute_result"
    },
    {
     "data": {
      "image/png": "[encoded data removed]",
      "text/plain": [
       "<Figure size 432x288 with 1 Axes>"
      ]
     },
     "metadata": {
      "needs_background": "light"
     },
     "output_type": "display_data"
    }
   ],
   "source": [
    "model_df[['val_acc','acc']].plot()"
   ]
  },
  {
   "cell_type": "code",
   "execution_count": 15,
   "metadata": {},
   "outputs": [],
   "source": [
    "# Test the model accuracy on existing data\n",
    "test_start = dt.datetime(2016,10,10)\n",
    "test_end = dt.datetime.now()\n",
    "\n",
    "test_data = web.DataReader(company,'yahoo',test_start,test_end)\n",
    "actual_prices=test_data['Close'].values\n",
    "\n",
    "total_dataset = pd.concat((data['Close'], test_data['Close']),axis=0)\n",
    "\n",
    "model_inputs = total_dataset[len(total_dataset)-len(test_data)-prediction_days:].values\n",
    "model_inputs = model_inputs.reshape(-1,1)\n",
    "model_inputs = scaler.transform(model_inputs)"
   ]
  },
  {
   "cell_type": "code",
   "execution_count": 16,
   "metadata": {},
   "outputs": [],
   "source": [
    "#Make Predictions on test data\n",
    "x_test = []\n",
    "\n",
    "for x in range(prediction_days, len(model_inputs)):\n",
    "    x_test.append(model_inputs[x-prediction_days:x, 0])\n",
    "\n",
    "x_test = np.array(x_test)\n",
    "x_test = np.reshape(x_test, (x_test.shape[0], x_test.shape[1],1))\n",
    "\n",
    "predicted_prices = model.predict(x_test)\n",
    "predicted_prices = scaler.inverse_transform(predicted_prices )"
   ]
  },
  {
   "cell_type": "code",
   "execution_count": 17,
   "metadata": {},
   "outputs": [
    {
     "data": {
      "image/png": "[encoded data removed]",
      "text/plain": [
       "<Figure size 432x288 with 1 Axes>"
      ]
     },
     "metadata": {
      "needs_background": "light"
     },
     "output_type": "display_data"
    }
   ],
   "source": [
    "#Plot the test predictions\n",
    "plt.plot(actual_prices, color='black', label = f'Actual {company} Price')\n",
    "plt.plot(predicted_prices, color = 'green', label = f'Predicted {company} Price')\n",
    "plt.title(f'{company} Shared Price')\n",
    "plt.xlabel('Time')\n",
    "plt.ylabel(f'{company} Shared Price')\n",
    "plt.legend()\n",
    "plt.show()"
   ]
  },
  {
   "cell_type": "code",
   "execution_count": 8,
   "metadata": {},
   "outputs": [
    {
     "name": "stdout",
     "output_type": "stream",
     "text": [
      "Prediction: [[77.180435]]\n"
     ]
    }
   ],
   "source": [
    "#Predict Next Day\n",
    "\n",
    "real_data = [model_inputs[len(model_inputs)-prediction_days:len(model_inputs+1),0]]\n",
    "real_data = np.array(real_data)\n",
    "real_data = np.reshape(real_data, (real_data.shape[0], real_data.shape[1],1))\n",
    "\n",
    "#print(scaler.inverse_transform(real_data[-1]))\n",
    "\n",
    "prediction = model.predict(real_data)\n",
    "prediction = scaler.inverse_transform(prediction)\n",
    "print(f'Prediction: {prediction}')"
   ]
  },
  {
   "cell_type": "code",
   "execution_count": null,
   "metadata": {},
   "outputs": [],
   "source": []
  }
 ],
 "metadata": {
  "kernelspec": {
   "display_name": "Python 3",
   "language": "python",
   "name": "python3"
  },
  "language_info": {
   "codemirror_mode": {
    "name": "ipython",
    "version": 3
   },
   "file_extension": ".py",
   "mimetype": "text/x-python",
   "name": "python",
   "nbconvert_exporter": "python",
   "pygments_lexer": "ipython3",
   "version": "3.6.6"
  }
 },
 "nbformat": 4,
 "nbformat_minor": 5
}
