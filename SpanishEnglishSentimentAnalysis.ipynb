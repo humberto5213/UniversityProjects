{
 "cells": [
  {
   "cell_type": "markdown",
   "metadata": {},
   "source": [
    "# Start Point"
   ]
  },
  {
   "cell_type": "code",
   "execution_count": 1,
   "metadata": {},
   "outputs": [
    {
     "name": "stderr",
     "output_type": "stream",
     "text": [
      "C:\\Users\\humbe\\anaconda3\\envs\\CVNLP\\lib\\site-packages\\tensorflow\\python\\framework\\dtypes.py:523: FutureWarning: Passing (type, 1) or '1type' as a synonym of type is deprecated; in a future version of numpy, it will be understood as (type, (1,)) / '(1,)type'.\n",
      "  _np_qint8 = np.dtype([(\"qint8\", np.int8, 1)])\n",
      "C:\\Users\\humbe\\anaconda3\\envs\\CVNLP\\lib\\site-packages\\tensorflow\\python\\framework\\dtypes.py:524: FutureWarning: Passing (type, 1) or '1type' as a synonym of type is deprecated; in a future version of numpy, it will be understood as (type, (1,)) / '(1,)type'.\n",
      "  _np_quint8 = np.dtype([(\"quint8\", np.uint8, 1)])\n",
      "C:\\Users\\humbe\\anaconda3\\envs\\CVNLP\\lib\\site-packages\\tensorflow\\python\\framework\\dtypes.py:525: FutureWarning: Passing (type, 1) or '1type' as a synonym of type is deprecated; in a future version of numpy, it will be understood as (type, (1,)) / '(1,)type'.\n",
      "  _np_qint16 = np.dtype([(\"qint16\", np.int16, 1)])\n",
      "C:\\Users\\humbe\\anaconda3\\envs\\CVNLP\\lib\\site-packages\\tensorflow\\python\\framework\\dtypes.py:526: FutureWarning: Passing (type, 1) or '1type' as a synonym of type is deprecated; in a future version of numpy, it will be understood as (type, (1,)) / '(1,)type'.\n",
      "  _np_quint16 = np.dtype([(\"quint16\", np.uint16, 1)])\n",
      "C:\\Users\\humbe\\anaconda3\\envs\\CVNLP\\lib\\site-packages\\tensorflow\\python\\framework\\dtypes.py:527: FutureWarning: Passing (type, 1) or '1type' as a synonym of type is deprecated; in a future version of numpy, it will be understood as (type, (1,)) / '(1,)type'.\n",
      "  _np_qint32 = np.dtype([(\"qint32\", np.int32, 1)])\n",
      "C:\\Users\\humbe\\anaconda3\\envs\\CVNLP\\lib\\site-packages\\tensorflow\\python\\framework\\dtypes.py:532: FutureWarning: Passing (type, 1) or '1type' as a synonym of type is deprecated; in a future version of numpy, it will be understood as (type, (1,)) / '(1,)type'.\n",
      "  np_resource = np.dtype([(\"resource\", np.ubyte, 1)])\n"
     ]
    }
   ],
   "source": [
    "from IPython.display import display\n",
    "import IPython\n",
    "import numpy as np\n",
    "import matplotlib.pyplot as plt\n",
    "import pandas as pd\n",
    "#!conda install -c anaconda scipy\n",
    "import scipy as sp\n",
    "import sklearn as skl\n",
    "%matplotlib notebook\n",
    "%matplotlib inline\n",
    "import tensorflow as tf\n",
    "import nltk\n",
    "import mglearn as mglearn\n",
    "from tensorflow import keras\n",
    "from tensorflow.keras import datasets, layers, models\n",
    "import re\n",
    "import urllib.request\n",
    "from tensorflow.keras.preprocessing.text import Tokenizer\n",
    "from tensorflow.keras.preprocessing.sequence import pad_sequences\n",
    "import spacy\n",
    "from tqdm import tqdm"
   ]
  },
  {
   "cell_type": "markdown",
   "metadata": {},
   "source": [
    "# 관련 함수"
   ]
  },
  {
   "cell_type": "code",
   "execution_count": 2,
   "metadata": {},
   "outputs": [
    {
     "name": "stderr",
     "output_type": "stream",
     "text": [
      "Using TensorFlow backend.\n"
     ]
    }
   ],
   "source": [
    "from keras import backend as K\n",
    "\n",
    "def recall_m(y_true, y_pred):\n",
    "    true_positives  = K.sum(K.round(K.clip(y_true * y_pred, 0, 1)))\n",
    "    possibles_positives = K.sum(K.round(K.clip(y_true * y_pred, 0, 1)))\n",
    "    recall = true_positives / (possibles_positives + K.epsilon())\n",
    "    return recall\n",
    "\n",
    "def precision_m(y_true, y_pred):\n",
    "    true_positives  = K.sum(K.round(K.clip(y_true * y_pred, 0, 1)))\n",
    "    predicted_positives = K.sum(K.round(K.clip(y_pred, 0, 1)))\n",
    "    precision = true_positives / (predicted_positives + K.epsilon())\n",
    "    return precision\n",
    "\n",
    "def roc_auc(predictions, target):\n",
    "    tg, pr, thsld = metrics.roc_curve(target, predictions)\n",
    "    roc_auc = metrics.auc(tg, pr)\n",
    "    return roc_auc"
   ]
  },
  {
   "cell_type": "markdown",
   "metadata": {},
   "source": [
    "# 전처리 과정 스페인어"
   ]
  },
  {
   "cell_type": "code",
   "execution_count": 3,
   "metadata": {},
   "outputs": [],
   "source": [
    "def preprocessing(df_x,col):\n",
    "    df_x[col] = df_x.apply(lambda x: re.sub('[^a-zA-Z]+', ' ', x[col]), axis=1)\n",
    "    df_x[col] = df_x.apply(lambda x: x[col].lower(),axis=1)\n",
    "    return df_x"
   ]
  },
  {
   "cell_type": "code",
   "execution_count": 4,
   "metadata": {},
   "outputs": [
    {
     "name": "stderr",
     "output_type": "stream",
     "text": [
      "C:\\Users\\humbe\\anaconda3\\envs\\CVNLP\\lib\\site-packages\\openpyxl\\worksheet\\_reader.py:312: UserWarning: Unknown extension is not supported and will be removed\n",
      "  warn(msg)\n"
     ]
    },
    {
     "data": {
      "text/plain": [
       "(12746, 4)"
      ]
     },
     "execution_count": 4,
     "metadata": {},
     "output_type": "execute_result"
    }
   ],
   "source": [
    "df_1 = pd.read_excel('df_test.xlsx', engine='openpyxl')\n",
    "df_2 = pd.read_excel('복사본 df_glori(15183).xlsx', engine='openpyxl')\n",
    "df_2 = df_2[['Unnamed: 1','Comment']]\n",
    "df_3 = pd.read_excel('finished_df_julio.xlsx', engine='openpyxl')\n",
    "df_3 = df_3[['Unnamed: 1','Comment']]\n",
    "df_spanish = pd.concat([df_1,df_2,df_3],axis=0)\n",
    "df_spanish = df_spanish.dropna()\n",
    "#df_prepro.to_excel('df_prepro.xlsx')\n",
    "df_spanish = pd.read_excel('df_prepro.xlsx', engine='openpyxl')\n",
    "\n",
    "df_spanish['Sentiment'] = df_spanish['Emotion']\n",
    "df_spanish['Sentiment'] = df_spanish['Sentiment'].map({1:'Negative',2:'Negative',3:'Negative',\n",
    "                                                     5:'Positive',6:'Positive',7:'Negative',\n",
    "                                                     4:'Positive',8:'Negative'})\n",
    "\n",
    "df_spanish['Comment'] = df_spanish['Comment'].astype('str')\n",
    "df_spanish = preprocessing(df_spanish, 'Comment')\n",
    "\n",
    "from nltk.corpus import stopwords\n",
    "stop = stopwords.words('spanish')\n",
    "df_spanish['tokens'] = df_spanish['Comment'].apply(lambda x: ' '.join([word for word in x.split() if word not in (stop)]))\n",
    "\n",
    "df_spanish.dropna(inplace=True)\n",
    "\n",
    "df_spanish.drop(df_spanish[df_spanish['tokens'].str.len() <= 5].index.tolist(), inplace=True)\n",
    "df_spanish.drop('Unnamed: 0', inplace=True, axis=1)\n",
    "df_spanish.shape"
   ]
  },
  {
   "cell_type": "code",
   "execution_count": 5,
   "metadata": {},
   "outputs": [],
   "source": [
    "df_spanish = df_spanish.rename(columns = {'Comment': 'clean_text', 'Sentiment': 'category'})"
   ]
  },
  {
   "cell_type": "code",
   "execution_count": 6,
   "metadata": {},
   "outputs": [
    {
     "data": {
      "text/plain": [
       "Index(['Emotion', 'clean_text', 'category', 'tokens'], dtype='object')"
      ]
     },
     "execution_count": 6,
     "metadata": {},
     "output_type": "execute_result"
    }
   ],
   "source": [
    "df_spanish.columns"
   ]
  },
  {
   "cell_type": "code",
   "execution_count": 7,
   "metadata": {},
   "outputs": [
    {
     "data": {
      "text/html": [
       "<div>\n",
       "<style scoped>\n",
       "    .dataframe tbody tr th:only-of-type {\n",
       "        vertical-align: middle;\n",
       "    }\n",
       "\n",
       "    .dataframe tbody tr th {\n",
       "        vertical-align: top;\n",
       "    }\n",
       "\n",
       "    .dataframe thead th {\n",
       "        text-align: right;\n",
       "    }\n",
       "</style>\n",
       "<table border=\"1\" class=\"dataframe\">\n",
       "  <thead>\n",
       "    <tr style=\"text-align: right;\">\n",
       "      <th></th>\n",
       "      <th>clean_text</th>\n",
       "      <th>category</th>\n",
       "      <th>tokens</th>\n",
       "    </tr>\n",
       "  </thead>\n",
       "  <tbody>\n",
       "    <tr>\n",
       "      <th>1104</th>\n",
       "      <td>no creo que este ligado el aumento de femicidi...</td>\n",
       "      <td>Negative</td>\n",
       "      <td>creo ligado aumento femicidios militancia femi...</td>\n",
       "    </tr>\n",
       "    <tr>\n",
       "      <th>1105</th>\n",
       "      <td>tengan en consideraci n que agust n laje es to...</td>\n",
       "      <td>Positive</td>\n",
       "      <td>consideraci n agust n laje todav joven quiero ...</td>\n",
       "    </tr>\n",
       "    <tr>\n",
       "      <th>1106</th>\n",
       "      <td>estos se ores son dignos de escuchar se aprend...</td>\n",
       "      <td>Positive</td>\n",
       "      <td>ores dignos escuchar aprende</td>\n",
       "    </tr>\n",
       "    <tr>\n",
       "      <th>1107</th>\n",
       "      <td>me gustar a ver a este agustin debatir a zizek</td>\n",
       "      <td>Positive</td>\n",
       "      <td>gustar ver agustin debatir zizek</td>\n",
       "    </tr>\n",
       "  </tbody>\n",
       "</table>\n",
       "</div>"
      ],
      "text/plain": [
       "                                             clean_text  category  \\\n",
       "1104  no creo que este ligado el aumento de femicidi...  Negative   \n",
       "1105  tengan en consideraci n que agust n laje es to...  Positive   \n",
       "1106  estos se ores son dignos de escuchar se aprend...  Positive   \n",
       "1107    me gustar a ver a este agustin debatir a zizek   Positive   \n",
       "\n",
       "                                                 tokens  \n",
       "1104  creo ligado aumento femicidios militancia femi...  \n",
       "1105  consideraci n agust n laje todav joven quiero ...  \n",
       "1106                       ores dignos escuchar aprende  \n",
       "1107                   gustar ver agustin debatir zizek  "
      ]
     },
     "execution_count": 7,
     "metadata": {},
     "output_type": "execute_result"
    }
   ],
   "source": [
    "df_spanish[['clean_text', 'category', 'tokens']].iloc[1100:1104]"
   ]
  },
  {
   "cell_type": "code",
   "execution_count": 8,
   "metadata": {},
   "outputs": [
    {
     "data": {
      "text/plain": [
       "Emotion       0\n",
       "clean_text    0\n",
       "category      0\n",
       "tokens        0\n",
       "dtype: int64"
      ]
     },
     "execution_count": 8,
     "metadata": {},
     "output_type": "execute_result"
    }
   ],
   "source": [
    "df_spanish.isnull().sum()"
   ]
  },
  {
   "cell_type": "markdown",
   "metadata": {},
   "source": [
    "# 전 처리 과정 영어"
   ]
  },
  {
   "cell_type": "code",
   "execution_count": 9,
   "metadata": {},
   "outputs": [
    {
     "data": {
      "text/plain": [
       "(19988, 3)"
      ]
     },
     "execution_count": 9,
     "metadata": {},
     "output_type": "execute_result"
    }
   ],
   "source": [
    "df_english = pd.read_csv('./english dataset/Twitter_Data.csv')\n",
    "\n",
    "df_english = df_english.drop(df_english[df_english['category']==0.0].index.tolist())\n",
    "df_english['category'].value_counts(), len(df_english)\n",
    "\n",
    "df_positive = df_english[df_english['category']==1].iloc[:10000]\n",
    "df_negative = df_english[df_english['category']==-1].iloc[:10000]\n",
    "df_english = pd.concat([df_positive, df_negative], axis=0)\n",
    "\n",
    "df_english['category'] = df_english['category'].map({1.0:'Positive', -1.0:'Negative'})\n",
    "\n",
    "from nltk.corpus import stopwords\n",
    "stop = stopwords.words('english')\n",
    "df_english['tokens'] = df_english['clean_text'].apply(lambda x: ' '.join([word for word in x.split() if word not in (stop)]))\n",
    "\n",
    "df_english.drop(df_english[df_english['tokens'].str.len() <= 5].index.tolist(), inplace=True)\n",
    "\n",
    "df_english.shape"
   ]
  },
  {
   "cell_type": "code",
   "execution_count": 10,
   "metadata": {},
   "outputs": [],
   "source": [
    "dummy = pd.get_dummies(df_english['category'], drop_first = True)\n",
    "df_english = pd.concat([dummy,df_english],axis=1)"
   ]
  },
  {
   "cell_type": "code",
   "execution_count": 11,
   "metadata": {},
   "outputs": [
    {
     "data": {
      "text/html": [
       "<div>\n",
       "<style scoped>\n",
       "    .dataframe tbody tr th:only-of-type {\n",
       "        vertical-align: middle;\n",
       "    }\n",
       "\n",
       "    .dataframe tbody tr th {\n",
       "        vertical-align: top;\n",
       "    }\n",
       "\n",
       "    .dataframe thead th {\n",
       "        text-align: right;\n",
       "    }\n",
       "</style>\n",
       "<table border=\"1\" class=\"dataframe\">\n",
       "  <thead>\n",
       "    <tr style=\"text-align: right;\">\n",
       "      <th></th>\n",
       "      <th>clean_text</th>\n",
       "      <th>category</th>\n",
       "      <th>tokens</th>\n",
       "    </tr>\n",
       "  </thead>\n",
       "  <tbody>\n",
       "    <tr>\n",
       "      <th>2</th>\n",
       "      <td>what did just say vote for modi  welcome bjp t...</td>\n",
       "      <td>Positive</td>\n",
       "      <td>say vote modi welcome bjp told rahul main camp...</td>\n",
       "    </tr>\n",
       "    <tr>\n",
       "      <th>3</th>\n",
       "      <td>asking his supporters prefix chowkidar their n...</td>\n",
       "      <td>Positive</td>\n",
       "      <td>asking supporters prefix chowkidar names modi ...</td>\n",
       "    </tr>\n",
       "    <tr>\n",
       "      <th>4</th>\n",
       "      <td>answer who among these the most powerful world...</td>\n",
       "      <td>Positive</td>\n",
       "      <td>answer among powerful world leader today trump...</td>\n",
       "    </tr>\n",
       "    <tr>\n",
       "      <th>8</th>\n",
       "      <td>with upcoming election india saga going import...</td>\n",
       "      <td>Positive</td>\n",
       "      <td>upcoming election india saga going important p...</td>\n",
       "    </tr>\n",
       "    <tr>\n",
       "      <th>9</th>\n",
       "      <td>gandhi was gay does modi</td>\n",
       "      <td>Positive</td>\n",
       "      <td>gandhi gay modi</td>\n",
       "    </tr>\n",
       "    <tr>\n",
       "      <th>10</th>\n",
       "      <td>things like demonetisation gst goods and servi...</td>\n",
       "      <td>Positive</td>\n",
       "      <td>things like demonetisation gst goods services ...</td>\n",
       "    </tr>\n",
       "    <tr>\n",
       "      <th>11</th>\n",
       "      <td>hope tuthukudi people would prefer honest well...</td>\n",
       "      <td>Positive</td>\n",
       "      <td>hope tuthukudi people would prefer honest well...</td>\n",
       "    </tr>\n",
       "    <tr>\n",
       "      <th>12</th>\n",
       "      <td>calm waters wheres the modi wave</td>\n",
       "      <td>Positive</td>\n",
       "      <td>calm waters wheres modi wave</td>\n",
       "    </tr>\n",
       "    <tr>\n",
       "      <th>18</th>\n",
       "      <td>dont play with the words was talking about the...</td>\n",
       "      <td>Positive</td>\n",
       "      <td>dont play words talking modi swamy relation gu...</td>\n",
       "    </tr>\n",
       "    <tr>\n",
       "      <th>20</th>\n",
       "      <td>was the one who recently said that people who ...</td>\n",
       "      <td>Positive</td>\n",
       "      <td>one recently said people vote modi anti nation...</td>\n",
       "    </tr>\n",
       "  </tbody>\n",
       "</table>\n",
       "</div>"
      ],
      "text/plain": [
       "                                           clean_text  category  \\\n",
       "2   what did just say vote for modi  welcome bjp t...  Positive   \n",
       "3   asking his supporters prefix chowkidar their n...  Positive   \n",
       "4   answer who among these the most powerful world...  Positive   \n",
       "8   with upcoming election india saga going import...  Positive   \n",
       "9                          gandhi was gay does modi    Positive   \n",
       "10  things like demonetisation gst goods and servi...  Positive   \n",
       "11  hope tuthukudi people would prefer honest well...  Positive   \n",
       "12                  calm waters wheres the modi wave   Positive   \n",
       "18  dont play with the words was talking about the...  Positive   \n",
       "20  was the one who recently said that people who ...  Positive   \n",
       "\n",
       "                                               tokens  \n",
       "2   say vote modi welcome bjp told rahul main camp...  \n",
       "3   asking supporters prefix chowkidar names modi ...  \n",
       "4   answer among powerful world leader today trump...  \n",
       "8   upcoming election india saga going important p...  \n",
       "9                                     gandhi gay modi  \n",
       "10  things like demonetisation gst goods services ...  \n",
       "11  hope tuthukudi people would prefer honest well...  \n",
       "12                       calm waters wheres modi wave  \n",
       "18  dont play words talking modi swamy relation gu...  \n",
       "20  one recently said people vote modi anti nation...  "
      ]
     },
     "execution_count": 11,
     "metadata": {},
     "output_type": "execute_result"
    }
   ],
   "source": [
    "df_english[['clean_text', 'category', 'tokens']].head(10)"
   ]
  },
  {
   "cell_type": "code",
   "execution_count": 12,
   "metadata": {},
   "outputs": [
    {
     "data": {
      "text/plain": [
       "Negative    9997\n",
       "Positive    9991\n",
       "Name: category, dtype: int64"
      ]
     },
     "execution_count": 12,
     "metadata": {},
     "output_type": "execute_result"
    }
   ],
   "source": [
    "df_english['category'].value_counts()"
   ]
  },
  {
   "cell_type": "markdown",
   "metadata": {},
   "source": [
    "# 스페인어 모델 준비"
   ]
  },
  {
   "cell_type": "code",
   "execution_count": 13,
   "metadata": {},
   "outputs": [],
   "source": [
    "df_s = df_spanish\n",
    "df_s = df_s.sample(frac=1).reset_index(drop=True)"
   ]
  },
  {
   "cell_type": "code",
   "execution_count": 14,
   "metadata": {},
   "outputs": [
    {
     "data": {
      "text/html": [
       "<div>\n",
       "<style scoped>\n",
       "    .dataframe tbody tr th:only-of-type {\n",
       "        vertical-align: middle;\n",
       "    }\n",
       "\n",
       "    .dataframe tbody tr th {\n",
       "        vertical-align: top;\n",
       "    }\n",
       "\n",
       "    .dataframe thead th {\n",
       "        text-align: right;\n",
       "    }\n",
       "</style>\n",
       "<table border=\"1\" class=\"dataframe\">\n",
       "  <thead>\n",
       "    <tr style=\"text-align: right;\">\n",
       "      <th></th>\n",
       "      <th>clean_text</th>\n",
       "      <th>category</th>\n",
       "      <th>tokens</th>\n",
       "    </tr>\n",
       "  </thead>\n",
       "  <tbody>\n",
       "    <tr>\n",
       "      <th>0</th>\n",
       "      <td>yo ni dure minutos de video y ya llore soy dem...</td>\n",
       "      <td>Negative</td>\n",
       "      <td>dure minutos video llore demasiado sensible</td>\n",
       "    </tr>\n",
       "    <tr>\n",
       "      <th>1</th>\n",
       "      <td>me hico llorar hace a os mi papito se fue de l...</td>\n",
       "      <td>Negative</td>\n",
       "      <td>hico llorar hace papito casa extra hoy cumplea...</td>\n",
       "    </tr>\n",
       "    <tr>\n",
       "      <th>2</th>\n",
       "      <td>me alegre al tan solo ver que subiste video li...</td>\n",
       "      <td>Positive</td>\n",
       "      <td>alegre tan solo ver subiste video like si pien...</td>\n",
       "    </tr>\n",
       "    <tr>\n",
       "      <th>3</th>\n",
       "      <td>nosotros no fuimos una estrella la biblia dice...</td>\n",
       "      <td>Positive</td>\n",
       "      <td>estrella biblia dice dios form hombre barro polvo</td>\n",
       "    </tr>\n",
       "    <tr>\n",
       "      <th>4</th>\n",
       "      <td>titulo esta canci n te pondr feliz de inmediat...</td>\n",
       "      <td>Negative</td>\n",
       "      <td>titulo canci n pondr feliz inmediato despu s e...</td>\n",
       "    </tr>\n",
       "    <tr>\n",
       "      <th>5</th>\n",
       "      <td>porfa asme feliz mi mama me odio</td>\n",
       "      <td>Positive</td>\n",
       "      <td>porfa asme feliz mama odio</td>\n",
       "    </tr>\n",
       "    <tr>\n",
       "      <th>6</th>\n",
       "      <td>la dra chinda sabe de lo que esta hablando y d...</td>\n",
       "      <td>Negative</td>\n",
       "      <td>dra chinda sabe hablando deja argumentos ignor...</td>\n",
       "    </tr>\n",
       "    <tr>\n",
       "      <th>7</th>\n",
       "      <td>la verdad no me genera nada</td>\n",
       "      <td>Negative</td>\n",
       "      <td>verdad genera</td>\n",
       "    </tr>\n",
       "    <tr>\n",
       "      <th>8</th>\n",
       "      <td>que br gido el v deo de la ni a lo que m s me ...</td>\n",
       "      <td>Negative</td>\n",
       "      <td>br gido v deo m s llama atenci n nadie ayuda m...</td>\n",
       "    </tr>\n",
       "    <tr>\n",
       "      <th>9</th>\n",
       "      <td>el mundo necesita a mas gente como tu cosmo gr...</td>\n",
       "      <td>Positive</td>\n",
       "      <td>mundo necesita mas gente cosmo gracias hacerme...</td>\n",
       "    </tr>\n",
       "    <tr>\n",
       "      <th>10</th>\n",
       "      <td>uy me hiciste la vida con este video tp</td>\n",
       "      <td>Positive</td>\n",
       "      <td>uy hiciste vida video tp</td>\n",
       "    </tr>\n",
       "    <tr>\n",
       "      <th>11</th>\n",
       "      <td>ya llore con la primera</td>\n",
       "      <td>Negative</td>\n",
       "      <td>llore primera</td>\n",
       "    </tr>\n",
       "    <tr>\n",
       "      <th>12</th>\n",
       "      <td>y aqu estoy yo viendo esos videos que jam s de...</td>\n",
       "      <td>Positive</td>\n",
       "      <td>aqu viendo videos jam s deber ver</td>\n",
       "    </tr>\n",
       "    <tr>\n",
       "      <th>13</th>\n",
       "      <td>buen video</td>\n",
       "      <td>Positive</td>\n",
       "      <td>buen video</td>\n",
       "    </tr>\n",
       "    <tr>\n",
       "      <th>14</th>\n",
       "      <td>si me hizo sentirme un poco mas feliz gracias ...</td>\n",
       "      <td>Positive</td>\n",
       "      <td>si hizo sentirme mas feliz gracias subio video</td>\n",
       "    </tr>\n",
       "  </tbody>\n",
       "</table>\n",
       "</div>"
      ],
      "text/plain": [
       "                                           clean_text  category  \\\n",
       "0   yo ni dure minutos de video y ya llore soy dem...  Negative   \n",
       "1   me hico llorar hace a os mi papito se fue de l...  Negative   \n",
       "2   me alegre al tan solo ver que subiste video li...  Positive   \n",
       "3   nosotros no fuimos una estrella la biblia dice...  Positive   \n",
       "4   titulo esta canci n te pondr feliz de inmediat...  Negative   \n",
       "5                    porfa asme feliz mi mama me odio  Positive   \n",
       "6   la dra chinda sabe de lo que esta hablando y d...  Negative   \n",
       "7                        la verdad no me genera nada   Negative   \n",
       "8   que br gido el v deo de la ni a lo que m s me ...  Negative   \n",
       "9   el mundo necesita a mas gente como tu cosmo gr...  Positive   \n",
       "10            uy me hiciste la vida con este video tp  Positive   \n",
       "11                           ya llore con la primera   Negative   \n",
       "12  y aqu estoy yo viendo esos videos que jam s de...  Positive   \n",
       "13                                        buen video   Positive   \n",
       "14  si me hizo sentirme un poco mas feliz gracias ...  Positive   \n",
       "\n",
       "                                               tokens  \n",
       "0         dure minutos video llore demasiado sensible  \n",
       "1   hico llorar hace papito casa extra hoy cumplea...  \n",
       "2   alegre tan solo ver subiste video like si pien...  \n",
       "3   estrella biblia dice dios form hombre barro polvo  \n",
       "4   titulo canci n pondr feliz inmediato despu s e...  \n",
       "5                          porfa asme feliz mama odio  \n",
       "6   dra chinda sabe hablando deja argumentos ignor...  \n",
       "7                                       verdad genera  \n",
       "8   br gido v deo m s llama atenci n nadie ayuda m...  \n",
       "9   mundo necesita mas gente cosmo gracias hacerme...  \n",
       "10                           uy hiciste vida video tp  \n",
       "11                                      llore primera  \n",
       "12                  aqu viendo videos jam s deber ver  \n",
       "13                                         buen video  \n",
       "14     si hizo sentirme mas feliz gracias subio video  "
      ]
     },
     "execution_count": 14,
     "metadata": {},
     "output_type": "execute_result"
    }
   ],
   "source": [
    "df_s[['clean_text','category','tokens']].head(15)"
   ]
  },
  {
   "cell_type": "code",
   "execution_count": 15,
   "metadata": {},
   "outputs": [
    {
     "name": "stdout",
     "output_type": "stream",
     "text": [
      "Before Tokenization\n",
      "uy me hiciste la vida con este video tp\n",
      "39\n",
      "\n",
      "After Tokenization\n",
      "uy hiciste vida video tp\n",
      "24\n"
     ]
    }
   ],
   "source": [
    "print('Before Tokenization')\n",
    "print(df_s.loc[10,'clean_text'])\n",
    "print(len(df_s.loc[10,'clean_text']))\n",
    "print()\n",
    "print('After Tokenization')\n",
    "print(df_s.loc[10,'tokens'])\n",
    "print(len(df_s.loc[10,'tokens']))"
   ]
  },
  {
   "cell_type": "code",
   "execution_count": 16,
   "metadata": {},
   "outputs": [],
   "source": [
    "from sklearn.model_selection import train_test_split"
   ]
  },
  {
   "cell_type": "code",
   "execution_count": 17,
   "metadata": {},
   "outputs": [
    {
     "name": "stdout",
     "output_type": "stream",
     "text": [
      "Before Tokenization & Padding \n",
      " dure minutos video llore demasiado sensible\n",
      "After Tokenization & Padding \n",
      " [208   5   8 379  76   0   0   0   0   0   0   0   0   0   0   0   0   0\n",
      "   0   0   0   0   0   0   0   0   0   0   0   0   0   0   0   0   0   0\n",
      "   0   0   0   0   0   0   0   0   0   0   0   0   0   0]\n"
     ]
    }
   ],
   "source": [
    "from keras.preprocessing.text import Tokenizer\n",
    "from keras.preprocessing.sequence import pad_sequences\n",
    "\n",
    "max_words = 2500\n",
    "max_len=50\n",
    "\n",
    "def tokenize_pad_sequences(text):\n",
    "    '''\n",
    "    This function tokenize the input text into sequnences of intergers and then\n",
    "    pad each sequence to the same length\n",
    "    '''\n",
    "    # Text tokenization\n",
    "    tokenizer = Tokenizer(num_words=max_words, lower=True, split=' ')\n",
    "    tokenizer.fit_on_texts(text)\n",
    "    # Transforms text to a sequence of integers\n",
    "    X_spanish = tokenizer.texts_to_sequences(text)\n",
    "    # Pad sequences to the same length\n",
    "    X_spanish = pad_sequences(X_spanish, padding='post', maxlen=max_len)\n",
    "    # return sequences\n",
    "    return X_spanish, tokenizer\n",
    "\n",
    "print('Before Tokenization & Padding \\n', df_s['tokens'][0])\n",
    "X_spanish, tokenizer = tokenize_pad_sequences(df_s['tokens'])\n",
    "print('After Tokenization & Padding \\n', X_spanish[0])"
   ]
  },
  {
   "cell_type": "code",
   "execution_count": 17,
   "metadata": {},
   "outputs": [],
   "source": [
    "# Convert categorical variable into dummy/indicator variables.\n",
    "y_spanish = pd.get_dummies(df_s['category'], drop_first=True)\n",
    "# Train and Test split\n",
    "X_train_s, X_test_s,y_train_s, y_test_s = train_test_split(X_spanish, y_spanish, test_size = 0.10, random_state = 42)\n",
    "#X_valid_s, X_test_s,y_valid_s, y_test_s = train_test_split(X_test_s, y_test_s, test_size = 0.3, random_state = 42)\n",
    "\n",
    "# Extracting validation set from the train set\n",
    "#valid_size=1000\n",
    "#X_valid_s, y_valid_s = X_train_s[-valid_size:], y_train_s[-valid_size:]\n",
    "#X_test_s, y_test_s = X_train_s[:-valid_size], y_train_s[:-valid_size]\n",
    "\n",
    "#print('Train Set ->', X_train_s.shape, y_train_s.shape)\n",
    "#print('Validation Set ->', X_valid_s.shape, y_valid_s.shape)\n",
    "#print('Test Set ->', X_test_s.shape, y_test_s.shape)"
   ]
  },
  {
   "cell_type": "code",
   "execution_count": null,
   "metadata": {},
   "outputs": [],
   "source": []
  },
  {
   "cell_type": "code",
   "execution_count": 18,
   "metadata": {},
   "outputs": [
    {
     "data": {
      "text/plain": [
       "(11471, 50)"
      ]
     },
     "execution_count": 18,
     "metadata": {},
     "output_type": "execute_result"
    }
   ],
   "source": [
    "X_train_s.shape"
   ]
  },
  {
   "cell_type": "code",
   "execution_count": 23,
   "metadata": {},
   "outputs": [
    {
     "name": "stdout",
     "output_type": "stream",
     "text": [
      "_________________________________________________________________\n",
      "Layer (type)                 Output Shape              Param #   \n",
      "=================================================================\n",
      "embedding_4 (Embedding)      (None, 50, 32)            160000    \n",
      "_________________________________________________________________\n",
      "batch_normalization_3 (Batch (None, 50, 32)            128       \n",
      "_________________________________________________________________\n",
      "dropout_5 (Dropout)          (None, 50, 32)            0         \n",
      "_________________________________________________________________\n",
      "lstm_4 (LSTM)                (None, 64)                24832     \n",
      "_________________________________________________________________\n",
      "batch_normalization_4 (Batch (None, 64)                256       \n",
      "_________________________________________________________________\n",
      "dropout_6 (Dropout)          (None, 64)                0         \n",
      "_________________________________________________________________\n",
      "dense_4 (Dense)              (None, 1)                 65        \n",
      "=================================================================\n",
      "Total params: 185,281\n",
      "Trainable params: 185,089\n",
      "Non-trainable params: 192\n",
      "_________________________________________________________________\n",
      "None\n"
     ]
    }
   ],
   "source": [
    "from keras.models import Sequential\n",
    "from keras.layers import Embedding, LSTM, Dense, Dropout, BatchNormalization, Dropout\n",
    "\n",
    "vocab_size = 5000\n",
    "embedding_size = 32\n",
    "\n",
    "# Build model\n",
    "model1 = Sequential()\n",
    "\n",
    "model1.add(Embedding(vocab_size, embedding_size, input_length=max_len))\n",
    "model1.add(BatchNormalization())\n",
    "model1.add(Dropout(0.2))\n",
    "\n",
    "model1.add(LSTM(64))\n",
    "model1.add(BatchNormalization())\n",
    "model1.add(Dropout(0.2))\n",
    "\n",
    "model1.add(Dense(1, activation='sigmoid'))\n",
    "\n",
    "print(model1.summary())\n",
    "\n",
    "# Compile model\n",
    "model1.compile(optimizer='adam', loss='binary_crossentropy', metrics=['accuracy', precision_m, recall_m])\n",
    "\n",
    "\n",
    "# Train model\n",
    "num_epochs = 20\n",
    "batch_size = 32"
   ]
  },
  {
   "cell_type": "code",
   "execution_count": 20,
   "metadata": {},
   "outputs": [
    {
     "name": "stdout",
     "output_type": "stream",
     "text": [
      "_________________________________________________________________\n",
      "Layer (type)                 Output Shape              Param #   \n",
      "=================================================================\n",
      "embedding_1 (Embedding)      (None, 50, 32)            160000    \n",
      "_________________________________________________________________\n",
      "lstm_1 (LSTM)                (None, 32)                8320      \n",
      "_________________________________________________________________\n",
      "dropout_1 (Dropout)          (None, 32)                0         \n",
      "_________________________________________________________________\n",
      "dense_1 (Dense)              (None, 1)                 33        \n",
      "=================================================================\n",
      "Total params: 168,353\n",
      "Trainable params: 168,353\n",
      "Non-trainable params: 0\n",
      "_________________________________________________________________\n"
     ]
    }
   ],
   "source": [
    "model1.summary()"
   ]
  },
  {
   "cell_type": "code",
   "execution_count": 68,
   "metadata": {},
   "outputs": [
    {
     "name": "stdout",
     "output_type": "stream",
     "text": [
      "Train on 10292 samples, validate on 542 samples\n",
      "Epoch 1/20\n",
      "10292/10292 [==============================] - 287s 28ms/step - loss: 0.7757 - acc: 0.5371 - val_loss: 0.7820 - val_acc: 0.3506\n",
      "Epoch 2/20\n",
      "10292/10292 [==============================] - 287s 28ms/step - loss: 0.6017 - acc: 0.6815 - val_loss: 0.6125 - val_acc: 0.6808\n",
      "Epoch 3/20\n",
      "10292/10292 [==============================] - 295s 29ms/step - loss: 0.5325 - acc: 0.7312 - val_loss: 0.5795 - val_acc: 0.6956\n",
      "Epoch 4/20\n",
      "10292/10292 [==============================] - 306s 30ms/step - loss: 0.5215 - acc: 0.7447 - val_loss: 0.5804 - val_acc: 0.7159\n",
      "Epoch 5/20\n",
      "10292/10292 [==============================] - 307s 30ms/step - loss: 0.4700 - acc: 0.7740 - val_loss: 0.6105 - val_acc: 0.7122\n",
      "Epoch 6/20\n",
      "10292/10292 [==============================] - 305s 30ms/step - loss: 0.4357 - acc: 0.7954 - val_loss: 0.5432 - val_acc: 0.7232\n",
      "Epoch 7/20\n",
      "10292/10292 [==============================] - 297s 29ms/step - loss: 0.4093 - acc: 0.8056 - val_loss: 0.5134 - val_acc: 0.7380\n",
      "Epoch 8/20\n",
      "10292/10292 [==============================] - 295s 29ms/step - loss: 0.3854 - acc: 0.8182 - val_loss: 0.5750 - val_acc: 0.7435\n",
      "Epoch 9/20\n",
      "10292/10292 [==============================] - 258s 25ms/step - loss: 0.3672 - acc: 0.8248 - val_loss: 0.6247 - val_acc: 0.7177\n",
      "Epoch 10/20\n",
      "10292/10292 [==============================] - 251s 24ms/step - loss: 0.3487 - acc: 0.8315 - val_loss: 0.6362 - val_acc: 0.7103\n",
      "Epoch 11/20\n",
      "10292/10292 [==============================] - 251s 24ms/step - loss: 0.3227 - acc: 0.8516 - val_loss: 0.7111 - val_acc: 0.7103\n",
      "Epoch 12/20\n",
      "10292/10292 [==============================] - 251s 24ms/step - loss: 0.3148 - acc: 0.8552 - val_loss: 0.6900 - val_acc: 0.7343\n",
      "Epoch 13/20\n",
      "10292/10292 [==============================] - 251s 24ms/step - loss: 0.2967 - acc: 0.8668 - val_loss: 0.7533 - val_acc: 0.6845\n",
      "Epoch 14/20\n",
      "10292/10292 [==============================] - 251s 24ms/step - loss: 0.2890 - acc: 0.8697 - val_loss: 0.8185 - val_acc: 0.7196\n",
      "Epoch 15/20\n",
      "10292/10292 [==============================] - 252s 25ms/step - loss: 0.2705 - acc: 0.8780 - val_loss: 0.7570 - val_acc: 0.6974\n",
      "Epoch 16/20\n",
      "10292/10292 [==============================] - 252s 24ms/step - loss: 0.2545 - acc: 0.8868 - val_loss: 0.7669 - val_acc: 0.7122\n",
      "Epoch 17/20\n",
      "10292/10292 [==============================] - 252s 25ms/step - loss: 0.2428 - acc: 0.8938 - val_loss: 0.9160 - val_acc: 0.6974\n",
      "Epoch 18/20\n",
      "10292/10292 [==============================] - 253s 25ms/step - loss: 0.2333 - acc: 0.9021 - val_loss: 1.0224 - val_acc: 0.7122\n",
      "Epoch 19/20\n",
      "10292/10292 [==============================] - 250s 24ms/step - loss: 0.2132 - acc: 0.9133 - val_loss: 1.0231 - val_acc: 0.6808\n",
      "Epoch 20/20\n",
      "10292/10292 [==============================] - 251s 24ms/step - loss: 0.2085 - acc: 0.9141 - val_loss: 0.9413 - val_acc: 0.7085\n"
     ]
    },
    {
     "data": {
      "text/plain": [
       "<keras.callbacks.History at 0x26f34ece7b8>"
      ]
     },
     "execution_count": 68,
     "metadata": {},
     "output_type": "execute_result"
    }
   ],
   "source": [
    "#model1.fit(X_train_s, y_train_s, validation_data=(X_valid_s, y_valid_s),batch_size=batch_size, epochs=num_epochs, verbose=1)\n",
    "model1.fit(X_train_s, y_train_s, validation_split=0.05, batch_size=batch_size, epochs=num_epochs, verbose=1)"
   ]
  },
  {
   "cell_type": "code",
   "execution_count": 69,
   "metadata": {},
   "outputs": [],
   "source": [
    "df_history = pd.DataFrame(model1.history.history)"
   ]
  },
  {
   "cell_type": "code",
   "execution_count": 70,
   "metadata": {},
   "outputs": [
    {
     "data": {
      "text/plain": [
       "<matplotlib.axes._subplots.AxesSubplot at 0x26f35606c50>"
      ]
     },
     "execution_count": 70,
     "metadata": {},
     "output_type": "execute_result"
    },
    {
     "data": {
      "image/png": "[encoded data removed]",
      "text/plain": [
       "<Figure size 432x288 with 1 Axes>"
      ]
     },
     "metadata": {
      "needs_background": "light"
     },
     "output_type": "display_data"
    }
   ],
   "source": [
    "df_history[['val_acc', 'acc', 'val_loss', 'loss']].plot()"
   ]
  },
  {
   "cell_type": "code",
   "execution_count": 41,
   "metadata": {},
   "outputs": [
    {
     "data": {
      "text/plain": [
       "Text(0.5,1,'LSTM Model Performance Results for Spanish')"
      ]
     },
     "execution_count": 41,
     "metadata": {},
     "output_type": "execute_result"
    },
    {
     "data": {
      "text/plain": [
       "<Figure size 432x288 with 0 Axes>"
      ]
     },
     "metadata": {},
     "output_type": "display_data"
    },
    {
     "data": {
      "image/png": "[encoded data removed]",
      "text/plain": [
       "<Figure size 432x288 with 1 Axes>"
      ]
     },
     "metadata": {
      "needs_background": "light"
     },
     "output_type": "display_data"
    }
   ],
   "source": [
    "plt.figure()\n",
    "df_history[['val_acc', 'acc',\n",
    "       'precision_m', 'recall_m']].plot()\n",
    "plt.title('LSTM Model Performance Results for Spanish')"
   ]
  },
  {
   "cell_type": "code",
   "execution_count": 42,
   "metadata": {},
   "outputs": [
    {
     "data": {
      "image/png": "[encoded data removed]",
      "text/plain": [
       "<Figure size 432x288 with 1 Axes>"
      ]
     },
     "metadata": {
      "needs_background": "light"
     },
     "output_type": "display_data"
    },
    {
     "data": {
      "image/png": "[encoded data removed]",
      "text/plain": [
       "<Figure size 432x288 with 1 Axes>"
      ]
     },
     "metadata": {
      "needs_background": "light"
     },
     "output_type": "display_data"
    },
    {
     "data": {
      "image/png": "[encoded data removed]",
      "text/plain": [
       "<Figure size 432x288 with 1 Axes>"
      ]
     },
     "metadata": {
      "needs_background": "light"
     },
     "output_type": "display_data"
    }
   ],
   "source": [
    "for i in ['acc', 'precision_m', 'recall_m']:\n",
    "    acc = model1.history.history[i]\n",
    "    val_acc = model1.history.history['val_{}'.format(i)]\n",
    "    epochs = range(1, len(acc) + 1)\n",
    "    \n",
    "    plt.figure()\n",
    "    plt.plot(epochs, acc, label='Training Accuracy')\n",
    "    plt.plot(epochs, val_acc, label='Test Accuracy')\n",
    "    plt.title('Results for {} Spanish'.format(i))\n",
    "    plt.legend()\n",
    "    plt.show()"
   ]
  },
  {
   "cell_type": "markdown",
   "metadata": {},
   "source": [
    "# 영어 모델 준비"
   ]
  },
  {
   "cell_type": "code",
   "execution_count": 16,
   "metadata": {},
   "outputs": [],
   "source": [
    "df_e = df_english"
   ]
  },
  {
   "cell_type": "code",
   "execution_count": 17,
   "metadata": {},
   "outputs": [
    {
     "data": {
      "text/html": [
       "<div>\n",
       "<style scoped>\n",
       "    .dataframe tbody tr th:only-of-type {\n",
       "        vertical-align: middle;\n",
       "    }\n",
       "\n",
       "    .dataframe tbody tr th {\n",
       "        vertical-align: top;\n",
       "    }\n",
       "\n",
       "    .dataframe thead th {\n",
       "        text-align: right;\n",
       "    }\n",
       "</style>\n",
       "<table border=\"1\" class=\"dataframe\">\n",
       "  <thead>\n",
       "    <tr style=\"text-align: right;\">\n",
       "      <th></th>\n",
       "      <th>Positive</th>\n",
       "      <th>clean_text</th>\n",
       "      <th>category</th>\n",
       "      <th>tokens</th>\n",
       "    </tr>\n",
       "  </thead>\n",
       "  <tbody>\n",
       "    <tr>\n",
       "      <th>2</th>\n",
       "      <td>1</td>\n",
       "      <td>what did just say vote for modi  welcome bjp t...</td>\n",
       "      <td>Positive</td>\n",
       "      <td>say vote modi welcome bjp told rahul main camp...</td>\n",
       "    </tr>\n",
       "    <tr>\n",
       "      <th>3</th>\n",
       "      <td>1</td>\n",
       "      <td>asking his supporters prefix chowkidar their n...</td>\n",
       "      <td>Positive</td>\n",
       "      <td>asking supporters prefix chowkidar names modi ...</td>\n",
       "    </tr>\n",
       "    <tr>\n",
       "      <th>4</th>\n",
       "      <td>1</td>\n",
       "      <td>answer who among these the most powerful world...</td>\n",
       "      <td>Positive</td>\n",
       "      <td>answer among powerful world leader today trump...</td>\n",
       "    </tr>\n",
       "    <tr>\n",
       "      <th>8</th>\n",
       "      <td>1</td>\n",
       "      <td>with upcoming election india saga going import...</td>\n",
       "      <td>Positive</td>\n",
       "      <td>upcoming election india saga going important p...</td>\n",
       "    </tr>\n",
       "    <tr>\n",
       "      <th>9</th>\n",
       "      <td>1</td>\n",
       "      <td>gandhi was gay does modi</td>\n",
       "      <td>Positive</td>\n",
       "      <td>gandhi gay modi</td>\n",
       "    </tr>\n",
       "    <tr>\n",
       "      <th>10</th>\n",
       "      <td>1</td>\n",
       "      <td>things like demonetisation gst goods and servi...</td>\n",
       "      <td>Positive</td>\n",
       "      <td>things like demonetisation gst goods services ...</td>\n",
       "    </tr>\n",
       "    <tr>\n",
       "      <th>11</th>\n",
       "      <td>1</td>\n",
       "      <td>hope tuthukudi people would prefer honest well...</td>\n",
       "      <td>Positive</td>\n",
       "      <td>hope tuthukudi people would prefer honest well...</td>\n",
       "    </tr>\n",
       "    <tr>\n",
       "      <th>12</th>\n",
       "      <td>1</td>\n",
       "      <td>calm waters wheres the modi wave</td>\n",
       "      <td>Positive</td>\n",
       "      <td>calm waters wheres modi wave</td>\n",
       "    </tr>\n",
       "    <tr>\n",
       "      <th>18</th>\n",
       "      <td>1</td>\n",
       "      <td>dont play with the words was talking about the...</td>\n",
       "      <td>Positive</td>\n",
       "      <td>dont play words talking modi swamy relation gu...</td>\n",
       "    </tr>\n",
       "    <tr>\n",
       "      <th>20</th>\n",
       "      <td>1</td>\n",
       "      <td>was the one who recently said that people who ...</td>\n",
       "      <td>Positive</td>\n",
       "      <td>one recently said people vote modi anti nation...</td>\n",
       "    </tr>\n",
       "  </tbody>\n",
       "</table>\n",
       "</div>"
      ],
      "text/plain": [
       "    Positive                                         clean_text  category  \\\n",
       "2          1  what did just say vote for modi  welcome bjp t...  Positive   \n",
       "3          1  asking his supporters prefix chowkidar their n...  Positive   \n",
       "4          1  answer who among these the most powerful world...  Positive   \n",
       "8          1  with upcoming election india saga going import...  Positive   \n",
       "9          1                         gandhi was gay does modi    Positive   \n",
       "10         1  things like demonetisation gst goods and servi...  Positive   \n",
       "11         1  hope tuthukudi people would prefer honest well...  Positive   \n",
       "12         1                  calm waters wheres the modi wave   Positive   \n",
       "18         1  dont play with the words was talking about the...  Positive   \n",
       "20         1  was the one who recently said that people who ...  Positive   \n",
       "\n",
       "                                               tokens  \n",
       "2   say vote modi welcome bjp told rahul main camp...  \n",
       "3   asking supporters prefix chowkidar names modi ...  \n",
       "4   answer among powerful world leader today trump...  \n",
       "8   upcoming election india saga going important p...  \n",
       "9                                     gandhi gay modi  \n",
       "10  things like demonetisation gst goods services ...  \n",
       "11  hope tuthukudi people would prefer honest well...  \n",
       "12                       calm waters wheres modi wave  \n",
       "18  dont play words talking modi swamy relation gu...  \n",
       "20  one recently said people vote modi anti nation...  "
      ]
     },
     "execution_count": 17,
     "metadata": {},
     "output_type": "execute_result"
    }
   ],
   "source": [
    "df_e.head(10)"
   ]
  },
  {
   "cell_type": "code",
   "execution_count": 20,
   "metadata": {},
   "outputs": [],
   "source": [
    "from sklearn.model_selection import train_test_split"
   ]
  },
  {
   "cell_type": "code",
   "execution_count": 21,
   "metadata": {},
   "outputs": [
    {
     "name": "stdout",
     "output_type": "stream",
     "text": [
      "Before Tokenization & Padding \n",
      " when modi promised “minimum government maximum governance” expected him begin the difficult job reforming the state why does take years get justice state should and not business and should exit psus and temples\n",
      "After Tokenization & Padding \n",
      " [  25   66   40  100   36    4    1 1222   20  500    5   37    2  509\n",
      " 3075    4    1   97    1   61   40 4032    0    0    0    0    0    0\n",
      "    0    0    0    0    0    0    0    0    0    0    0    0    0    0\n",
      "    0    0    0    0    0    0    0    0]\n"
     ]
    }
   ],
   "source": [
    "from keras.preprocessing.text import Tokenizer\n",
    "from keras.preprocessing.sequence import pad_sequences\n",
    "\n",
    "max_words = 5000\n",
    "max_len=50\n",
    "\n",
    "def tokenize_pad_sequences(text):\n",
    "    '''\n",
    "    This function tokenize the input text into sequnences of intergers and then\n",
    "    pad each sequence to the same length\n",
    "    '''\n",
    "    # Text tokenization\n",
    "    tokenizer = Tokenizer(num_words=max_words, lower=True, split=' ')\n",
    "    tokenizer.fit_on_texts(text)\n",
    "    # Transforms text to a sequence of integers\n",
    "    X_english = tokenizer.texts_to_sequences(text)\n",
    "    # Pad sequences to the same length\n",
    "    X_english = pad_sequences(X_english, padding='post', maxlen=max_len)\n",
    "    # return sequences\n",
    "    return X_english, tokenizer\n",
    "\n",
    "print('Before Tokenization & Padding \\n', df_e['clean_text'][0])\n",
    "X_english, tokenizer = tokenize_pad_sequences(df_e['clean_text'])\n",
    "print('After Tokenization & Padding \\n', X_english[0])"
   ]
  },
  {
   "cell_type": "code",
   "execution_count": 22,
   "metadata": {},
   "outputs": [
    {
     "name": "stdout",
     "output_type": "stream",
     "text": [
      "Train Set -> (13991, 50) (13991, 1)\n",
      "Validation Set -> (1000, 50) (1000, 1)\n",
      "Test Set -> (12991, 50) (12991, 1)\n"
     ]
    }
   ],
   "source": [
    "# Convert categorical variable into dummy/indicator variables.\n",
    "y_english = pd.get_dummies(df_e['category'], drop_first=True)\n",
    "# Train and Test split\n",
    "X_train_e, X_test_e,y_train_e, y_test_e = train_test_split(X_english, y_english, test_size = 0.3, random_state = 42)\n",
    "# Extracting validation set from the train set\n",
    "valid_size=1000\n",
    "X_valid_e, y_valid_e = X_train_e[-valid_size:], y_train_e[-valid_size:]\n",
    "X_test_e, y_test_e = X_train_e[:-valid_size], y_train_e[:-valid_size]\n",
    "\n",
    "print('Train Set ->', X_train_e.shape, y_train_e.shape)\n",
    "print('Validation Set ->', X_valid_e.shape, y_valid_e.shape)\n",
    "print('Test Set ->', X_test_e.shape, y_test_e.shape)"
   ]
  },
  {
   "cell_type": "code",
   "execution_count": 23,
   "metadata": {},
   "outputs": [
    {
     "name": "stdout",
     "output_type": "stream",
     "text": [
      "_________________________________________________________________\n",
      "Layer (type)                 Output Shape              Param #   \n",
      "=================================================================\n",
      "embedding_2 (Embedding)      (None, 50, 32)            160000    \n",
      "_________________________________________________________________\n",
      "lstm_2 (LSTM)                (None, 32)                8320      \n",
      "_________________________________________________________________\n",
      "dropout_2 (Dropout)          (None, 32)                0         \n",
      "_________________________________________________________________\n",
      "dense_2 (Dense)              (None, 1)                 33        \n",
      "=================================================================\n",
      "Total params: 168,353\n",
      "Trainable params: 168,353\n",
      "Non-trainable params: 0\n",
      "_________________________________________________________________\n",
      "None\n"
     ]
    }
   ],
   "source": [
    "from keras.models import Sequential\n",
    "from keras.layers import Embedding, LSTM, Dense, Dropout\n",
    "\n",
    "vocab_size = 5000\n",
    "embedding_size = 32\n",
    "\n",
    "# Build model\n",
    "model1 = Sequential()\n",
    "model1.add(Embedding(vocab_size, embedding_size, input_length=max_len))\n",
    "model1.add(LSTM(32))\n",
    "model1.add(Dropout(0.4))\n",
    "model1.add(Dense(1, activation='sigmoid'))\n",
    "\n",
    "print(model1.summary())\n",
    "\n",
    "# Compile model\n",
    "model1.compile(optimizer='adam', loss='binary_crossentropy', metrics=['accuracy', precision_m, recall_m])\n",
    "\n",
    "\n",
    "# Train model\n",
    "num_epochs = 20\n",
    "batch_size = 32"
   ]
  },
  {
   "cell_type": "code",
   "execution_count": 24,
   "metadata": {
    "scrolled": true
   },
   "outputs": [
    {
     "name": "stdout",
     "output_type": "stream",
     "text": [
      "Train on 13991 samples, validate on 1000 samples\n",
      "Epoch 1/20\n",
      "13991/13991 [==============================] - 17s 1ms/step - loss: 0.6934 - acc: 0.4993 - precision_m: 0.4714 - recall_m: 0.8971 - val_loss: 0.6935 - val_acc: 0.4820 - val_precision_m: 0.0000e+00 - val_recall_m: 0.0000e+00\n",
      "Epoch 2/20\n",
      "13991/13991 [==============================] - 16s 1ms/step - loss: 0.6934 - acc: 0.4976 - precision_m: 0.4544 - recall_m: 0.8353 - val_loss: 0.6930 - val_acc: 0.5180 - val_precision_m: 0.5180 - val_recall_m: 1.0000\n",
      "Epoch 3/20\n",
      "13991/13991 [==============================] - 16s 1ms/step - loss: 0.6892 - acc: 0.5213 - precision_m: 0.4754 - recall_m: 0.8513 - val_loss: 0.6837 - val_acc: 0.5460 - val_precision_m: 0.5332 - val_recall_m: 1.0000\n",
      "Epoch 4/20\n",
      "13991/13991 [==============================] - 16s 1ms/step - loss: 0.6472 - acc: 0.6396 - precision_m: 0.7026 - recall_m: 0.9954 - val_loss: 0.6181 - val_acc: 0.6940 - val_precision_m: 0.6592 - val_recall_m: 1.0000\n",
      "Epoch 5/20\n",
      "13991/13991 [==============================] - 17s 1ms/step - loss: 0.6251 - acc: 0.6740 - precision_m: 0.7232 - recall_m: 1.0000 - val_loss: 0.6229 - val_acc: 0.6580 - val_precision_m: 0.8221 - val_recall_m: 1.0000\n",
      "Epoch 6/20\n",
      "13991/13991 [==============================] - 16s 1ms/step - loss: 0.6196 - acc: 0.6564 - precision_m: 0.8446 - recall_m: 1.0000 - val_loss: 0.6029 - val_acc: 0.6690 - val_precision_m: 0.8680 - val_recall_m: 1.0000\n",
      "Epoch 7/20\n",
      "13991/13991 [==============================] - 17s 1ms/step - loss: 0.6113 - acc: 0.6708 - precision_m: 0.8594 - recall_m: 0.9972 - val_loss: 0.6185 - val_acc: 0.6540 - val_precision_m: 0.8335 - val_recall_m: 0.9920\n",
      "Epoch 8/20\n",
      "13991/13991 [==============================] - 16s 1ms/step - loss: 0.5699 - acc: 0.7285 - precision_m: 0.8041 - recall_m: 1.0000 - val_loss: 0.4484 - val_acc: 0.8110 - val_precision_m: 0.8312 - val_recall_m: 1.0000\n",
      "Epoch 9/20\n",
      "13991/13991 [==============================] - 16s 1ms/step - loss: 0.4162 - acc: 0.8221 - precision_m: 0.8312 - recall_m: 1.0000 - val_loss: 0.2689 - val_acc: 0.9100 - val_precision_m: 0.9328 - val_recall_m: 1.0000\n",
      "Epoch 10/20\n",
      "13991/13991 [==============================] - 16s 1ms/step - loss: 0.2783 - acc: 0.8966 - precision_m: 0.9025 - recall_m: 1.0000 - val_loss: 0.1687 - val_acc: 0.9510 - val_precision_m: 0.9498 - val_recall_m: 1.0000\n",
      "Epoch 11/20\n",
      "13991/13991 [==============================] - 16s 1ms/step - loss: 0.1902 - acc: 0.9385 - precision_m: 0.9408 - recall_m: 1.0000 - val_loss: 0.1250 - val_acc: 0.9700 - val_precision_m: 0.9763 - val_recall_m: 1.0000\n",
      "Epoch 12/20\n",
      "13991/13991 [==============================] - 16s 1ms/step - loss: 0.1457 - acc: 0.9576 - precision_m: 0.9590 - recall_m: 1.0000 - val_loss: 0.0965 - val_acc: 0.9860 - val_precision_m: 0.9885 - val_recall_m: 1.0000\n",
      "Epoch 13/20\n",
      "13991/13991 [==============================] - 17s 1ms/step - loss: 0.1114 - acc: 0.9699 - precision_m: 0.9714 - recall_m: 1.0000 - val_loss: 0.0559 - val_acc: 0.9880 - val_precision_m: 0.9840 - val_recall_m: 1.0000\n",
      "Epoch 14/20\n",
      "13991/13991 [==============================] - 16s 1ms/step - loss: 0.0937 - acc: 0.9760 - precision_m: 0.9771 - recall_m: 1.0000 - val_loss: 0.0454 - val_acc: 0.9900 - val_precision_m: 0.9844 - val_recall_m: 1.0000\n",
      "Epoch 15/20\n",
      "13991/13991 [==============================] - 17s 1ms/step - loss: 0.0779 - acc: 0.9812 - precision_m: 0.9811 - recall_m: 1.0000 - val_loss: 0.0449 - val_acc: 0.9910 - val_precision_m: 0.9910 - val_recall_m: 1.0000\n",
      "Epoch 16/20\n",
      "13991/13991 [==============================] - 16s 1ms/step - loss: 0.0645 - acc: 0.9847 - precision_m: 0.9848 - recall_m: 1.0000 - val_loss: 0.0406 - val_acc: 0.9880 - val_precision_m: 0.9809 - val_recall_m: 1.0000\n",
      "Epoch 17/20\n",
      "13991/13991 [==============================] - 16s 1ms/step - loss: 0.0672 - acc: 0.9844 - precision_m: 0.9843 - recall_m: 1.0000 - val_loss: 0.0307 - val_acc: 0.9950 - val_precision_m: 0.9965 - val_recall_m: 1.0000\n",
      "Epoch 18/20\n",
      "13991/13991 [==============================] - 16s 1ms/step - loss: 0.0582 - acc: 0.9879 - precision_m: 0.9882 - recall_m: 1.0000 - val_loss: 0.0277 - val_acc: 0.9960 - val_precision_m: 0.9964 - val_recall_m: 1.0000\n",
      "Epoch 19/20\n",
      "13991/13991 [==============================] - 17s 1ms/step - loss: 0.0530 - acc: 0.9895 - precision_m: 0.9891 - recall_m: 1.0000 - val_loss: 0.0333 - val_acc: 0.9930 - val_precision_m: 0.9899 - val_recall_m: 1.0000\n",
      "Epoch 20/20\n",
      "13991/13991 [==============================] - 17s 1ms/step - loss: 0.0484 - acc: 0.9901 - precision_m: 0.9902 - recall_m: 1.0000 - val_loss: 0.0257 - val_acc: 0.9960 - val_precision_m: 0.9983 - val_recall_m: 1.0000\n"
     ]
    },
    {
     "data": {
      "text/plain": [
       "<keras.callbacks.History at 0x23202289780>"
      ]
     },
     "execution_count": 24,
     "metadata": {},
     "output_type": "execute_result"
    }
   ],
   "source": [
    "model1.fit(X_train_e, y_train_e, validation_data=(X_valid_e, y_valid_e),batch_size=batch_size, epochs=num_epochs, verbose=1)"
   ]
  },
  {
   "cell_type": "code",
   "execution_count": 37,
   "metadata": {},
   "outputs": [],
   "source": [
    "df_history = pd.DataFrame(model1.history.history)"
   ]
  },
  {
   "cell_type": "code",
   "execution_count": 45,
   "metadata": {},
   "outputs": [
    {
     "data": {
      "text/plain": [
       "Text(0.5,1,'LSTM Model Performance Results for English')"
      ]
     },
     "execution_count": 45,
     "metadata": {},
     "output_type": "execute_result"
    },
    {
     "data": {
      "text/plain": [
       "<Figure size 432x288 with 0 Axes>"
      ]
     },
     "metadata": {},
     "output_type": "display_data"
    },
    {
     "data": {
      "image/png": "[encoded data removed]",
      "text/plain": [
       "<Figure size 432x288 with 1 Axes>"
      ]
     },
     "metadata": {
      "needs_background": "light"
     },
     "output_type": "display_data"
    }
   ],
   "source": [
    "plt.figure()\n",
    "df_history[['val_acc', 'acc',\n",
    "       'precision_m', 'recall_m']].plot()\n",
    "plt.title('LSTM Model Performance Results for English')"
   ]
  },
  {
   "cell_type": "code",
   "execution_count": 25,
   "metadata": {},
   "outputs": [
    {
     "data": {
      "image/png": "[encoded data removed]",
      "text/plain": [
       "<Figure size 432x288 with 1 Axes>"
      ]
     },
     "metadata": {
      "needs_background": "light"
     },
     "output_type": "display_data"
    },
    {
     "data": {
      "image/png": "[encoded data removed]",
      "text/plain": [
       "<Figure size 432x288 with 1 Axes>"
      ]
     },
     "metadata": {
      "needs_background": "light"
     },
     "output_type": "display_data"
    },
    {
     "data": {
      "image/png": "[encoded data removed]",
      "text/plain": [
       "<Figure size 432x288 with 1 Axes>"
      ]
     },
     "metadata": {
      "needs_background": "light"
     },
     "output_type": "display_data"
    }
   ],
   "source": [
    "for i in ['acc', 'precision_m', 'recall_m']:\n",
    "    acc = model1.history.history[i]\n",
    "    val_acc = model1.history.history['val_{}'.format(i)]\n",
    "    epochs = range(1, len(acc) + 1)\n",
    "    \n",
    "    plt.figure()\n",
    "    plt.plot(epochs, acc, label='Training Accuracy')\n",
    "    plt.plot(epochs, val_acc, label='Test Accuracy')\n",
    "    plt.title('Results for {} English'.format(i))\n",
    "    plt.legend()\n",
    "    plt.show()"
   ]
  },
  {
   "cell_type": "markdown",
   "metadata": {},
   "source": [
    "# 다른 모델 분석 스페인어"
   ]
  },
  {
   "cell_type": "code",
   "execution_count": 26,
   "metadata": {},
   "outputs": [],
   "source": [
    "from sklearn.metrics import classification_report, confusion_matrix"
   ]
  },
  {
   "cell_type": "code",
   "execution_count": 27,
   "metadata": {},
   "outputs": [
    {
     "name": "stderr",
     "output_type": "stream",
     "text": [
      "C:\\Users\\humbe\\anaconda3\\envs\\CVNLP\\lib\\site-packages\\sklearn\\ensemble\\weight_boosting.py:29: DeprecationWarning: numpy.core.umath_tests is an internal NumPy module and should not be imported. It will be removed in a future NumPy release.\n",
      "  from numpy.core.umath_tests import inner1d\n",
      "C:\\Users\\humbe\\anaconda3\\envs\\CVNLP\\lib\\site-packages\\ipykernel_launcher.py:4: DataConversionWarning: A column-vector y was passed when a 1d array was expected. Please change the shape of y to (n_samples,), for example using ravel().\n",
      "  after removing the cwd from sys.path.\n"
     ]
    },
    {
     "name": "stdout",
     "output_type": "stream",
     "text": [
      "[[4421   16]\n",
      " [  33 3452]]\n",
      "\n",
      "\n",
      "             precision    recall  f1-score   support\n",
      "\n",
      "          0       0.99      1.00      0.99      4437\n",
      "          1       1.00      0.99      0.99      3485\n",
      "\n",
      "avg / total       0.99      0.99      0.99      7922\n",
      "\n"
     ]
    }
   ],
   "source": [
    "from sklearn.ensemble import RandomForestClassifier\n",
    "\n",
    "rfc = RandomForestClassifier(n_estimators=200)\n",
    "rfc.fit(X_train_s, y_train_s)\n",
    "rfc_pred = rfc.predict(X_test_s)\n",
    "print(confusion_matrix(y_test_s, rfc_pred))\n",
    "print('\\n')\n",
    "print(classification_report(y_test_s,rfc_pred))"
   ]
  },
  {
   "cell_type": "code",
   "execution_count": 28,
   "metadata": {},
   "outputs": [
    {
     "name": "stderr",
     "output_type": "stream",
     "text": [
      "C:\\Users\\humbe\\anaconda3\\envs\\CVNLP\\lib\\site-packages\\sklearn\\utils\\validation.py:578: DataConversionWarning: A column-vector y was passed when a 1d array was expected. Please change the shape of y to (n_samples, ), for example using ravel().\n",
      "  y = column_or_1d(y, warn=True)\n"
     ]
    },
    {
     "name": "stdout",
     "output_type": "stream",
     "text": [
      "[[4401   36]\n",
      " [  53 3432]]\n",
      "\n",
      "\n",
      "             precision    recall  f1-score   support\n",
      "\n",
      "          0       0.99      0.99      0.99      4437\n",
      "          1       0.99      0.98      0.99      3485\n",
      "\n",
      "avg / total       0.99      0.99      0.99      7922\n",
      "\n"
     ]
    }
   ],
   "source": [
    "from sklearn.svm import SVC\n",
    "model_svc = SVC(C=100, cache_size=200, class_weight=None, coef0=0.0,\n",
    "  decision_function_shape='ovr', degree=3, gamma=0.001, kernel='rbf',\n",
    "  max_iter=-1, probability=False, random_state=None, shrinking=True,\n",
    "  tol=0.001, verbose=False)\n",
    "\n",
    "model_svc.fit(X_train_s, y_train_s)\n",
    "svc_pred = model_svc.predict(X_test_s)\n",
    "print(confusion_matrix(y_test_s, svc_pred))\n",
    "print('\\n')\n",
    "print(classification_report(y_test_s,svc_pred))"
   ]
  },
  {
   "cell_type": "code",
   "execution_count": 29,
   "metadata": {},
   "outputs": [
    {
     "name": "stdout",
     "output_type": "stream",
     "text": [
      "[[4421   16]\n",
      " [  33 3452]]\n",
      "\n",
      "\n",
      "             precision    recall  f1-score   support\n",
      "\n",
      "          0       0.99      1.00      0.99      4437\n",
      "          1       1.00      0.99      0.99      3485\n",
      "\n",
      "avg / total       0.99      0.99      0.99      7922\n",
      "\n"
     ]
    }
   ],
   "source": [
    "from sklearn.naive_bayes import GaussianNB \n",
    "\n",
    "gnb = GaussianNB()\n",
    "gnb.fit(X_train_s, y_train_s)\n",
    "gnb_pred = rfc.predict(X_test_s)\n",
    "print(confusion_matrix(y_test_s, gnb_pred))\n",
    "print('\\n')\n",
    "print(classification_report(y_test_s,gnb_pred))"
   ]
  },
  {
   "cell_type": "code",
   "execution_count": 30,
   "metadata": {},
   "outputs": [
    {
     "name": "stdout",
     "output_type": "stream",
     "text": [
      "[[4421   16]\n",
      " [  33 3452]]\n",
      "\n",
      "\n",
      "             precision    recall  f1-score   support\n",
      "\n",
      "          0       0.99      1.00      0.99      4437\n",
      "          1       1.00      0.99      0.99      3485\n",
      "\n",
      "avg / total       0.99      0.99      0.99      7922\n",
      "\n"
     ]
    }
   ],
   "source": [
    "from sklearn.ensemble import GradientBoostingClassifier\n",
    "\n",
    "gbc = GradientBoostingClassifier()\n",
    "gbc.fit(X_train_s, y_train_s)\n",
    "gbc_pred = rfc.predict(X_test_s)\n",
    "print(confusion_matrix(y_test_s, gbc_pred))\n",
    "print('\\n')\n",
    "print(classification_report(y_test_s,gbc_pred))"
   ]
  },
  {
   "cell_type": "markdown",
   "metadata": {},
   "source": [
    "# 다른 모델 분석 영어"
   ]
  },
  {
   "cell_type": "code",
   "execution_count": 31,
   "metadata": {},
   "outputs": [],
   "source": [
    "from sklearn.metrics import classification_report, confusion_matrix"
   ]
  },
  {
   "cell_type": "code",
   "execution_count": 32,
   "metadata": {},
   "outputs": [
    {
     "name": "stderr",
     "output_type": "stream",
     "text": [
      "C:\\Users\\humbe\\anaconda3\\envs\\CVNLP\\lib\\site-packages\\ipykernel_launcher.py:4: DataConversionWarning: A column-vector y was passed when a 1d array was expected. Please change the shape of y to (n_samples,), for example using ravel().\n",
      "  after removing the cwd from sys.path.\n"
     ]
    },
    {
     "name": "stdout",
     "output_type": "stream",
     "text": [
      "[[6537    0]\n",
      " [   0 6454]]\n",
      "\n",
      "\n",
      "             precision    recall  f1-score   support\n",
      "\n",
      "          0       1.00      1.00      1.00      6537\n",
      "          1       1.00      1.00      1.00      6454\n",
      "\n",
      "avg / total       1.00      1.00      1.00     12991\n",
      "\n"
     ]
    }
   ],
   "source": [
    "from sklearn.ensemble import RandomForestClassifier\n",
    "\n",
    "rfc = RandomForestClassifier(n_estimators=200)\n",
    "rfc.fit(X_train_e, y_train_e)\n",
    "rfc_pred = rfc.predict(X_test_e)\n",
    "print(confusion_matrix(y_test_e, rfc_pred))\n",
    "print('\\n')\n",
    "print(classification_report(y_test_e,rfc_pred))"
   ]
  },
  {
   "cell_type": "code",
   "execution_count": 33,
   "metadata": {},
   "outputs": [
    {
     "name": "stderr",
     "output_type": "stream",
     "text": [
      "C:\\Users\\humbe\\anaconda3\\envs\\CVNLP\\lib\\site-packages\\sklearn\\utils\\validation.py:578: DataConversionWarning: A column-vector y was passed when a 1d array was expected. Please change the shape of y to (n_samples, ), for example using ravel().\n",
      "  y = column_or_1d(y, warn=True)\n"
     ]
    },
    {
     "name": "stdout",
     "output_type": "stream",
     "text": [
      "[[6537    0]\n",
      " [   0 6454]]\n",
      "\n",
      "\n",
      "             precision    recall  f1-score   support\n",
      "\n",
      "          0       1.00      1.00      1.00      6537\n",
      "          1       1.00      1.00      1.00      6454\n",
      "\n",
      "avg / total       1.00      1.00      1.00     12991\n",
      "\n"
     ]
    }
   ],
   "source": [
    "from sklearn.svm import SVC\n",
    "model_svc = SVC(C=100, cache_size=200, class_weight=None, coef0=0.0,\n",
    "  decision_function_shape='ovr', degree=3, gamma=0.001, kernel='rbf',\n",
    "  max_iter=-1, probability=False, random_state=None, shrinking=True,\n",
    "  tol=0.001, verbose=False)\n",
    "\n",
    "model_svc.fit(X_train_e, y_train_e)\n",
    "svc_pred = model_svc.predict(X_test_e)\n",
    "print(confusion_matrix(y_test_e, svc_pred))\n",
    "print('\\n')\n",
    "print(classification_report(y_test_e,svc_pred))"
   ]
  },
  {
   "cell_type": "code",
   "execution_count": 34,
   "metadata": {},
   "outputs": [
    {
     "name": "stdout",
     "output_type": "stream",
     "text": [
      "[[6537    0]\n",
      " [   0 6454]]\n",
      "\n",
      "\n",
      "             precision    recall  f1-score   support\n",
      "\n",
      "          0       1.00      1.00      1.00      6537\n",
      "          1       1.00      1.00      1.00      6454\n",
      "\n",
      "avg / total       1.00      1.00      1.00     12991\n",
      "\n"
     ]
    }
   ],
   "source": [
    "from sklearn.naive_bayes import GaussianNB \n",
    "\n",
    "gnb = GaussianNB()\n",
    "gnb.fit(X_train_e, y_train_e)\n",
    "gnb_pred = rfc.predict(X_test_e)\n",
    "print(confusion_matrix(y_test_e, gnb_pred))\n",
    "print('\\n')\n",
    "print(classification_report(y_test_e,gnb_pred))"
   ]
  },
  {
   "cell_type": "code",
   "execution_count": 35,
   "metadata": {},
   "outputs": [
    {
     "name": "stdout",
     "output_type": "stream",
     "text": [
      "[[6537    0]\n",
      " [   0 6454]]\n",
      "\n",
      "\n",
      "             precision    recall  f1-score   support\n",
      "\n",
      "          0       1.00      1.00      1.00      6537\n",
      "          1       1.00      1.00      1.00      6454\n",
      "\n",
      "avg / total       1.00      1.00      1.00     12991\n",
      "\n"
     ]
    }
   ],
   "source": [
    "from sklearn.ensemble import GradientBoostingClassifier\n",
    "\n",
    "gbc = GradientBoostingClassifier()\n",
    "gbc.fit(X_train_e, y_train_e)\n",
    "gbc_pred = rfc.predict(X_test_e)\n",
    "print(confusion_matrix(y_test_e, gbc_pred))\n",
    "print('\\n')\n",
    "print(classification_report(y_test_e,gbc_pred))"
   ]
  },
  {
   "cell_type": "code",
   "execution_count": null,
   "metadata": {},
   "outputs": [],
   "source": []
  },
  {
   "cell_type": "code",
   "execution_count": null,
   "metadata": {},
   "outputs": [],
   "source": []
  }
 ],
 "metadata": {
  "kernelspec": {
   "display_name": "Python 3",
   "language": "python",
   "name": "python3"
  },
  "language_info": {
   "codemirror_mode": {
    "name": "ipython",
    "version": 3
   },
   "file_extension": ".py",
   "mimetype": "text/x-python",
   "name": "python",
   "nbconvert_exporter": "python",
   "pygments_lexer": "ipython3",
   "version": "3.6.6"
  }
 },
 "nbformat": 4,
 "nbformat_minor": 5
}
