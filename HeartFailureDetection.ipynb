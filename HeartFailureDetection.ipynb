{
 "cells": [
  {
   "cell_type": "code",
   "execution_count": 1,
   "metadata": {},
   "outputs": [],
   "source": [
    "import pandas as pd\n",
    "import numpy as np\n",
    "import matplotlib.pyplot as plt\n",
    "import seaborn as sns\n",
    "%matplotlib inline"
   ]
  },
  {
   "cell_type": "code",
   "execution_count": 2,
   "metadata": {},
   "outputs": [],
   "source": [
    "df = pd.read_csv('heart.csv')"
   ]
  },
  {
   "cell_type": "code",
   "execution_count": 3,
   "metadata": {},
   "outputs": [
    {
     "data": {
      "text/html": [
       "<div>\n",
       "<style scoped>\n",
       "    .dataframe tbody tr th:only-of-type {\n",
       "        vertical-align: middle;\n",
       "    }\n",
       "\n",
       "    .dataframe tbody tr th {\n",
       "        vertical-align: top;\n",
       "    }\n",
       "\n",
       "    .dataframe thead th {\n",
       "        text-align: right;\n",
       "    }\n",
       "</style>\n",
       "<table border=\"1\" class=\"dataframe\">\n",
       "  <thead>\n",
       "    <tr style=\"text-align: right;\">\n",
       "      <th></th>\n",
       "      <th>Age</th>\n",
       "      <th>Sex</th>\n",
       "      <th>ChestPainType</th>\n",
       "      <th>RestingBP</th>\n",
       "      <th>Cholesterol</th>\n",
       "      <th>FastingBS</th>\n",
       "      <th>RestingECG</th>\n",
       "      <th>MaxHR</th>\n",
       "      <th>ExerciseAngina</th>\n",
       "      <th>Oldpeak</th>\n",
       "      <th>ST_Slope</th>\n",
       "      <th>HeartDisease</th>\n",
       "    </tr>\n",
       "  </thead>\n",
       "  <tbody>\n",
       "    <tr>\n",
       "      <th>0</th>\n",
       "      <td>40</td>\n",
       "      <td>M</td>\n",
       "      <td>ATA</td>\n",
       "      <td>140</td>\n",
       "      <td>289</td>\n",
       "      <td>0</td>\n",
       "      <td>Normal</td>\n",
       "      <td>172</td>\n",
       "      <td>N</td>\n",
       "      <td>0.0</td>\n",
       "      <td>Up</td>\n",
       "      <td>0</td>\n",
       "    </tr>\n",
       "    <tr>\n",
       "      <th>1</th>\n",
       "      <td>49</td>\n",
       "      <td>F</td>\n",
       "      <td>NAP</td>\n",
       "      <td>160</td>\n",
       "      <td>180</td>\n",
       "      <td>0</td>\n",
       "      <td>Normal</td>\n",
       "      <td>156</td>\n",
       "      <td>N</td>\n",
       "      <td>1.0</td>\n",
       "      <td>Flat</td>\n",
       "      <td>1</td>\n",
       "    </tr>\n",
       "    <tr>\n",
       "      <th>2</th>\n",
       "      <td>37</td>\n",
       "      <td>M</td>\n",
       "      <td>ATA</td>\n",
       "      <td>130</td>\n",
       "      <td>283</td>\n",
       "      <td>0</td>\n",
       "      <td>ST</td>\n",
       "      <td>98</td>\n",
       "      <td>N</td>\n",
       "      <td>0.0</td>\n",
       "      <td>Up</td>\n",
       "      <td>0</td>\n",
       "    </tr>\n",
       "    <tr>\n",
       "      <th>3</th>\n",
       "      <td>48</td>\n",
       "      <td>F</td>\n",
       "      <td>ASY</td>\n",
       "      <td>138</td>\n",
       "      <td>214</td>\n",
       "      <td>0</td>\n",
       "      <td>Normal</td>\n",
       "      <td>108</td>\n",
       "      <td>Y</td>\n",
       "      <td>1.5</td>\n",
       "      <td>Flat</td>\n",
       "      <td>1</td>\n",
       "    </tr>\n",
       "    <tr>\n",
       "      <th>4</th>\n",
       "      <td>54</td>\n",
       "      <td>M</td>\n",
       "      <td>NAP</td>\n",
       "      <td>150</td>\n",
       "      <td>195</td>\n",
       "      <td>0</td>\n",
       "      <td>Normal</td>\n",
       "      <td>122</td>\n",
       "      <td>N</td>\n",
       "      <td>0.0</td>\n",
       "      <td>Up</td>\n",
       "      <td>0</td>\n",
       "    </tr>\n",
       "  </tbody>\n",
       "</table>\n",
       "</div>"
      ],
      "text/plain": [
       "   Age Sex ChestPainType  RestingBP  Cholesterol  FastingBS RestingECG  MaxHR  \\\n",
       "0   40   M           ATA        140          289          0     Normal    172   \n",
       "1   49   F           NAP        160          180          0     Normal    156   \n",
       "2   37   M           ATA        130          283          0         ST     98   \n",
       "3   48   F           ASY        138          214          0     Normal    108   \n",
       "4   54   M           NAP        150          195          0     Normal    122   \n",
       "\n",
       "  ExerciseAngina  Oldpeak ST_Slope  HeartDisease  \n",
       "0              N      0.0       Up             0  \n",
       "1              N      1.0     Flat             1  \n",
       "2              N      0.0       Up             0  \n",
       "3              Y      1.5     Flat             1  \n",
       "4              N      0.0       Up             0  "
      ]
     },
     "execution_count": 3,
     "metadata": {},
     "output_type": "execute_result"
    }
   ],
   "source": [
    "df.head()"
   ]
  },
  {
   "cell_type": "code",
   "execution_count": 4,
   "metadata": {},
   "outputs": [
    {
     "name": "stdout",
     "output_type": "stream",
     "text": [
      "<class 'pandas.core.frame.DataFrame'>\n",
      "RangeIndex: 918 entries, 0 to 917\n",
      "Data columns (total 12 columns):\n",
      "Age               918 non-null int64\n",
      "Sex               918 non-null object\n",
      "ChestPainType     918 non-null object\n",
      "RestingBP         918 non-null int64\n",
      "Cholesterol       918 non-null int64\n",
      "FastingBS         918 non-null int64\n",
      "RestingECG        918 non-null object\n",
      "MaxHR             918 non-null int64\n",
      "ExerciseAngina    918 non-null object\n",
      "Oldpeak           918 non-null float64\n",
      "ST_Slope          918 non-null object\n",
      "HeartDisease      918 non-null int64\n",
      "dtypes: float64(1), int64(6), object(5)\n",
      "memory usage: 86.2+ KB\n"
     ]
    }
   ],
   "source": [
    "df.info()"
   ]
  },
  {
   "cell_type": "code",
   "execution_count": 5,
   "metadata": {},
   "outputs": [
    {
     "data": {
      "text/plain": [
       "HeartDisease    1.000000\n",
       "Oldpeak         0.403951\n",
       "Age             0.282039\n",
       "FastingBS       0.267291\n",
       "RestingBP       0.107589\n",
       "Cholesterol    -0.232741\n",
       "MaxHR          -0.400421\n",
       "Name: HeartDisease, dtype: float64"
      ]
     },
     "execution_count": 5,
     "metadata": {},
     "output_type": "execute_result"
    }
   ],
   "source": [
    "df.corr()['HeartDisease'].sort_values(ascending=False)"
   ]
  },
  {
   "cell_type": "code",
   "execution_count": 6,
   "metadata": {},
   "outputs": [
    {
     "data": {
      "text/plain": [
       "Index(['Age', 'Sex', 'ChestPainType', 'RestingBP', 'Cholesterol', 'FastingBS',\n",
       "       'RestingECG', 'MaxHR', 'ExerciseAngina', 'Oldpeak', 'ST_Slope',\n",
       "       'HeartDisease'],\n",
       "      dtype='object')"
      ]
     },
     "execution_count": 6,
     "metadata": {},
     "output_type": "execute_result"
    }
   ],
   "source": [
    "df.columns"
   ]
  },
  {
   "cell_type": "code",
   "execution_count": 39,
   "metadata": {},
   "outputs": [
    {
     "data": {
      "text/plain": [
       "1    508\n",
       "0    410\n",
       "Name: HeartDisease, dtype: int64"
      ]
     },
     "execution_count": 39,
     "metadata": {},
     "output_type": "execute_result"
    }
   ],
   "source": [
    "df['HeartDisease'].value_counts()"
   ]
  },
  {
   "cell_type": "code",
   "execution_count": 7,
   "metadata": {},
   "outputs": [],
   "source": [
    "dummy_1 = pd.get_dummies(df[['ChestPainType','Sex','RestingECG','ExerciseAngina','ST_Slope']], drop_first=True)"
   ]
  },
  {
   "cell_type": "code",
   "execution_count": 8,
   "metadata": {},
   "outputs": [],
   "source": [
    "df = pd.concat([df,dummy_1], axis=1)\n",
    "df.drop(['ChestPainType','Sex','RestingECG','ExerciseAngina','ST_Slope'], axis=1, inplace=True)"
   ]
  },
  {
   "cell_type": "code",
   "execution_count": 9,
   "metadata": {},
   "outputs": [
    {
     "data": {
      "text/plain": [
       "Age                  0.282039\n",
       "RestingBP            0.107589\n",
       "Cholesterol         -0.232741\n",
       "FastingBS            0.267291\n",
       "MaxHR               -0.400421\n",
       "Oldpeak              0.403951\n",
       "HeartDisease         1.000000\n",
       "ChestPainType_ATA   -0.401924\n",
       "ChestPainType_NAP   -0.212964\n",
       "ChestPainType_TA    -0.054790\n",
       "Sex_M                0.305445\n",
       "RestingECG_Normal   -0.091580\n",
       "RestingECG_ST        0.102527\n",
       "ExerciseAngina_Y     0.494282\n",
       "ST_Slope_Flat        0.554134\n",
       "ST_Slope_Up         -0.622164\n",
       "Name: HeartDisease, dtype: float64"
      ]
     },
     "execution_count": 9,
     "metadata": {},
     "output_type": "execute_result"
    }
   ],
   "source": [
    "df.corr()['HeartDisease']"
   ]
  },
  {
   "cell_type": "code",
   "execution_count": 10,
   "metadata": {},
   "outputs": [
    {
     "data": {
      "text/plain": [
       "<matplotlib.axes._subplots.AxesSubplot at 0x23b3a684208>"
      ]
     },
     "execution_count": 10,
     "metadata": {},
     "output_type": "execute_result"
    },
    {
     "data": {
      "image/png": "[encoded data removed]",
      "text/plain": [
       "<Figure size 936x432 with 1 Axes>"
      ]
     },
     "metadata": {
      "needs_background": "light"
     },
     "output_type": "display_data"
    }
   ],
   "source": [
    "plt.figure(figsize=(13,6))\n",
    "df.corr()['HeartDisease'].plot()"
   ]
  },
  {
   "cell_type": "code",
   "execution_count": 11,
   "metadata": {},
   "outputs": [
    {
     "data": {
      "text/plain": [
       "(918, 16)"
      ]
     },
     "execution_count": 11,
     "metadata": {},
     "output_type": "execute_result"
    }
   ],
   "source": [
    "df.shape"
   ]
  },
  {
   "cell_type": "code",
   "execution_count": 12,
   "metadata": {},
   "outputs": [],
   "source": [
    "from sklearn.model_selection import train_test_split"
   ]
  },
  {
   "cell_type": "code",
   "execution_count": 13,
   "metadata": {},
   "outputs": [],
   "source": [
    "x = df.drop('HeartDisease', axis=1).values\n",
    "y = df['HeartDisease'].values"
   ]
  },
  {
   "cell_type": "code",
   "execution_count": 14,
   "metadata": {},
   "outputs": [],
   "source": [
    "X_train, X_test, y_train, y_test = train_test_split(x, y, test_size=0.20, random_state=101)"
   ]
  },
  {
   "cell_type": "code",
   "execution_count": 16,
   "metadata": {},
   "outputs": [],
   "source": [
    "from tensorflow.keras.callbacks import EarlyStopping, ModelCheckpoint, ReduceLROnPlateau "
   ]
  },
  {
   "cell_type": "code",
   "execution_count": 17,
   "metadata": {},
   "outputs": [],
   "source": [
    "model_checkpoint_callback = ModelCheckpoint(filepath='best_model.h5', save_weights_only=True,\n",
    "                                            monitor='val_acc', mode='max', save_best_only=True,verbose=1, )\n",
    "\n",
    "model_earlystopping_callback = EarlyStopping(monitor='val_loss', patience=2)\n",
    "\n",
    "model_plateau_callback = ReduceLROnPlateau(monitor='val_loss', patience=2)\n",
    "\n",
    "callback_list = [model_checkpoint_callback, model_earlystopping_callback, model_plateau_callback]"
   ]
  },
  {
   "cell_type": "code",
   "execution_count": 18,
   "metadata": {},
   "outputs": [
    {
     "name": "stderr",
     "output_type": "stream",
     "text": [
      "Using TensorFlow backend.\n"
     ]
    }
   ],
   "source": [
    "from keras.models import Sequential\n",
    "from keras.layers import Dense, BatchNormalization, Dropout"
   ]
  },
  {
   "cell_type": "code",
   "execution_count": 27,
   "metadata": {},
   "outputs": [],
   "source": [
    "model = Sequential()\n",
    "\n",
    "model.add(Dense(64, activation = 'relu', input_dim = (df.shape[1]-1)))\n",
    "model.add(Dropout(0.25))\n",
    "model.add(BatchNormalization())\n",
    "\n",
    "model.add(Dense(32, activation = 'relu'))\n",
    "model.add(Dropout(0.25))\n",
    "model.add(BatchNormalization())\n",
    "\n",
    "model.add(Dense(16, activation = 'relu'))\n",
    "model.add(Dropout(0.25))\n",
    "model.add(BatchNormalization())\n",
    "\n",
    "model.add(Dense(8, activation = 'relu'))\n",
    "model.add(Dropout(0.25))\n",
    "model.add(BatchNormalization())\n",
    "\n",
    "model.add(Dense(1, activation = 'sigmoid'))\n",
    "\n",
    "model.compile(optimizer='adam', loss='binary_crossentropy', metrics=['accuracy'])"
   ]
  },
  {
   "cell_type": "code",
   "execution_count": 28,
   "metadata": {},
   "outputs": [
    {
     "name": "stdout",
     "output_type": "stream",
     "text": [
      "Train on 623 samples, validate on 111 samples\n",
      "Epoch 1/128\n",
      "623/623 [==============================] - 2s 2ms/step - loss: 0.7939 - acc: 0.5185 - val_loss: 0.7048 - val_acc: 0.5405\n",
      "Epoch 2/128\n",
      "623/623 [==============================] - 0s 49us/step - loss: 0.7124 - acc: 0.5987 - val_loss: 0.6998 - val_acc: 0.5495\n",
      "Epoch 3/128\n",
      "623/623 [==============================] - 0s 51us/step - loss: 0.7204 - acc: 0.5746 - val_loss: 0.7001 - val_acc: 0.5405\n",
      "Epoch 4/128\n",
      "623/623 [==============================] - 0s 51us/step - loss: 0.7473 - acc: 0.5698 - val_loss: 0.6905 - val_acc: 0.5405\n",
      "Epoch 5/128\n",
      "623/623 [==============================] - 0s 52us/step - loss: 0.7168 - acc: 0.5795 - val_loss: 0.6811 - val_acc: 0.5405\n",
      "Epoch 6/128\n",
      "623/623 [==============================] - 0s 49us/step - loss: 0.6857 - acc: 0.5795 - val_loss: 0.6793 - val_acc: 0.5405\n",
      "Epoch 7/128\n",
      "623/623 [==============================] - 0s 59us/step - loss: 0.6717 - acc: 0.6116 - val_loss: 0.6772 - val_acc: 0.5495\n",
      "Epoch 8/128\n",
      "623/623 [==============================] - 0s 58us/step - loss: 0.6662 - acc: 0.6340 - val_loss: 0.6722 - val_acc: 0.5495\n",
      "Epoch 9/128\n",
      "623/623 [==============================] - 0s 60us/step - loss: 0.6757 - acc: 0.6051 - val_loss: 0.6613 - val_acc: 0.5315\n",
      "Epoch 10/128\n",
      "623/623 [==============================] - 0s 69us/step - loss: 0.6507 - acc: 0.6276 - val_loss: 0.6489 - val_acc: 0.5586\n",
      "Epoch 11/128\n",
      "623/623 [==============================] - 0s 70us/step - loss: 0.6668 - acc: 0.6228 - val_loss: 0.6345 - val_acc: 0.5946\n",
      "Epoch 12/128\n",
      "623/623 [==============================] - 0s 73us/step - loss: 0.6527 - acc: 0.6067 - val_loss: 0.6180 - val_acc: 0.6306\n",
      "Epoch 13/128\n",
      "623/623 [==============================] - 0s 77us/step - loss: 0.6507 - acc: 0.6404 - val_loss: 0.6188 - val_acc: 0.6306\n",
      "Epoch 14/128\n",
      "623/623 [==============================] - 0s 64us/step - loss: 0.6726 - acc: 0.6003 - val_loss: 0.6153 - val_acc: 0.6396\n",
      "Epoch 15/128\n",
      "623/623 [==============================] - 0s 52us/step - loss: 0.6346 - acc: 0.6517 - val_loss: 0.6101 - val_acc: 0.6757\n",
      "Epoch 16/128\n",
      "623/623 [==============================] - 0s 50us/step - loss: 0.6649 - acc: 0.6372 - val_loss: 0.6024 - val_acc: 0.6757\n",
      "Epoch 17/128\n",
      "623/623 [==============================] - 0s 79us/step - loss: 0.6176 - acc: 0.6533 - val_loss: 0.5988 - val_acc: 0.6757\n",
      "Epoch 18/128\n",
      "623/623 [==============================] - 0s 48us/step - loss: 0.6195 - acc: 0.6324 - val_loss: 0.5896 - val_acc: 0.6937\n",
      "Epoch 19/128\n",
      "623/623 [==============================] - 0s 46us/step - loss: 0.6398 - acc: 0.6437 - val_loss: 0.5876 - val_acc: 0.7027\n",
      "Epoch 20/128\n",
      "623/623 [==============================] - 0s 45us/step - loss: 0.6111 - acc: 0.6597 - val_loss: 0.5756 - val_acc: 0.7387\n",
      "Epoch 21/128\n",
      "623/623 [==============================] - 0s 46us/step - loss: 0.6230 - acc: 0.6742 - val_loss: 0.5680 - val_acc: 0.7207\n",
      "Epoch 22/128\n",
      "623/623 [==============================] - 0s 46us/step - loss: 0.6035 - acc: 0.6918 - val_loss: 0.5715 - val_acc: 0.7117\n",
      "Epoch 23/128\n",
      "623/623 [==============================] - 0s 42us/step - loss: 0.6029 - acc: 0.6790 - val_loss: 0.5739 - val_acc: 0.7297\n",
      "Epoch 24/128\n",
      "623/623 [==============================] - 0s 42us/step - loss: 0.6354 - acc: 0.6613 - val_loss: 0.5694 - val_acc: 0.7207\n",
      "Epoch 25/128\n",
      "623/623 [==============================] - 0s 42us/step - loss: 0.6190 - acc: 0.6709 - val_loss: 0.5614 - val_acc: 0.7297\n",
      "Epoch 26/128\n",
      "623/623 [==============================] - 0s 42us/step - loss: 0.6017 - acc: 0.6790 - val_loss: 0.5552 - val_acc: 0.7117\n",
      "Epoch 27/128\n",
      "623/623 [==============================] - 0s 42us/step - loss: 0.5974 - acc: 0.6806 - val_loss: 0.5500 - val_acc: 0.6847\n",
      "Epoch 28/128\n",
      "623/623 [==============================] - 0s 42us/step - loss: 0.5956 - acc: 0.6661 - val_loss: 0.5520 - val_acc: 0.7027\n",
      "Epoch 29/128\n",
      "623/623 [==============================] - 0s 40us/step - loss: 0.5639 - acc: 0.7191 - val_loss: 0.5536 - val_acc: 0.7117\n",
      "Epoch 30/128\n",
      "623/623 [==============================] - 0s 42us/step - loss: 0.5790 - acc: 0.7047 - val_loss: 0.5603 - val_acc: 0.7027\n",
      "Epoch 31/128\n",
      "623/623 [==============================] - 0s 42us/step - loss: 0.6121 - acc: 0.6742 - val_loss: 0.5686 - val_acc: 0.7297\n",
      "Epoch 32/128\n",
      "623/623 [==============================] - 0s 42us/step - loss: 0.5724 - acc: 0.7030 - val_loss: 0.5585 - val_acc: 0.7207\n",
      "Epoch 33/128\n",
      "623/623 [==============================] - 0s 42us/step - loss: 0.6197 - acc: 0.6613 - val_loss: 0.5565 - val_acc: 0.7207\n",
      "Epoch 34/128\n",
      "623/623 [==============================] - 0s 42us/step - loss: 0.5707 - acc: 0.6822 - val_loss: 0.5532 - val_acc: 0.7207\n",
      "Epoch 35/128\n",
      "623/623 [==============================] - 0s 42us/step - loss: 0.5637 - acc: 0.7143 - val_loss: 0.5470 - val_acc: 0.7207\n",
      "Epoch 36/128\n",
      "623/623 [==============================] - 0s 42us/step - loss: 0.5613 - acc: 0.7047 - val_loss: 0.5573 - val_acc: 0.7297\n",
      "Epoch 37/128\n",
      "623/623 [==============================] - 0s 46us/step - loss: 0.5548 - acc: 0.7191 - val_loss: 0.5603 - val_acc: 0.7117\n",
      "Epoch 38/128\n",
      "623/623 [==============================] - 0s 45us/step - loss: 0.5773 - acc: 0.6934 - val_loss: 0.5560 - val_acc: 0.7027\n",
      "Epoch 39/128\n",
      "623/623 [==============================] - 0s 50us/step - loss: 0.5714 - acc: 0.7030 - val_loss: 0.5531 - val_acc: 0.7207\n",
      "Epoch 40/128\n",
      "623/623 [==============================] - 0s 43us/step - loss: 0.5537 - acc: 0.7207 - val_loss: 0.5549 - val_acc: 0.7117\n",
      "Epoch 41/128\n",
      "623/623 [==============================] - 0s 43us/step - loss: 0.5605 - acc: 0.7159 - val_loss: 0.5541 - val_acc: 0.7027\n",
      "Epoch 42/128\n",
      "623/623 [==============================] - 0s 42us/step - loss: 0.5521 - acc: 0.7368 - val_loss: 0.5275 - val_acc: 0.7387\n",
      "Epoch 43/128\n",
      "623/623 [==============================] - 0s 42us/step - loss: 0.5521 - acc: 0.7255 - val_loss: 0.5228 - val_acc: 0.7568\n",
      "Epoch 44/128\n",
      "623/623 [==============================] - 0s 43us/step - loss: 0.5409 - acc: 0.7319 - val_loss: 0.5197 - val_acc: 0.7568\n",
      "Epoch 45/128\n",
      "623/623 [==============================] - 0s 43us/step - loss: 0.5504 - acc: 0.7319 - val_loss: 0.5261 - val_acc: 0.7658\n",
      "Epoch 46/128\n",
      "623/623 [==============================] - 0s 42us/step - loss: 0.5486 - acc: 0.7271 - val_loss: 0.5307 - val_acc: 0.7568\n",
      "Epoch 47/128\n",
      "623/623 [==============================] - 0s 43us/step - loss: 0.5687 - acc: 0.6950 - val_loss: 0.5228 - val_acc: 0.7568\n",
      "Epoch 48/128\n",
      "623/623 [==============================] - 0s 42us/step - loss: 0.5737 - acc: 0.7127 - val_loss: 0.5144 - val_acc: 0.7838\n",
      "Epoch 49/128\n",
      "623/623 [==============================] - 0s 43us/step - loss: 0.5692 - acc: 0.7175 - val_loss: 0.5122 - val_acc: 0.7658\n",
      "Epoch 50/128\n",
      "623/623 [==============================] - 0s 43us/step - loss: 0.5491 - acc: 0.7400 - val_loss: 0.5096 - val_acc: 0.7748\n",
      "Epoch 51/128\n",
      "623/623 [==============================] - 0s 43us/step - loss: 0.5292 - acc: 0.7480 - val_loss: 0.5151 - val_acc: 0.7658\n",
      "Epoch 52/128\n",
      "623/623 [==============================] - 0s 45us/step - loss: 0.5384 - acc: 0.7335 - val_loss: 0.5103 - val_acc: 0.7658\n",
      "Epoch 53/128\n",
      "623/623 [==============================] - 0s 43us/step - loss: 0.5430 - acc: 0.7287 - val_loss: 0.4925 - val_acc: 0.7838\n",
      "Epoch 54/128\n",
      "623/623 [==============================] - 0s 42us/step - loss: 0.5409 - acc: 0.7560 - val_loss: 0.5068 - val_acc: 0.7748\n",
      "Epoch 55/128\n",
      "623/623 [==============================] - 0s 42us/step - loss: 0.5325 - acc: 0.7271 - val_loss: 0.5324 - val_acc: 0.7477\n",
      "Epoch 56/128\n",
      "623/623 [==============================] - 0s 40us/step - loss: 0.5331 - acc: 0.7689 - val_loss: 0.5015 - val_acc: 0.7838\n",
      "Epoch 57/128\n",
      "623/623 [==============================] - 0s 43us/step - loss: 0.5149 - acc: 0.7769 - val_loss: 0.4883 - val_acc: 0.7928\n",
      "Epoch 58/128\n",
      "623/623 [==============================] - 0s 43us/step - loss: 0.5162 - acc: 0.7689 - val_loss: 0.5208 - val_acc: 0.7838\n",
      "Epoch 59/128\n",
      "623/623 [==============================] - 0s 42us/step - loss: 0.5381 - acc: 0.7368 - val_loss: 0.5083 - val_acc: 0.7838\n",
      "Epoch 60/128\n",
      "623/623 [==============================] - 0s 46us/step - loss: 0.5321 - acc: 0.7608 - val_loss: 0.5144 - val_acc: 0.7748\n",
      "Epoch 61/128\n",
      "623/623 [==============================] - 0s 48us/step - loss: 0.5195 - acc: 0.7608 - val_loss: 0.4668 - val_acc: 0.8108\n",
      "Epoch 62/128\n",
      "623/623 [==============================] - 0s 43us/step - loss: 0.5056 - acc: 0.7528 - val_loss: 0.5067 - val_acc: 0.7928\n",
      "Epoch 63/128\n",
      "623/623 [==============================] - 0s 45us/step - loss: 0.5175 - acc: 0.7576 - val_loss: 0.4673 - val_acc: 0.8198\n",
      "Epoch 64/128\n",
      "623/623 [==============================] - 0s 42us/step - loss: 0.5187 - acc: 0.7496 - val_loss: 0.4275 - val_acc: 0.8649\n",
      "Epoch 65/128\n",
      "623/623 [==============================] - 0s 42us/step - loss: 0.4945 - acc: 0.7705 - val_loss: 0.4547 - val_acc: 0.8288\n",
      "Epoch 66/128\n",
      "623/623 [==============================] - 0s 42us/step - loss: 0.4973 - acc: 0.7689 - val_loss: 0.4390 - val_acc: 0.8559\n",
      "Epoch 67/128\n",
      "623/623 [==============================] - 0s 40us/step - loss: 0.4879 - acc: 0.7849 - val_loss: 0.4217 - val_acc: 0.8739\n",
      "Epoch 68/128\n",
      "623/623 [==============================] - 0s 42us/step - loss: 0.4931 - acc: 0.7737 - val_loss: 0.4290 - val_acc: 0.8739\n",
      "Epoch 69/128\n",
      "623/623 [==============================] - 0s 42us/step - loss: 0.5064 - acc: 0.7576 - val_loss: 0.4546 - val_acc: 0.8378\n",
      "Epoch 70/128\n",
      "623/623 [==============================] - 0s 42us/step - loss: 0.4918 - acc: 0.7753 - val_loss: 0.3780 - val_acc: 0.8829\n",
      "Epoch 71/128\n",
      "623/623 [==============================] - 0s 43us/step - loss: 0.5173 - acc: 0.7624 - val_loss: 0.4129 - val_acc: 0.8739\n",
      "Epoch 72/128\n",
      "623/623 [==============================] - 0s 43us/step - loss: 0.4717 - acc: 0.7849 - val_loss: 0.4261 - val_acc: 0.8649\n",
      "Epoch 73/128\n",
      "623/623 [==============================] - 0s 40us/step - loss: 0.4808 - acc: 0.7978 - val_loss: 0.4298 - val_acc: 0.8559\n",
      "Epoch 74/128\n",
      "623/623 [==============================] - 0s 43us/step - loss: 0.4582 - acc: 0.8058 - val_loss: 0.4411 - val_acc: 0.8468\n",
      "Epoch 75/128\n",
      "623/623 [==============================] - 0s 42us/step - loss: 0.4785 - acc: 0.7881 - val_loss: 0.3892 - val_acc: 0.8739\n",
      "Epoch 76/128\n",
      "623/623 [==============================] - 0s 42us/step - loss: 0.4818 - acc: 0.7833 - val_loss: 0.4551 - val_acc: 0.7838\n",
      "Epoch 77/128\n",
      "623/623 [==============================] - 0s 42us/step - loss: 0.4421 - acc: 0.8090 - val_loss: 0.3789 - val_acc: 0.8649\n",
      "Epoch 78/128\n",
      "623/623 [==============================] - 0s 42us/step - loss: 0.4611 - acc: 0.8074 - val_loss: 0.4289 - val_acc: 0.8108\n",
      "Epoch 79/128\n",
      "623/623 [==============================] - 0s 42us/step - loss: 0.4817 - acc: 0.7817 - val_loss: 0.3557 - val_acc: 0.8739\n",
      "Epoch 80/128\n",
      "623/623 [==============================] - 0s 42us/step - loss: 0.4861 - acc: 0.7849 - val_loss: 0.3757 - val_acc: 0.8559\n",
      "Epoch 81/128\n",
      "623/623 [==============================] - 0s 43us/step - loss: 0.4450 - acc: 0.8218 - val_loss: 0.3671 - val_acc: 0.8559\n",
      "Epoch 82/128\n",
      "623/623 [==============================] - 0s 46us/step - loss: 0.4781 - acc: 0.7913 - val_loss: 0.3966 - val_acc: 0.8468\n",
      "Epoch 83/128\n",
      "623/623 [==============================] - 0s 45us/step - loss: 0.4491 - acc: 0.8090 - val_loss: 0.3526 - val_acc: 0.8739\n",
      "Epoch 84/128\n",
      "623/623 [==============================] - 0s 46us/step - loss: 0.4556 - acc: 0.7994 - val_loss: 0.4019 - val_acc: 0.8378\n",
      "Epoch 85/128\n",
      "623/623 [==============================] - 0s 51us/step - loss: 0.4560 - acc: 0.8106 - val_loss: 0.3798 - val_acc: 0.8559\n",
      "Epoch 86/128\n",
      "623/623 [==============================] - 0s 48us/step - loss: 0.4500 - acc: 0.8202 - val_loss: 0.3763 - val_acc: 0.8559\n",
      "Epoch 87/128\n",
      "623/623 [==============================] - 0s 46us/step - loss: 0.4535 - acc: 0.8058 - val_loss: 0.3516 - val_acc: 0.8559\n",
      "Epoch 88/128\n",
      "623/623 [==============================] - 0s 46us/step - loss: 0.4438 - acc: 0.8250 - val_loss: 0.3832 - val_acc: 0.8649\n",
      "Epoch 89/128\n",
      "623/623 [==============================] - 0s 48us/step - loss: 0.4578 - acc: 0.8042 - val_loss: 0.3325 - val_acc: 0.9009\n",
      "Epoch 90/128\n",
      "623/623 [==============================] - 0s 46us/step - loss: 0.4723 - acc: 0.7961 - val_loss: 0.3549 - val_acc: 0.8739\n",
      "Epoch 91/128\n",
      "623/623 [==============================] - 0s 46us/step - loss: 0.4483 - acc: 0.8010 - val_loss: 0.3385 - val_acc: 0.8829\n",
      "Epoch 92/128\n",
      "623/623 [==============================] - 0s 54us/step - loss: 0.4495 - acc: 0.8026 - val_loss: 0.3856 - val_acc: 0.8559\n",
      "Epoch 93/128\n",
      "623/623 [==============================] - 0s 56us/step - loss: 0.4434 - acc: 0.7978 - val_loss: 0.3604 - val_acc: 0.8649\n",
      "Epoch 94/128\n",
      "623/623 [==============================] - 0s 53us/step - loss: 0.4471 - acc: 0.8154 - val_loss: 0.4307 - val_acc: 0.8108\n",
      "Epoch 95/128\n",
      "623/623 [==============================] - 0s 46us/step - loss: 0.4689 - acc: 0.7961 - val_loss: 0.3596 - val_acc: 0.8649\n",
      "Epoch 96/128\n",
      "623/623 [==============================] - 0s 48us/step - loss: 0.4455 - acc: 0.8042 - val_loss: 0.3689 - val_acc: 0.8649\n",
      "Epoch 97/128\n",
      "623/623 [==============================] - 0s 48us/step - loss: 0.4687 - acc: 0.8026 - val_loss: 0.3701 - val_acc: 0.8559\n",
      "Epoch 98/128\n",
      "623/623 [==============================] - 0s 48us/step - loss: 0.4410 - acc: 0.8250 - val_loss: 0.3541 - val_acc: 0.8739\n",
      "Epoch 99/128\n",
      "623/623 [==============================] - 0s 48us/step - loss: 0.4470 - acc: 0.7994 - val_loss: 0.3865 - val_acc: 0.8739\n",
      "Epoch 100/128\n",
      "623/623 [==============================] - 0s 48us/step - loss: 0.4312 - acc: 0.8106 - val_loss: 0.3635 - val_acc: 0.8649\n",
      "Epoch 101/128\n",
      "623/623 [==============================] - 0s 48us/step - loss: 0.4387 - acc: 0.8266 - val_loss: 0.3644 - val_acc: 0.8829\n",
      "Epoch 102/128\n",
      "623/623 [==============================] - 0s 50us/step - loss: 0.4363 - acc: 0.8331 - val_loss: 0.4000 - val_acc: 0.8468\n",
      "Epoch 103/128\n",
      "623/623 [==============================] - 0s 43us/step - loss: 0.4216 - acc: 0.8283 - val_loss: 0.4086 - val_acc: 0.8378\n",
      "Epoch 104/128\n",
      "623/623 [==============================] - 0s 43us/step - loss: 0.4312 - acc: 0.8315 - val_loss: 0.3446 - val_acc: 0.8919\n",
      "Epoch 105/128\n",
      "623/623 [==============================] - 0s 43us/step - loss: 0.4360 - acc: 0.8218 - val_loss: 0.3903 - val_acc: 0.8468\n",
      "Epoch 106/128\n",
      "623/623 [==============================] - 0s 42us/step - loss: 0.4283 - acc: 0.8250 - val_loss: 0.3452 - val_acc: 0.8919\n",
      "Epoch 107/128\n",
      "623/623 [==============================] - 0s 59us/step - loss: 0.4231 - acc: 0.8170 - val_loss: 0.4972 - val_acc: 0.7748\n",
      "Epoch 108/128\n",
      "623/623 [==============================] - 0s 40us/step - loss: 0.4471 - acc: 0.8106 - val_loss: 0.3863 - val_acc: 0.8649\n",
      "Epoch 109/128\n",
      "623/623 [==============================] - 0s 42us/step - loss: 0.4303 - acc: 0.8154 - val_loss: 0.3110 - val_acc: 0.8559\n",
      "Epoch 110/128\n",
      "623/623 [==============================] - 0s 45us/step - loss: 0.4352 - acc: 0.8218 - val_loss: 0.4699 - val_acc: 0.7748\n",
      "Epoch 111/128\n",
      "623/623 [==============================] - 0s 45us/step - loss: 0.4423 - acc: 0.8106 - val_loss: 0.4318 - val_acc: 0.8198\n",
      "Epoch 112/128\n",
      "623/623 [==============================] - 0s 42us/step - loss: 0.4385 - acc: 0.8218 - val_loss: 0.3564 - val_acc: 0.8739\n",
      "Epoch 113/128\n",
      "623/623 [==============================] - 0s 43us/step - loss: 0.4187 - acc: 0.8283 - val_loss: 0.3773 - val_acc: 0.8198\n",
      "Epoch 114/128\n",
      "623/623 [==============================] - 0s 42us/step - loss: 0.4179 - acc: 0.8266 - val_loss: 0.3109 - val_acc: 0.8829\n",
      "Epoch 115/128\n",
      "623/623 [==============================] - 0s 42us/step - loss: 0.3972 - acc: 0.8443 - val_loss: 0.3083 - val_acc: 0.8919\n",
      "Epoch 116/128\n",
      "623/623 [==============================] - 0s 43us/step - loss: 0.4052 - acc: 0.8395 - val_loss: 0.3313 - val_acc: 0.8739\n",
      "Epoch 117/128\n",
      "623/623 [==============================] - 0s 43us/step - loss: 0.4029 - acc: 0.8427 - val_loss: 0.4494 - val_acc: 0.7838\n",
      "Epoch 118/128\n",
      "623/623 [==============================] - 0s 42us/step - loss: 0.3900 - acc: 0.8507 - val_loss: 0.3466 - val_acc: 0.8649\n",
      "Epoch 119/128\n",
      "623/623 [==============================] - 0s 42us/step - loss: 0.4061 - acc: 0.8443 - val_loss: 0.3159 - val_acc: 0.8739\n",
      "Epoch 120/128\n",
      "623/623 [==============================] - 0s 42us/step - loss: 0.4055 - acc: 0.8347 - val_loss: 0.3207 - val_acc: 0.8829\n",
      "Epoch 121/128\n",
      "623/623 [==============================] - 0s 43us/step - loss: 0.4087 - acc: 0.8347 - val_loss: 0.3220 - val_acc: 0.8739\n",
      "Epoch 122/128\n",
      "623/623 [==============================] - 0s 42us/step - loss: 0.4290 - acc: 0.8266 - val_loss: 0.4043 - val_acc: 0.8288\n",
      "Epoch 123/128\n",
      "623/623 [==============================] - 0s 42us/step - loss: 0.4441 - acc: 0.7978 - val_loss: 0.3320 - val_acc: 0.8829\n",
      "Epoch 124/128\n",
      "623/623 [==============================] - 0s 42us/step - loss: 0.4117 - acc: 0.8331 - val_loss: 0.3093 - val_acc: 0.9009\n",
      "Epoch 125/128\n",
      "623/623 [==============================] - 0s 42us/step - loss: 0.4167 - acc: 0.8363 - val_loss: 0.2987 - val_acc: 0.9009\n",
      "Epoch 126/128\n",
      "623/623 [==============================] - 0s 42us/step - loss: 0.4133 - acc: 0.8475 - val_loss: 0.2655 - val_acc: 0.9279\n",
      "Epoch 127/128\n",
      "623/623 [==============================] - 0s 40us/step - loss: 0.4041 - acc: 0.8411 - val_loss: 0.3366 - val_acc: 0.8649\n",
      "Epoch 128/128\n",
      "623/623 [==============================] - 0s 42us/step - loss: 0.3965 - acc: 0.8411 - val_loss: 0.3274 - val_acc: 0.8468\n"
     ]
    },
    {
     "data": {
      "text/plain": [
       "<keras.callbacks.History at 0x23b448918d0>"
      ]
     },
     "execution_count": 28,
     "metadata": {},
     "output_type": "execute_result"
    }
   ],
   "source": [
    "model.fit(X_train, y_train, batch_size = 64, epochs = 128, validation_split = 0.15)"
   ]
  },
  {
   "cell_type": "code",
   "execution_count": 29,
   "metadata": {},
   "outputs": [],
   "source": [
    "df_model = pd.DataFrame(model.history.history)"
   ]
  },
  {
   "cell_type": "code",
   "execution_count": 30,
   "metadata": {},
   "outputs": [
    {
     "data": {
      "text/plain": [
       "<matplotlib.axes._subplots.AxesSubplot at 0x23b4463ff60>"
      ]
     },
     "execution_count": 30,
     "metadata": {},
     "output_type": "execute_result"
    },
    {
     "data": {
      "image/png": "[encoded data removed]",
      "text/plain": [
       "<Figure size 432x288 with 1 Axes>"
      ]
     },
     "metadata": {
      "needs_background": "light"
     },
     "output_type": "display_data"
    }
   ],
   "source": [
    "df_model.plot()"
   ]
  },
  {
   "cell_type": "code",
   "execution_count": 31,
   "metadata": {},
   "outputs": [],
   "source": [
    "from sklearn.metrics import classification_report, confusion_matrix"
   ]
  },
  {
   "cell_type": "code",
   "execution_count": 32,
   "metadata": {},
   "outputs": [],
   "source": [
    "results = model.predict_classes(X_test)"
   ]
  },
  {
   "cell_type": "code",
   "execution_count": 33,
   "metadata": {},
   "outputs": [
    {
     "name": "stdout",
     "output_type": "stream",
     "text": [
      "              precision    recall  f1-score   support\n",
      "\n",
      "           0       0.86      0.63      0.73        79\n",
      "           1       0.77      0.92      0.84       105\n",
      "\n",
      "    accuracy                           0.80       184\n",
      "   macro avg       0.82      0.78      0.78       184\n",
      "weighted avg       0.81      0.80      0.79       184\n",
      "\n"
     ]
    }
   ],
   "source": [
    "print(classification_report(y_test, results))"
   ]
  },
  {
   "cell_type": "code",
   "execution_count": 36,
   "metadata": {},
   "outputs": [],
   "source": [
    "import seaborn as sns"
   ]
  },
  {
   "cell_type": "code",
   "execution_count": 38,
   "metadata": {},
   "outputs": [
    {
     "data": {
      "text/plain": [
       "<matplotlib.axes._subplots.AxesSubplot at 0x23b4c6582e8>"
      ]
     },
     "execution_count": 38,
     "metadata": {},
     "output_type": "execute_result"
    },
    {
     "data": {
      "image/png": "[encoded data removed]",
      "text/plain": [
       "<Figure size 432x288 with 2 Axes>"
      ]
     },
     "metadata": {
      "needs_background": "light"
     },
     "output_type": "display_data"
    }
   ],
   "source": [
    "cf_matrix = confusion_matrix(y_test, results)\n",
    "sns.heatmap(cf_matrix, annot=True, fmt='g')"
   ]
  },
  {
   "cell_type": "code",
   "execution_count": null,
   "metadata": {},
   "outputs": [],
   "source": []
  }
 ],
 "metadata": {
  "kernelspec": {
   "display_name": "Python 3",
   "language": "python",
   "name": "python3"
  },
  "language_info": {
   "codemirror_mode": {
    "name": "ipython",
    "version": 3
   },
   "file_extension": ".py",
   "mimetype": "text/x-python",
   "name": "python",
   "nbconvert_exporter": "python",
   "pygments_lexer": "ipython3",
   "version": "3.6.6"
  }
 },
 "nbformat": 4,
 "nbformat_minor": 2
}
