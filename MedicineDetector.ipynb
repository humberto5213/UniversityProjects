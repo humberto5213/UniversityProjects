{
 "cells": [
  {
   "cell_type": "code",
   "execution_count": 13,
   "metadata": {},
   "outputs": [],
   "source": [
    "#!pip install OSMPythonTools\n",
    "#!pip install geopy\n",
    "#!pip install folium\n",
    "#!pip install geocoder"
   ]
  },
  {
   "cell_type": "code",
   "execution_count": 2,
   "metadata": {},
   "outputs": [],
   "source": [
    "import pandas as pd\n",
    "import numpy as np\n",
    "import matplotlib.pyplot as plt\n",
    "import seaborn as sns\n",
    "import cv2\n",
    "from tqdm import tqdm"
   ]
  },
  {
   "cell_type": "code",
   "execution_count": 3,
   "metadata": {},
   "outputs": [],
   "source": [
    "df_p = pd.read_excel(\"해커톤 약 상세정보.xlsx\", engine='openpyxl')\n",
    "df_s = pd.read_excel(\"해커톤 약 주의사항 부분.xlsx\", engine='openpyxl')\n",
    "df_p['사용상 주의사항'] = df_s['사용상 주의사항 ']"
   ]
  },
  {
   "cell_type": "code",
   "execution_count": 4,
   "metadata": {},
   "outputs": [
    {
     "data": {
      "text/html": [
       "<div>\n",
       "<style scoped>\n",
       "    .dataframe tbody tr th:only-of-type {\n",
       "        vertical-align: middle;\n",
       "    }\n",
       "\n",
       "    .dataframe tbody tr th {\n",
       "        vertical-align: top;\n",
       "    }\n",
       "\n",
       "    .dataframe thead th {\n",
       "        text-align: right;\n",
       "    }\n",
       "</style>\n",
       "<table border=\"1\" class=\"dataframe\">\n",
       "  <thead>\n",
       "    <tr style=\"text-align: right;\">\n",
       "      <th></th>\n",
       "      <th>Label</th>\n",
       "      <th>약명</th>\n",
       "      <th>용법용량</th>\n",
       "      <th>사용상 주의사항</th>\n",
       "      <th>효능효과</th>\n",
       "      <th>Purpose</th>\n",
       "      <th>성분정보</th>\n",
       "      <th>저장방법</th>\n",
       "    </tr>\n",
       "  </thead>\n",
       "  <tbody>\n",
       "    <tr>\n",
       "      <th>0</th>\n",
       "      <td>0</td>\n",
       "      <td>임팩타민 프리미엄 정</td>\n",
       "      <td>12세 이상 어린이 및 성인: 1일 1회 1~2정 식후 복용</td>\n",
       "      <td>(1) 이 약 및 이 약에 포함된 성분에 과민반응이 있는 환자\\n(2) 만 12개월...</td>\n",
       "      <td>○ 다음경우의 비타민 (E, B1, B2, B6, C)의 보급\\n- 육체피로, 임신...</td>\n",
       "      <td>육체피로, 체력저하, 눈의파로, 구내염, 근육통, 관절통, 신경통</td>\n",
       "      <td>니코틴산아미드 50mg, 리보플라빈 50mg, 벤포티아민 50mg, 비오틴 0.25...</td>\n",
       "      <td>기밀용기, 실온보관(1∼30℃)</td>\n",
       "    </tr>\n",
       "    <tr>\n",
       "      <th>1</th>\n",
       "      <td>1</td>\n",
       "      <td>베아제</td>\n",
       "      <td>성인 : 1회 1정 1일 3회 식후에 복용한다.</td>\n",
       "      <td>1. 다음과 같은 사람은 이 약을 복용하지 말 것.\\n만 7세 이하의 어린이\\n\\n...</td>\n",
       "      <td>소화불량, 식욕감퇴(식욕부진), 과식, 체함, 소화촉진, 소화불량으로 인한 위부팽만감</td>\n",
       "      <td>소화불량, 과식, 체함</td>\n",
       "      <td>시메티콘 40mg, 우르소데옥시콜산 10mg, 판크레아틴장용과립 78.6mg, 판프...</td>\n",
       "      <td>기밀용기</td>\n",
       "    </tr>\n",
       "    <tr>\n",
       "      <th>2</th>\n",
       "      <td>2</td>\n",
       "      <td>베아제</td>\n",
       "      <td>성인 : 1회 1정 1일 3회 식후에 복용한다.</td>\n",
       "      <td>1. 다음과 같은 사람은 이 약을 복용하지 말 것.\\n만 7세 이하의 어린이\\n\\n...</td>\n",
       "      <td>소화불량, 식욕감퇴(식욕부진), 과식, 체함, 소화촉진, 소화불량으로 인한 위부팽만감</td>\n",
       "      <td>소화불량, 과식, 체함</td>\n",
       "      <td>시메티콘 40mg, 우르소데옥시콜산 10mg, 판크레아틴장용과립 78.6mg, 판프...</td>\n",
       "      <td>기밀용기</td>\n",
       "    </tr>\n",
       "    <tr>\n",
       "      <th>3</th>\n",
       "      <td>3</td>\n",
       "      <td>씨콜드 코프정</td>\n",
       "      <td>1일 3회 식후 30분, 1회에 다음 용량을 복용하십시오.\\n만 15세 이상 : 1...</td>\n",
       "      <td>1) 매일 세잔 이상 정기적으로 술을 마시는 사람이 이 약이나 다른 해열진통제를 복...</td>\n",
       "      <td>감기의 제증상(여러 증상)(콧물, 코막힘, 재채기, 인후(목구멍)통, 기침, 가래,...</td>\n",
       "      <td>기침, 거래, 인후 (목구멍)통</td>\n",
       "      <td>DL-메틸에페드린염산염 12mg, 구아이페네신 40mg, 슈도에페드린염산염 15mg...</td>\n",
       "      <td>기밀용기, 실온(1～30℃)보관</td>\n",
       "    </tr>\n",
       "    <tr>\n",
       "      <th>4</th>\n",
       "      <td>4</td>\n",
       "      <td>씨콜드 노즈정</td>\n",
       "      <td>&lt;주간용&gt;\\n1일 2회 식후 30분, 1회에 다음 용량을 복용하십시오\\n만 15세 ...</td>\n",
       "      <td>(1) 경고\\n1) 매일 세잔 이상 정기적으로 술을 마시는 사람이 이 약이나 다른 ...</td>\n",
       "      <td>감기의 제증상(여러 증상) (콧물, 코막힘, 재채기, 인후(목구멍)통, 오한(춥고 ...</td>\n",
       "      <td>콧물, 코막힘, 재채기</td>\n",
       "      <td>DL-말레인산클로르페니라민 1.25mg, 슈도에페드린염산염 15mg, 아세트아미노펜...</td>\n",
       "      <td>기밀용기, 실온(1～30℃)보관</td>\n",
       "    </tr>\n",
       "  </tbody>\n",
       "</table>\n",
       "</div>"
      ],
      "text/plain": [
       "   Label           약명                                               용법용량  \\\n",
       "0      0  임팩타민 프리미엄 정                  12세 이상 어린이 및 성인: 1일 1회 1~2정 식후 복용   \n",
       "1      1          베아제                         성인 : 1회 1정 1일 3회 식후에 복용한다.   \n",
       "2      2          베아제                         성인 : 1회 1정 1일 3회 식후에 복용한다.   \n",
       "3      3      씨콜드 코프정  1일 3회 식후 30분, 1회에 다음 용량을 복용하십시오.\\n만 15세 이상 : 1...   \n",
       "4      4      씨콜드 노즈정  <주간용>\\n1일 2회 식후 30분, 1회에 다음 용량을 복용하십시오\\n만 15세 ...   \n",
       "\n",
       "                                            사용상 주의사항  \\\n",
       "0  (1) 이 약 및 이 약에 포함된 성분에 과민반응이 있는 환자\\n(2) 만 12개월...   \n",
       "1  1. 다음과 같은 사람은 이 약을 복용하지 말 것.\\n만 7세 이하의 어린이\\n\\n...   \n",
       "2  1. 다음과 같은 사람은 이 약을 복용하지 말 것.\\n만 7세 이하의 어린이\\n\\n...   \n",
       "3  1) 매일 세잔 이상 정기적으로 술을 마시는 사람이 이 약이나 다른 해열진통제를 복...   \n",
       "4  (1) 경고\\n1) 매일 세잔 이상 정기적으로 술을 마시는 사람이 이 약이나 다른 ...   \n",
       "\n",
       "                                                효능효과  \\\n",
       "0  ○ 다음경우의 비타민 (E, B1, B2, B6, C)의 보급\\n- 육체피로, 임신...   \n",
       "1    소화불량, 식욕감퇴(식욕부진), 과식, 체함, 소화촉진, 소화불량으로 인한 위부팽만감   \n",
       "2    소화불량, 식욕감퇴(식욕부진), 과식, 체함, 소화촉진, 소화불량으로 인한 위부팽만감   \n",
       "3  감기의 제증상(여러 증상)(콧물, 코막힘, 재채기, 인후(목구멍)통, 기침, 가래,...   \n",
       "4  감기의 제증상(여러 증상) (콧물, 코막힘, 재채기, 인후(목구멍)통, 오한(춥고 ...   \n",
       "\n",
       "                                Purpose  \\\n",
       "0  육체피로, 체력저하, 눈의파로, 구내염, 근육통, 관절통, 신경통   \n",
       "1                          소화불량, 과식, 체함   \n",
       "2                          소화불량, 과식, 체함   \n",
       "3                     기침, 거래, 인후 (목구멍)통   \n",
       "4                          콧물, 코막힘, 재채기   \n",
       "\n",
       "                                                성분정보               저장방법  \n",
       "0  니코틴산아미드 50mg, 리보플라빈 50mg, 벤포티아민 50mg, 비오틴 0.25...  기밀용기, 실온보관(1∼30℃)  \n",
       "1  시메티콘 40mg, 우르소데옥시콜산 10mg, 판크레아틴장용과립 78.6mg, 판프...               기밀용기  \n",
       "2  시메티콘 40mg, 우르소데옥시콜산 10mg, 판크레아틴장용과립 78.6mg, 판프...               기밀용기  \n",
       "3  DL-메틸에페드린염산염 12mg, 구아이페네신 40mg, 슈도에페드린염산염 15mg...  기밀용기, 실온(1～30℃)보관  \n",
       "4  DL-말레인산클로르페니라민 1.25mg, 슈도에페드린염산염 15mg, 아세트아미노펜...  기밀용기, 실온(1～30℃)보관  "
      ]
     },
     "execution_count": 4,
     "metadata": {},
     "output_type": "execute_result"
    }
   ],
   "source": [
    "df_p.head()"
   ]
  },
  {
   "cell_type": "markdown",
   "metadata": {},
   "source": [
    "# Coordinates Calculation Part"
   ]
  },
  {
   "cell_type": "code",
   "execution_count": 5,
   "metadata": {},
   "outputs": [],
   "source": [
    "coordinates = pd.read_excel('theshop_gps_info_20210727.xlsx', engine='openpyxl', sheet_name=1)\n",
    "\n",
    "from geopy.exc import GeocoderTimedOut\n",
    "from geopy.geocoders import ArcGIS\n",
    "\n",
    "nom = ArcGIS()\n",
    "\n",
    "s = nom.geocode(coordinates.iloc[0,1])"
   ]
  },
  {
   "cell_type": "code",
   "execution_count": 6,
   "metadata": {},
   "outputs": [
    {
     "data": {
      "text/html": [
       "<div>\n",
       "<style scoped>\n",
       "    .dataframe tbody tr th:only-of-type {\n",
       "        vertical-align: middle;\n",
       "    }\n",
       "\n",
       "    .dataframe tbody tr th {\n",
       "        vertical-align: top;\n",
       "    }\n",
       "\n",
       "    .dataframe thead th {\n",
       "        text-align: right;\n",
       "    }\n",
       "</style>\n",
       "<table border=\"1\" class=\"dataframe\">\n",
       "  <thead>\n",
       "    <tr style=\"text-align: right;\">\n",
       "      <th></th>\n",
       "      <th>user_key</th>\n",
       "      <th>pharmercy_name</th>\n",
       "      <th>street_addr1</th>\n",
       "      <th>street_addr2</th>\n",
       "      <th>sido</th>\n",
       "      <th>gugun</th>\n",
       "      <th>dong</th>\n",
       "      <th>dong_code</th>\n",
       "      <th>longitude</th>\n",
       "      <th>latitude</th>\n",
       "    </tr>\n",
       "  </thead>\n",
       "  <tbody>\n",
       "    <tr>\n",
       "      <th>0</th>\n",
       "      <td>1000116885</td>\n",
       "      <td>자이약국</td>\n",
       "      <td>충북 청주시 흥덕구 서현로 32 (가경동)</td>\n",
       "      <td>가경자이프라자 120호</td>\n",
       "      <td>충청북도</td>\n",
       "      <td>청주시</td>\n",
       "      <td>가경동</td>\n",
       "      <td>4311374700</td>\n",
       "      <td>127.426605</td>\n",
       "      <td>36.617074</td>\n",
       "    </tr>\n",
       "    <tr>\n",
       "      <th>1</th>\n",
       "      <td>1000065193</td>\n",
       "      <td>서현약국</td>\n",
       "      <td>충청북도 청주시 흥덕구 서현북로 64 (가경동)</td>\n",
       "      <td>1987번지  서현약국</td>\n",
       "      <td>충청북도</td>\n",
       "      <td>청주시</td>\n",
       "      <td>가경동</td>\n",
       "      <td>4311374700</td>\n",
       "      <td>127.429525</td>\n",
       "      <td>36.621843</td>\n",
       "    </tr>\n",
       "  </tbody>\n",
       "</table>\n",
       "</div>"
      ],
      "text/plain": [
       "     user_key pharmercy_name                street_addr1   street_addr2  sido  \\\n",
       "0  1000116885           자이약국     충북 청주시 흥덕구 서현로 32 (가경동)   가경자이프라자 120호  충청북도   \n",
       "1  1000065193           서현약국  충청북도 청주시 흥덕구 서현북로 64 (가경동)  1987번지  서현약국   충청북도   \n",
       "\n",
       "  gugun dong   dong_code   longitude   latitude  \n",
       "0   청주시  가경동  4311374700  127.426605  36.617074  \n",
       "1   청주시  가경동  4311374700  127.429525  36.621843  "
      ]
     },
     "execution_count": 6,
     "metadata": {},
     "output_type": "execute_result"
    }
   ],
   "source": [
    "coordinates.head(2)"
   ]
  },
  {
   "cell_type": "code",
   "execution_count": 7,
   "metadata": {},
   "outputs": [
    {
     "name": "stdout",
     "output_type": "stream",
     "text": [
      "[37.566, 126.9784]\n"
     ]
    }
   ],
   "source": [
    "# 1: lat, 2: long\n",
    "import geocoder\n",
    "g = geocoder.ip('me')\n",
    "user_address = g.latlng\n",
    "print(user_address)"
   ]
  },
  {
   "cell_type": "code",
   "execution_count": 8,
   "metadata": {},
   "outputs": [],
   "source": [
    "from math import radians, cos, sin, asin, sqrt\n",
    "def haversine(lon1, lat1, lon2, lat2):\n",
    "    \"\"\"\n",
    "    Calculate the great circle distance between two points \n",
    "    on the earth (specified in decimal degrees)\n",
    "    \"\"\"\n",
    "    # convert decimal degrees to radians \n",
    "    #lon1, lat1, lon2, lat2 = map(radians, [lon1, lat1, lon2, lat2])\n",
    "    # haversine formula \n",
    "    dlon = lon2 - lon1 \n",
    "    dlat = lat2 - lat1 \n",
    "    a = sin(dlat/2)**2 + cos(lat1) * cos(lat2) * sin(dlon/2)**2\n",
    "    c = 2 * asin(sqrt(a)) \n",
    "    # Radius of earth in kilometers is 6371\n",
    "    km = 6371* c\n",
    "    return km\n",
    "\n",
    "def test(cols):\n",
    "    val = haversine(cols[0], cols[1], user_address[1], user_address[0])\n",
    "    return val \n",
    "\n",
    "coordinates['distance'] = coordinates[['longitude','latitude']].apply(test, axis=1)\n",
    "\n",
    "nearest_pharmacies = coordinates.sort_values(by='distance', ascending=True)[:15]"
   ]
  },
  {
   "cell_type": "code",
   "execution_count": 9,
   "metadata": {},
   "outputs": [
    {
     "data": {
      "text/html": [
       "<div>\n",
       "<style scoped>\n",
       "    .dataframe tbody tr th:only-of-type {\n",
       "        vertical-align: middle;\n",
       "    }\n",
       "\n",
       "    .dataframe tbody tr th {\n",
       "        vertical-align: top;\n",
       "    }\n",
       "\n",
       "    .dataframe thead th {\n",
       "        text-align: right;\n",
       "    }\n",
       "</style>\n",
       "<table border=\"1\" class=\"dataframe\">\n",
       "  <thead>\n",
       "    <tr style=\"text-align: right;\">\n",
       "      <th></th>\n",
       "      <th>user_key</th>\n",
       "      <th>pharmercy_name</th>\n",
       "      <th>street_addr1</th>\n",
       "      <th>street_addr2</th>\n",
       "      <th>sido</th>\n",
       "      <th>gugun</th>\n",
       "      <th>dong</th>\n",
       "      <th>dong_code</th>\n",
       "      <th>longitude</th>\n",
       "      <th>latitude</th>\n",
       "      <th>distance</th>\n",
       "    </tr>\n",
       "  </thead>\n",
       "  <tbody>\n",
       "    <tr>\n",
       "      <th>4787</th>\n",
       "      <td>1000075841</td>\n",
       "      <td>명약국</td>\n",
       "      <td>서울 중구 남대문로9길 51 (을지로1가)</td>\n",
       "      <td>5층</td>\n",
       "      <td>서울특별시</td>\n",
       "      <td>중구</td>\n",
       "      <td>명동</td>\n",
       "      <td>1114055000</td>\n",
       "      <td>126.979499</td>\n",
       "      <td>37.566813</td>\n",
       "      <td>8.660742</td>\n",
       "    </tr>\n",
       "    <tr>\n",
       "      <th>4789</th>\n",
       "      <td>1000005172</td>\n",
       "      <td>홍신약국</td>\n",
       "      <td>서울 중구 남대문로9길 40 (다동)</td>\n",
       "      <td>센터플레이스빌딩 1층 108-1호</td>\n",
       "      <td>서울특별시</td>\n",
       "      <td>중구</td>\n",
       "      <td>명동</td>\n",
       "      <td>1114055000</td>\n",
       "      <td>126.980383</td>\n",
       "      <td>37.567151</td>\n",
       "      <td>14.512949</td>\n",
       "    </tr>\n",
       "  </tbody>\n",
       "</table>\n",
       "</div>"
      ],
      "text/plain": [
       "        user_key pharmercy_name             street_addr1        street_addr2  \\\n",
       "4787  1000075841            명약국  서울 중구 남대문로9길 51 (을지로1가)                  5층   \n",
       "4789  1000005172           홍신약국     서울 중구 남대문로9길 40 (다동)  센터플레이스빌딩 1층 108-1호   \n",
       "\n",
       "       sido gugun dong   dong_code   longitude   latitude   distance  \n",
       "4787  서울특별시    중구   명동  1114055000  126.979499  37.566813   8.660742  \n",
       "4789  서울특별시    중구   명동  1114055000  126.980383  37.567151  14.512949  "
      ]
     },
     "execution_count": 9,
     "metadata": {},
     "output_type": "execute_result"
    }
   ],
   "source": [
    "nearest_pharmacies.head(2)"
   ]
  },
  {
   "cell_type": "code",
   "execution_count": 10,
   "metadata": {},
   "outputs": [
    {
     "name": "stderr",
     "output_type": "stream",
     "text": [
      "100%|██████████████████████████████████████████████████████████████████████████████████████████| 15/15 [00:00<?, ?it/s]\n"
     ]
    },
    {
     "data": {
      "text/html": [
       "<div style=\"width:100%;\"><div style=\"position:relative;width:100%;height:0;padding-bottom:60%;\"><span style=\"color:#565656\">Make this Notebook Trusted to load map: File -> Trust Notebook</span><iframe src=\"about:blank\" style=\"position:absolute;width:100%;height:100%;left:0;top:0;border:none !important;\" data-html=%3C%21DOCTYPE%20html%3E%0A%3Chead%3E%20%20%20%20%0A%20%20%20%20%3Cmeta%20http-equiv%3D%22content-type%22%20content%3D%22text/html%3B%20charset%3DUTF-8%22%20/%3E%0A%20%20%20%20%0A%20%20%20%20%20%20%20%20%3Cscript%3E%0A%20%20%20%20%20%20%20%20%20%20%20%20L_NO_TOUCH%20%3D%20false%3B%0A%20%20%20%20%20%20%20%20%20%20%20%20L_DISABLE_3D%20%3D%20false%3B%0A%20%20%20%20%20%20%20%20%3C/script%3E%0A%20%20%20%20%0A%20%20%20%20%3Cstyle%3Ehtml%2C%20body%20%7Bwidth%3A%20100%25%3Bheight%3A%20100%25%3Bmargin%3A%200%3Bpadding%3A%200%3B%7D%3C/style%3E%0A%20%20%20%20%3Cstyle%3E%23map%20%7Bposition%3Aabsolute%3Btop%3A0%3Bbottom%3A0%3Bright%3A0%3Bleft%3A0%3B%7D%3C/style%3E%0A%20%20%20%20%3Cscript%20src%3D%22https%3A//cdn.jsdelivr.net/npm/leaflet%401.6.0/dist/leaflet.js%22%3E%3C/script%3E%0A%20%20%20%20%3Cscript%20src%3D%22https%3A//code.jquery.com/jquery-1.12.4.min.js%22%3E%3C/script%3E%0A%20%20%20%20%3Cscript%20src%3D%22https%3A//maxcdn.bootstrapcdn.com/bootstrap/3.2.0/js/bootstrap.min.js%22%3E%3C/script%3E%0A%20%20%20%20%3Cscript%20src%3D%22https%3A//cdnjs.cloudflare.com/ajax/libs/Leaflet.awesome-markers/2.0.2/leaflet.awesome-markers.js%22%3E%3C/script%3E%0A%20%20%20%20%3Clink%20rel%3D%22stylesheet%22%20href%3D%22https%3A//cdn.jsdelivr.net/npm/leaflet%401.6.0/dist/leaflet.css%22/%3E%0A%20%20%20%20%3Clink%20rel%3D%22stylesheet%22%20href%3D%22https%3A//maxcdn.bootstrapcdn.com/bootstrap/3.2.0/css/bootstrap.min.css%22/%3E%0A%20%20%20%20%3Clink%20rel%3D%22stylesheet%22%20href%3D%22https%3A//maxcdn.bootstrapcdn.com/bootstrap/3.2.0/css/bootstrap-theme.min.css%22/%3E%0A%20%20%20%20%3Clink%20rel%3D%22stylesheet%22%20href%3D%22https%3A//maxcdn.bootstrapcdn.com/font-awesome/4.6.3/css/font-awesome.min.css%22/%3E%0A%20%20%20%20%3Clink%20rel%3D%22stylesheet%22%20href%3D%22https%3A//cdnjs.cloudflare.com/ajax/libs/Leaflet.awesome-markers/2.0.2/leaflet.awesome-markers.css%22/%3E%0A%20%20%20%20%3Clink%20rel%3D%22stylesheet%22%20href%3D%22https%3A//cdn.jsdelivr.net/gh/python-visualization/folium/folium/templates/leaflet.awesome.rotate.min.css%22/%3E%0A%20%20%20%20%0A%20%20%20%20%20%20%20%20%20%20%20%20%3Cmeta%20name%3D%22viewport%22%20content%3D%22width%3Ddevice-width%2C%0A%20%20%20%20%20%20%20%20%20%20%20%20%20%20%20%20initial-scale%3D1.0%2C%20maximum-scale%3D1.0%2C%20user-scalable%3Dno%22%20/%3E%0A%20%20%20%20%20%20%20%20%20%20%20%20%3Cstyle%3E%0A%20%20%20%20%20%20%20%20%20%20%20%20%20%20%20%20%23map_b9f8198a289f40b5b96e62c6fafce542%20%7B%0A%20%20%20%20%20%20%20%20%20%20%20%20%20%20%20%20%20%20%20%20position%3A%20relative%3B%0A%20%20%20%20%20%20%20%20%20%20%20%20%20%20%20%20%20%20%20%20width%3A%20100.0%25%3B%0A%20%20%20%20%20%20%20%20%20%20%20%20%20%20%20%20%20%20%20%20height%3A%20100.0%25%3B%0A%20%20%20%20%20%20%20%20%20%20%20%20%20%20%20%20%20%20%20%20left%3A%200.0%25%3B%0A%20%20%20%20%20%20%20%20%20%20%20%20%20%20%20%20%20%20%20%20top%3A%200.0%25%3B%0A%20%20%20%20%20%20%20%20%20%20%20%20%20%20%20%20%7D%0A%20%20%20%20%20%20%20%20%20%20%20%20%3C/style%3E%0A%20%20%20%20%20%20%20%20%0A%3C/head%3E%0A%3Cbody%3E%20%20%20%20%0A%20%20%20%20%0A%20%20%20%20%20%20%20%20%20%20%20%20%3Cdiv%20class%3D%22folium-map%22%20id%3D%22map_b9f8198a289f40b5b96e62c6fafce542%22%20%3E%3C/div%3E%0A%20%20%20%20%20%20%20%20%0A%3C/body%3E%0A%3Cscript%3E%20%20%20%20%0A%20%20%20%20%0A%20%20%20%20%20%20%20%20%20%20%20%20var%20map_b9f8198a289f40b5b96e62c6fafce542%20%3D%20L.map%28%0A%20%20%20%20%20%20%20%20%20%20%20%20%20%20%20%20%22map_b9f8198a289f40b5b96e62c6fafce542%22%2C%0A%20%20%20%20%20%20%20%20%20%20%20%20%20%20%20%20%7B%0A%20%20%20%20%20%20%20%20%20%20%20%20%20%20%20%20%20%20%20%20center%3A%20%5B37.566%2C%20126.9784%5D%2C%0A%20%20%20%20%20%20%20%20%20%20%20%20%20%20%20%20%20%20%20%20crs%3A%20L.CRS.EPSG3857%2C%0A%20%20%20%20%20%20%20%20%20%20%20%20%20%20%20%20%20%20%20%20zoom%3A%2016%2C%0A%20%20%20%20%20%20%20%20%20%20%20%20%20%20%20%20%20%20%20%20zoomControl%3A%20true%2C%0A%20%20%20%20%20%20%20%20%20%20%20%20%20%20%20%20%20%20%20%20preferCanvas%3A%20false%2C%0A%20%20%20%20%20%20%20%20%20%20%20%20%20%20%20%20%7D%0A%20%20%20%20%20%20%20%20%20%20%20%20%29%3B%0A%0A%20%20%20%20%20%20%20%20%20%20%20%20%0A%0A%20%20%20%20%20%20%20%20%0A%20%20%20%20%0A%20%20%20%20%20%20%20%20%20%20%20%20var%20tile_layer_a90f966a845b464eafeb7943fc7d6cce%20%3D%20L.tileLayer%28%0A%20%20%20%20%20%20%20%20%20%20%20%20%20%20%20%20%22https%3A//%7Bs%7D.tile.openstreetmap.org/%7Bz%7D/%7Bx%7D/%7By%7D.png%22%2C%0A%20%20%20%20%20%20%20%20%20%20%20%20%20%20%20%20%7B%22attribution%22%3A%20%22Data%20by%20%5Cu0026copy%3B%20%5Cu003ca%20href%3D%5C%22http%3A//openstreetmap.org%5C%22%5Cu003eOpenStreetMap%5Cu003c/a%5Cu003e%2C%20under%20%5Cu003ca%20href%3D%5C%22http%3A//www.openstreetmap.org/copyright%5C%22%5Cu003eODbL%5Cu003c/a%5Cu003e.%22%2C%20%22detectRetina%22%3A%20false%2C%20%22maxNativeZoom%22%3A%2018%2C%20%22maxZoom%22%3A%2018%2C%20%22minZoom%22%3A%200%2C%20%22noWrap%22%3A%20false%2C%20%22opacity%22%3A%201%2C%20%22subdomains%22%3A%20%22abc%22%2C%20%22tms%22%3A%20false%7D%0A%20%20%20%20%20%20%20%20%20%20%20%20%29.addTo%28map_b9f8198a289f40b5b96e62c6fafce542%29%3B%0A%20%20%20%20%20%20%20%20%0A%20%20%20%20%0A%20%20%20%20%20%20%20%20%20%20%20%20var%20marker_a7ee2697ddc244d2abcf89488f224ed4%20%3D%20L.marker%28%0A%20%20%20%20%20%20%20%20%20%20%20%20%20%20%20%20%5B37.56681308%2C%20126.9794991%5D%2C%0A%20%20%20%20%20%20%20%20%20%20%20%20%20%20%20%20%7B%7D%0A%20%20%20%20%20%20%20%20%20%20%20%20%29.addTo%28map_b9f8198a289f40b5b96e62c6fafce542%29%3B%0A%20%20%20%20%20%20%20%20%0A%20%20%20%20%0A%20%20%20%20%20%20%20%20var%20popup_f28acf29ef2147beafaf1c4de00ac3d4%20%3D%20L.popup%28%7B%22maxWidth%22%3A%20%22100%25%22%7D%29%3B%0A%0A%20%20%20%20%20%20%20%20%0A%20%20%20%20%20%20%20%20%20%20%20%20var%20html_7a90bfb8012744f29216fc947051f031%20%3D%20%24%28%60%3Cdiv%20id%3D%22html_7a90bfb8012744f29216fc947051f031%22%20style%3D%22width%3A%20100.0%25%3B%20height%3A%20100.0%25%3B%22%3E%EC%9E%90%EC%9D%B4%EC%95%BD%EA%B5%AD%3C/div%3E%60%29%5B0%5D%3B%0A%20%20%20%20%20%20%20%20%20%20%20%20popup_f28acf29ef2147beafaf1c4de00ac3d4.setContent%28html_7a90bfb8012744f29216fc947051f031%29%3B%0A%20%20%20%20%20%20%20%20%0A%0A%20%20%20%20%20%20%20%20marker_a7ee2697ddc244d2abcf89488f224ed4.bindPopup%28popup_f28acf29ef2147beafaf1c4de00ac3d4%29%0A%20%20%20%20%20%20%20%20%3B%0A%0A%20%20%20%20%20%20%20%20%0A%20%20%20%20%0A%20%20%20%20%0A%20%20%20%20%20%20%20%20%20%20%20%20var%20marker_9c54d8f2bc8247598a961d70fb8bde1f%20%3D%20L.marker%28%0A%20%20%20%20%20%20%20%20%20%20%20%20%20%20%20%20%5B37.56715064%2C%20126.9803834%5D%2C%0A%20%20%20%20%20%20%20%20%20%20%20%20%20%20%20%20%7B%7D%0A%20%20%20%20%20%20%20%20%20%20%20%20%29.addTo%28map_b9f8198a289f40b5b96e62c6fafce542%29%3B%0A%20%20%20%20%20%20%20%20%0A%20%20%20%20%0A%20%20%20%20%20%20%20%20var%20popup_3d6b2cd33ef849968128060233b0b8e6%20%3D%20L.popup%28%7B%22maxWidth%22%3A%20%22100%25%22%7D%29%3B%0A%0A%20%20%20%20%20%20%20%20%0A%20%20%20%20%20%20%20%20%20%20%20%20var%20html_7c96bc1f39cc4945b69dbce164ed3c2b%20%3D%20%24%28%60%3Cdiv%20id%3D%22html_7c96bc1f39cc4945b69dbce164ed3c2b%22%20style%3D%22width%3A%20100.0%25%3B%20height%3A%20100.0%25%3B%22%3E%EC%84%9C%ED%98%84%EC%95%BD%EA%B5%AD%3C/div%3E%60%29%5B0%5D%3B%0A%20%20%20%20%20%20%20%20%20%20%20%20popup_3d6b2cd33ef849968128060233b0b8e6.setContent%28html_7c96bc1f39cc4945b69dbce164ed3c2b%29%3B%0A%20%20%20%20%20%20%20%20%0A%0A%20%20%20%20%20%20%20%20marker_9c54d8f2bc8247598a961d70fb8bde1f.bindPopup%28popup_3d6b2cd33ef849968128060233b0b8e6%29%0A%20%20%20%20%20%20%20%20%3B%0A%0A%20%20%20%20%20%20%20%20%0A%20%20%20%20%0A%20%20%20%20%0A%20%20%20%20%20%20%20%20%20%20%20%20var%20marker_d4ffe8795eda48c3bcd6631ad52546df%20%3D%20L.marker%28%0A%20%20%20%20%20%20%20%20%20%20%20%20%20%20%20%20%5B37.56370911%2C%20126.9776153%5D%2C%0A%20%20%20%20%20%20%20%20%20%20%20%20%20%20%20%20%7B%7D%0A%20%20%20%20%20%20%20%20%20%20%20%20%29.addTo%28map_b9f8198a289f40b5b96e62c6fafce542%29%3B%0A%20%20%20%20%20%20%20%20%0A%20%20%20%20%0A%20%20%20%20%20%20%20%20var%20popup_f07447eb3f574aa1ace37b19cd4ef282%20%3D%20L.popup%28%7B%22maxWidth%22%3A%20%22100%25%22%7D%29%3B%0A%0A%20%20%20%20%20%20%20%20%0A%20%20%20%20%20%20%20%20%20%20%20%20var%20html_7539ef96ed594e2f8fa68ff1fd34d0e5%20%3D%20%24%28%60%3Cdiv%20id%3D%22html_7539ef96ed594e2f8fa68ff1fd34d0e5%22%20style%3D%22width%3A%20100.0%25%3B%20height%3A%20100.0%25%3B%22%3E%EB%8B%A4%EB%82%98%EC%95%BD%EA%B5%AD%3C/div%3E%60%29%5B0%5D%3B%0A%20%20%20%20%20%20%20%20%20%20%20%20popup_f07447eb3f574aa1ace37b19cd4ef282.setContent%28html_7539ef96ed594e2f8fa68ff1fd34d0e5%29%3B%0A%20%20%20%20%20%20%20%20%0A%0A%20%20%20%20%20%20%20%20marker_d4ffe8795eda48c3bcd6631ad52546df.bindPopup%28popup_f07447eb3f574aa1ace37b19cd4ef282%29%0A%20%20%20%20%20%20%20%20%3B%0A%0A%20%20%20%20%20%20%20%20%0A%20%20%20%20%0A%20%20%20%20%0A%20%20%20%20%20%20%20%20%20%20%20%20var%20marker_54d8862f4c5c4064b982901757f2a247%20%3D%20L.marker%28%0A%20%20%20%20%20%20%20%20%20%20%20%20%20%20%20%20%5B37.56845271%2C%20126.9782851%5D%2C%0A%20%20%20%20%20%20%20%20%20%20%20%20%20%20%20%20%7B%7D%0A%20%20%20%20%20%20%20%20%20%20%20%20%29.addTo%28map_b9f8198a289f40b5b96e62c6fafce542%29%3B%0A%20%20%20%20%20%20%20%20%0A%20%20%20%20%0A%20%20%20%20%20%20%20%20var%20popup_fb559e6b4dfb45f88fe21d8898fbbdcb%20%3D%20L.popup%28%7B%22maxWidth%22%3A%20%22100%25%22%7D%29%3B%0A%0A%20%20%20%20%20%20%20%20%0A%20%20%20%20%20%20%20%20%20%20%20%20var%20html_b7450db513dd496f8588c442b9dbbfff%20%3D%20%24%28%60%3Cdiv%20id%3D%22html_b7450db513dd496f8588c442b9dbbfff%22%20style%3D%22width%3A%20100.0%25%3B%20height%3A%20100.0%25%3B%22%3E%EC%9E%A5%EC%88%98%EC%95%BD%EA%B5%AD%3C/div%3E%60%29%5B0%5D%3B%0A%20%20%20%20%20%20%20%20%20%20%20%20popup_fb559e6b4dfb45f88fe21d8898fbbdcb.setContent%28html_b7450db513dd496f8588c442b9dbbfff%29%3B%0A%20%20%20%20%20%20%20%20%0A%0A%20%20%20%20%20%20%20%20marker_54d8862f4c5c4064b982901757f2a247.bindPopup%28popup_fb559e6b4dfb45f88fe21d8898fbbdcb%29%0A%20%20%20%20%20%20%20%20%3B%0A%0A%20%20%20%20%20%20%20%20%0A%20%20%20%20%0A%20%20%20%20%0A%20%20%20%20%20%20%20%20%20%20%20%20var%20marker_e7ea7abd0ce140f394234e78a339faef%20%3D%20L.marker%28%0A%20%20%20%20%20%20%20%20%20%20%20%20%20%20%20%20%5B37.56878367%2C%20126.978808%5D%2C%0A%20%20%20%20%20%20%20%20%20%20%20%20%20%20%20%20%7B%7D%0A%20%20%20%20%20%20%20%20%20%20%20%20%29.addTo%28map_b9f8198a289f40b5b96e62c6fafce542%29%3B%0A%20%20%20%20%20%20%20%20%0A%20%20%20%20%0A%20%20%20%20%20%20%20%20var%20popup_a3aeb2b4904f4fa29c7a1ae643b10522%20%3D%20L.popup%28%7B%22maxWidth%22%3A%20%22100%25%22%7D%29%3B%0A%0A%20%20%20%20%20%20%20%20%0A%20%20%20%20%20%20%20%20%20%20%20%20var%20html_4918bac87bd74b898e43d15379bf34a4%20%3D%20%24%28%60%3Cdiv%20id%3D%22html_4918bac87bd74b898e43d15379bf34a4%22%20style%3D%22width%3A%20100.0%25%3B%20height%3A%20100.0%25%3B%22%3E%EA%B4%91%ED%95%B4%EB%8B%B9%EC%95%BD%EA%B5%AD%3C/div%3E%60%29%5B0%5D%3B%0A%20%20%20%20%20%20%20%20%20%20%20%20popup_a3aeb2b4904f4fa29c7a1ae643b10522.setContent%28html_4918bac87bd74b898e43d15379bf34a4%29%3B%0A%20%20%20%20%20%20%20%20%0A%0A%20%20%20%20%20%20%20%20marker_e7ea7abd0ce140f394234e78a339faef.bindPopup%28popup_a3aeb2b4904f4fa29c7a1ae643b10522%29%0A%20%20%20%20%20%20%20%20%3B%0A%0A%20%20%20%20%20%20%20%20%0A%20%20%20%20%0A%20%20%20%20%0A%20%20%20%20%20%20%20%20%20%20%20%20var%20marker_d27aec9d1e98479cbc4db227a354029e%20%3D%20L.marker%28%0A%20%20%20%20%20%20%20%20%20%20%20%20%20%20%20%20%5B37.56878367%2C%20126.978808%5D%2C%0A%20%20%20%20%20%20%20%20%20%20%20%20%20%20%20%20%7B%7D%0A%20%20%20%20%20%20%20%20%20%20%20%20%29.addTo%28map_b9f8198a289f40b5b96e62c6fafce542%29%3B%0A%20%20%20%20%20%20%20%20%0A%20%20%20%20%0A%20%20%20%20%20%20%20%20var%20popup_f8f404f66f0248c382bccbfe41077baf%20%3D%20L.popup%28%7B%22maxWidth%22%3A%20%22100%25%22%7D%29%3B%0A%0A%20%20%20%20%20%20%20%20%0A%20%20%20%20%20%20%20%20%20%20%20%20var%20html_d27a4d92a50a4eacb5594208babcfcd9%20%3D%20%24%28%60%3Cdiv%20id%3D%22html_d27a4d92a50a4eacb5594208babcfcd9%22%20style%3D%22width%3A%20100.0%25%3B%20height%3A%20100.0%25%3B%22%3E%EB%A1%AF%EB%8D%B0%EB%A7%88%ED%8A%B8%EC%97%B4%EB%A6%B0%EC%95%BD%EA%B5%AD%3C/div%3E%60%29%5B0%5D%3B%0A%20%20%20%20%20%20%20%20%20%20%20%20popup_f8f404f66f0248c382bccbfe41077baf.setContent%28html_d27a4d92a50a4eacb5594208babcfcd9%29%3B%0A%20%20%20%20%20%20%20%20%0A%0A%20%20%20%20%20%20%20%20marker_d27aec9d1e98479cbc4db227a354029e.bindPopup%28popup_f8f404f66f0248c382bccbfe41077baf%29%0A%20%20%20%20%20%20%20%20%3B%0A%0A%20%20%20%20%20%20%20%20%0A%20%20%20%20%0A%20%20%20%20%0A%20%20%20%20%20%20%20%20%20%20%20%20var%20marker_2d9d6a6e5326488bb8522ca8a656b63a%20%3D%20L.marker%28%0A%20%20%20%20%20%20%20%20%20%20%20%20%20%20%20%20%5B37.56875876%2C%20126.9795887%5D%2C%0A%20%20%20%20%20%20%20%20%20%20%20%20%20%20%20%20%7B%7D%0A%20%20%20%20%20%20%20%20%20%20%20%20%29.addTo%28map_b9f8198a289f40b5b96e62c6fafce542%29%3B%0A%20%20%20%20%20%20%20%20%0A%20%20%20%20%0A%20%20%20%20%20%20%20%20var%20popup_295fd5bef7314a49885dd5c932eb288c%20%3D%20L.popup%28%7B%22maxWidth%22%3A%20%22100%25%22%7D%29%3B%0A%0A%20%20%20%20%20%20%20%20%0A%20%20%20%20%20%20%20%20%20%20%20%20var%20html_d2cb53f1000045a9badb2c9fef6d6abc%20%3D%20%24%28%60%3Cdiv%20id%3D%22html_d2cb53f1000045a9badb2c9fef6d6abc%22%20style%3D%22width%3A%20100.0%25%3B%20height%3A%20100.0%25%3B%22%3E%EB%8C%80%ED%95%9C%EC%95%BD%EA%B5%AD%3C/div%3E%60%29%5B0%5D%3B%0A%20%20%20%20%20%20%20%20%20%20%20%20popup_295fd5bef7314a49885dd5c932eb288c.setContent%28html_d2cb53f1000045a9badb2c9fef6d6abc%29%3B%0A%20%20%20%20%20%20%20%20%0A%0A%20%20%20%20%20%20%20%20marker_2d9d6a6e5326488bb8522ca8a656b63a.bindPopup%28popup_295fd5bef7314a49885dd5c932eb288c%29%0A%20%20%20%20%20%20%20%20%3B%0A%0A%20%20%20%20%20%20%20%20%0A%20%20%20%20%0A%20%20%20%20%0A%20%20%20%20%20%20%20%20%20%20%20%20var%20marker_da6e8e3faca64cadaf5c80993acec681%20%3D%20L.marker%28%0A%20%20%20%20%20%20%20%20%20%20%20%20%20%20%20%20%5B37.5636567%2C%20126.9763042%5D%2C%0A%20%20%20%20%20%20%20%20%20%20%20%20%20%20%20%20%7B%7D%0A%20%20%20%20%20%20%20%20%20%20%20%20%29.addTo%28map_b9f8198a289f40b5b96e62c6fafce542%29%3B%0A%20%20%20%20%20%20%20%20%0A%20%20%20%20%0A%20%20%20%20%20%20%20%20var%20popup_58c050cde10d40fb87556c3cdf39bda9%20%3D%20L.popup%28%7B%22maxWidth%22%3A%20%22100%25%22%7D%29%3B%0A%0A%20%20%20%20%20%20%20%20%0A%20%20%20%20%20%20%20%20%20%20%20%20var%20html_612018b195f3411fa65852bdb38852d2%20%3D%20%24%28%60%3Cdiv%20id%3D%22html_612018b195f3411fa65852bdb38852d2%22%20style%3D%22width%3A%20100.0%25%3B%20height%3A%20100.0%25%3B%22%3E%EB%89%B4%EC%84%9C%EC%9A%B8%EC%95%BD%EA%B5%AD%3C/div%3E%60%29%5B0%5D%3B%0A%20%20%20%20%20%20%20%20%20%20%20%20popup_58c050cde10d40fb87556c3cdf39bda9.setContent%28html_612018b195f3411fa65852bdb38852d2%29%3B%0A%20%20%20%20%20%20%20%20%0A%0A%20%20%20%20%20%20%20%20marker_da6e8e3faca64cadaf5c80993acec681.bindPopup%28popup_58c050cde10d40fb87556c3cdf39bda9%29%0A%20%20%20%20%20%20%20%20%3B%0A%0A%20%20%20%20%20%20%20%20%0A%20%20%20%20%0A%20%20%20%20%0A%20%20%20%20%20%20%20%20%20%20%20%20var%20marker_5d0c8ad2dd514f8b97dda8806db03606%20%3D%20L.marker%28%0A%20%20%20%20%20%20%20%20%20%20%20%20%20%20%20%20%5B37.56683122%2C%20126.9815454%5D%2C%0A%20%20%20%20%20%20%20%20%20%20%20%20%20%20%20%20%7B%7D%0A%20%20%20%20%20%20%20%20%20%20%20%20%29.addTo%28map_b9f8198a289f40b5b96e62c6fafce542%29%3B%0A%20%20%20%20%20%20%20%20%0A%20%20%20%20%0A%20%20%20%20%20%20%20%20var%20popup_3a60848f81284e81a9669c1bff13beb8%20%3D%20L.popup%28%7B%22maxWidth%22%3A%20%22100%25%22%7D%29%3B%0A%0A%20%20%20%20%20%20%20%20%0A%20%20%20%20%20%20%20%20%20%20%20%20var%20html_62757091a19442819c91447394adfc6c%20%3D%20%24%28%60%3Cdiv%20id%3D%22html_62757091a19442819c91447394adfc6c%22%20style%3D%22width%3A%20100.0%25%3B%20height%3A%20100.0%25%3B%22%3E%EC%86%8C%EB%A7%9D%ED%95%9C%EC%95%BD%EA%B5%AD%3C/div%3E%60%29%5B0%5D%3B%0A%20%20%20%20%20%20%20%20%20%20%20%20popup_3a60848f81284e81a9669c1bff13beb8.setContent%28html_62757091a19442819c91447394adfc6c%29%3B%0A%20%20%20%20%20%20%20%20%0A%0A%20%20%20%20%20%20%20%20marker_5d0c8ad2dd514f8b97dda8806db03606.bindPopup%28popup_3a60848f81284e81a9669c1bff13beb8%29%0A%20%20%20%20%20%20%20%20%3B%0A%0A%20%20%20%20%20%20%20%20%0A%20%20%20%20%0A%20%20%20%20%0A%20%20%20%20%20%20%20%20%20%20%20%20var%20marker_bb9d8bfa683a4ab184619d8dd8798343%20%3D%20L.marker%28%0A%20%20%20%20%20%20%20%20%20%20%20%20%20%20%20%20%5B37.56473032%2C%20126.9817319%5D%2C%0A%20%20%20%20%20%20%20%20%20%20%20%20%20%20%20%20%7B%7D%0A%20%20%20%20%20%20%20%20%20%20%20%20%29.addTo%28map_b9f8198a289f40b5b96e62c6fafce542%29%3B%0A%20%20%20%20%20%20%20%20%0A%20%20%20%20%0A%20%20%20%20%20%20%20%20var%20popup_d2730db8f37343a28bb83a51919c8ffc%20%3D%20L.popup%28%7B%22maxWidth%22%3A%20%22100%25%22%7D%29%3B%0A%0A%20%20%20%20%20%20%20%20%0A%20%20%20%20%20%20%20%20%20%20%20%20var%20html_f6f4052834a7406ab1290454b3927e9d%20%3D%20%24%28%60%3Cdiv%20id%3D%22html_f6f4052834a7406ab1290454b3927e9d%22%20style%3D%22width%3A%20100.0%25%3B%20height%3A%20100.0%25%3B%22%3E%EC%84%9C%EA%B2%BD%EC%95%BD%EA%B5%AD%3C/div%3E%60%29%5B0%5D%3B%0A%20%20%20%20%20%20%20%20%20%20%20%20popup_d2730db8f37343a28bb83a51919c8ffc.setContent%28html_f6f4052834a7406ab1290454b3927e9d%29%3B%0A%20%20%20%20%20%20%20%20%0A%0A%20%20%20%20%20%20%20%20marker_bb9d8bfa683a4ab184619d8dd8798343.bindPopup%28popup_d2730db8f37343a28bb83a51919c8ffc%29%0A%20%20%20%20%20%20%20%20%3B%0A%0A%20%20%20%20%20%20%20%20%0A%20%20%20%20%0A%20%20%20%20%0A%20%20%20%20%20%20%20%20%20%20%20%20var%20marker_b7098d86c9aa41e88dfc977fe28ba2af%20%3D%20L.marker%28%0A%20%20%20%20%20%20%20%20%20%20%20%20%20%20%20%20%5B37.56369239%2C%20126.9812511%5D%2C%0A%20%20%20%20%20%20%20%20%20%20%20%20%20%20%20%20%7B%7D%0A%20%20%20%20%20%20%20%20%20%20%20%20%29.addTo%28map_b9f8198a289f40b5b96e62c6fafce542%29%3B%0A%20%20%20%20%20%20%20%20%0A%20%20%20%20%0A%20%20%20%20%20%20%20%20var%20popup_5b7b40b8fb92444689ba00b8a9db34ca%20%3D%20L.popup%28%7B%22maxWidth%22%3A%20%22100%25%22%7D%29%3B%0A%0A%20%20%20%20%20%20%20%20%0A%20%20%20%20%20%20%20%20%20%20%20%20var%20html_f7ce0d1df7974a56a8e21da8cfd9f6ab%20%3D%20%24%28%60%3Cdiv%20id%3D%22html_f7ce0d1df7974a56a8e21da8cfd9f6ab%22%20style%3D%22width%3A%20100.0%25%3B%20height%3A%20100.0%25%3B%22%3E%ED%99%88%ED%94%8C%EB%9F%AC%EC%8A%A4%EC%A4%80%EC%95%BD%EA%B5%AD%20%3C/div%3E%60%29%5B0%5D%3B%0A%20%20%20%20%20%20%20%20%20%20%20%20popup_5b7b40b8fb92444689ba00b8a9db34ca.setContent%28html_f7ce0d1df7974a56a8e21da8cfd9f6ab%29%3B%0A%20%20%20%20%20%20%20%20%0A%0A%20%20%20%20%20%20%20%20marker_b7098d86c9aa41e88dfc977fe28ba2af.bindPopup%28popup_5b7b40b8fb92444689ba00b8a9db34ca%29%0A%20%20%20%20%20%20%20%20%3B%0A%0A%20%20%20%20%20%20%20%20%0A%20%20%20%20%0A%20%20%20%20%0A%20%20%20%20%20%20%20%20%20%20%20%20var%20marker_d4260d378425489c837f8995e51d4cad%20%3D%20L.marker%28%0A%20%20%20%20%20%20%20%20%20%20%20%20%20%20%20%20%5B37.56916074%2C%20126.9758078%5D%2C%0A%20%20%20%20%20%20%20%20%20%20%20%20%20%20%20%20%7B%7D%0A%20%20%20%20%20%20%20%20%20%20%20%20%29.addTo%28map_b9f8198a289f40b5b96e62c6fafce542%29%3B%0A%20%20%20%20%20%20%20%20%0A%20%20%20%20%0A%20%20%20%20%20%20%20%20var%20popup_7fecf5c4d1e44ca7ad672af3cd28758b%20%3D%20L.popup%28%7B%22maxWidth%22%3A%20%22100%25%22%7D%29%3B%0A%0A%20%20%20%20%20%20%20%20%0A%20%20%20%20%20%20%20%20%20%20%20%20var%20html_422fc12dd6b14b9db974f5bcfd2d4ac3%20%3D%20%24%28%60%3Cdiv%20id%3D%22html_422fc12dd6b14b9db974f5bcfd2d4ac3%22%20style%3D%22width%3A%20100.0%25%3B%20height%3A%20100.0%25%3B%22%3E%EA%B0%80%EA%B2%BD%EB%8C%80%EC%99%95%EC%95%BD%EA%B5%AD%3C/div%3E%60%29%5B0%5D%3B%0A%20%20%20%20%20%20%20%20%20%20%20%20popup_7fecf5c4d1e44ca7ad672af3cd28758b.setContent%28html_422fc12dd6b14b9db974f5bcfd2d4ac3%29%3B%0A%20%20%20%20%20%20%20%20%0A%0A%20%20%20%20%20%20%20%20marker_d4260d378425489c837f8995e51d4cad.bindPopup%28popup_7fecf5c4d1e44ca7ad672af3cd28758b%29%0A%20%20%20%20%20%20%20%20%3B%0A%0A%20%20%20%20%20%20%20%20%0A%20%20%20%20%0A%20%20%20%20%0A%20%20%20%20%20%20%20%20%20%20%20%20var%20marker_fcd68fad91c0410797ac49f7425badfe%20%3D%20L.marker%28%0A%20%20%20%20%20%20%20%20%20%20%20%20%20%20%20%20%5B37.56987642%2C%20126.9796742%5D%2C%0A%20%20%20%20%20%20%20%20%20%20%20%20%20%20%20%20%7B%7D%0A%20%20%20%20%20%20%20%20%20%20%20%20%29.addTo%28map_b9f8198a289f40b5b96e62c6fafce542%29%3B%0A%20%20%20%20%20%20%20%20%0A%20%20%20%20%0A%20%20%20%20%20%20%20%20var%20popup_fe86b28645ed4b1594d79da533ee9ed0%20%3D%20L.popup%28%7B%22maxWidth%22%3A%20%22100%25%22%7D%29%3B%0A%0A%20%20%20%20%20%20%20%20%0A%20%20%20%20%20%20%20%20%20%20%20%20var%20html_65cbcb2f09014c7d96a5f9fa41e630bb%20%3D%20%24%28%60%3Cdiv%20id%3D%22html_65cbcb2f09014c7d96a5f9fa41e630bb%22%20style%3D%22width%3A%20100.0%25%3B%20height%3A%20100.0%25%3B%22%3E%EC%84%B1%EA%B0%80%EC%95%BD%EA%B5%AD%3C/div%3E%60%29%5B0%5D%3B%0A%20%20%20%20%20%20%20%20%20%20%20%20popup_fe86b28645ed4b1594d79da533ee9ed0.setContent%28html_65cbcb2f09014c7d96a5f9fa41e630bb%29%3B%0A%20%20%20%20%20%20%20%20%0A%0A%20%20%20%20%20%20%20%20marker_fcd68fad91c0410797ac49f7425badfe.bindPopup%28popup_fe86b28645ed4b1594d79da533ee9ed0%29%0A%20%20%20%20%20%20%20%20%3B%0A%0A%20%20%20%20%20%20%20%20%0A%20%20%20%20%0A%20%20%20%20%0A%20%20%20%20%20%20%20%20%20%20%20%20var%20marker_1bdcb32b4d104e2eb1e4bdadd103d4c0%20%3D%20L.marker%28%0A%20%20%20%20%20%20%20%20%20%20%20%20%20%20%20%20%5B37.56357571%2C%20126.9820938%5D%2C%0A%20%20%20%20%20%20%20%20%20%20%20%20%20%20%20%20%7B%7D%0A%20%20%20%20%20%20%20%20%20%20%20%20%29.addTo%28map_b9f8198a289f40b5b96e62c6fafce542%29%3B%0A%20%20%20%20%20%20%20%20%0A%20%20%20%20%0A%20%20%20%20%20%20%20%20var%20popup_c8bfa55436f1480896064ce0fafd4a4c%20%3D%20L.popup%28%7B%22maxWidth%22%3A%20%22100%25%22%7D%29%3B%0A%0A%20%20%20%20%20%20%20%20%0A%20%20%20%20%20%20%20%20%20%20%20%20var%20html_1f40e9a74e914de2a6fac88334990b22%20%3D%20%24%28%60%3Cdiv%20id%3D%22html_1f40e9a74e914de2a6fac88334990b22%22%20style%3D%22width%3A%20100.0%25%3B%20height%3A%20100.0%25%3B%22%3E%EC%9A%B0%EB%A6%AC%ED%8C%9C%EC%95%BD%EA%B5%AD%3C/div%3E%60%29%5B0%5D%3B%0A%20%20%20%20%20%20%20%20%20%20%20%20popup_c8bfa55436f1480896064ce0fafd4a4c.setContent%28html_1f40e9a74e914de2a6fac88334990b22%29%3B%0A%20%20%20%20%20%20%20%20%0A%0A%20%20%20%20%20%20%20%20marker_1bdcb32b4d104e2eb1e4bdadd103d4c0.bindPopup%28popup_c8bfa55436f1480896064ce0fafd4a4c%29%0A%20%20%20%20%20%20%20%20%3B%0A%0A%20%20%20%20%20%20%20%20%0A%20%20%20%20%0A%20%20%20%20%0A%20%20%20%20%20%20%20%20%20%20%20%20var%20marker_9e1fc084edbc43c2a5bab79fd2d2a655%20%3D%20L.marker%28%0A%20%20%20%20%20%20%20%20%20%20%20%20%20%20%20%20%5B37.56531232%2C%20126.9830298%5D%2C%0A%20%20%20%20%20%20%20%20%20%20%20%20%20%20%20%20%7B%7D%0A%20%20%20%20%20%20%20%20%20%20%20%20%29.addTo%28map_b9f8198a289f40b5b96e62c6fafce542%29%3B%0A%20%20%20%20%20%20%20%20%0A%20%20%20%20%0A%20%20%20%20%20%20%20%20var%20popup_9771642bce624a49a3e25a52ad22a1b0%20%3D%20L.popup%28%7B%22maxWidth%22%3A%20%22100%25%22%7D%29%3B%0A%0A%20%20%20%20%20%20%20%20%0A%20%20%20%20%20%20%20%20%20%20%20%20var%20html_490bff8caa9940f89bb358f34245add3%20%3D%20%24%28%60%3Cdiv%20id%3D%22html_490bff8caa9940f89bb358f34245add3%22%20style%3D%22width%3A%20100.0%25%3B%20height%3A%20100.0%25%3B%22%3E%EC%86%8C%EB%A6%AC%EC%95%BD%EA%B5%AD%3C/div%3E%60%29%5B0%5D%3B%0A%20%20%20%20%20%20%20%20%20%20%20%20popup_9771642bce624a49a3e25a52ad22a1b0.setContent%28html_490bff8caa9940f89bb358f34245add3%29%3B%0A%20%20%20%20%20%20%20%20%0A%0A%20%20%20%20%20%20%20%20marker_9e1fc084edbc43c2a5bab79fd2d2a655.bindPopup%28popup_9771642bce624a49a3e25a52ad22a1b0%29%0A%20%20%20%20%20%20%20%20%3B%0A%0A%20%20%20%20%20%20%20%20%0A%20%20%20%20%0A%20%20%20%20%0A%20%20%20%20%20%20%20%20%20%20%20%20var%20marker_9e29f6784fe54638a29625f8de7671ed%20%3D%20L.marker%28%0A%20%20%20%20%20%20%20%20%20%20%20%20%20%20%20%20%5B37.566%2C%20126.9784%5D%2C%0A%20%20%20%20%20%20%20%20%20%20%20%20%20%20%20%20%7B%7D%0A%20%20%20%20%20%20%20%20%20%20%20%20%29.addTo%28map_b9f8198a289f40b5b96e62c6fafce542%29%3B%0A%20%20%20%20%20%20%20%20%0A%20%20%20%20%0A%20%20%20%20%20%20%20%20%20%20%20%20var%20icon_a6ecba85951343f0a6f6ba5a6e3f56cc%20%3D%20L.AwesomeMarkers.icon%28%0A%20%20%20%20%20%20%20%20%20%20%20%20%20%20%20%20%7B%22extraClasses%22%3A%20%22fa-rotate-0%22%2C%20%22icon%22%3A%20%22info-sign%22%2C%20%22iconColor%22%3A%20%22white%22%2C%20%22markerColor%22%3A%20%22green%22%2C%20%22prefix%22%3A%20%22glyphicon%22%7D%0A%20%20%20%20%20%20%20%20%20%20%20%20%29%3B%0A%20%20%20%20%20%20%20%20%20%20%20%20marker_9e29f6784fe54638a29625f8de7671ed.setIcon%28icon_a6ecba85951343f0a6f6ba5a6e3f56cc%29%3B%0A%20%20%20%20%20%20%20%20%0A%20%20%20%20%0A%20%20%20%20%20%20%20%20var%20popup_8863f7eba92a4acbb93fbece46d6f53e%20%3D%20L.popup%28%7B%22maxWidth%22%3A%20%22100%25%22%7D%29%3B%0A%0A%20%20%20%20%20%20%20%20%0A%20%20%20%20%20%20%20%20%20%20%20%20var%20html_4e2b612e17a14df0a80475232f98a3f6%20%3D%20%24%28%60%3Cdiv%20id%3D%22html_4e2b612e17a14df0a80475232f98a3f6%22%20style%3D%22width%3A%20100.0%25%3B%20height%3A%20100.0%25%3B%22%3Eme%3C/div%3E%60%29%5B0%5D%3B%0A%20%20%20%20%20%20%20%20%20%20%20%20popup_8863f7eba92a4acbb93fbece46d6f53e.setContent%28html_4e2b612e17a14df0a80475232f98a3f6%29%3B%0A%20%20%20%20%20%20%20%20%0A%0A%20%20%20%20%20%20%20%20marker_9e29f6784fe54638a29625f8de7671ed.bindPopup%28popup_8863f7eba92a4acbb93fbece46d6f53e%29%0A%20%20%20%20%20%20%20%20%3B%0A%0A%20%20%20%20%20%20%20%20%0A%20%20%20%20%0A%3C/script%3E onload=\"this.contentDocument.open();this.contentDocument.write(    decodeURIComponent(this.getAttribute('data-html')));this.contentDocument.close();\" allowfullscreen webkitallowfullscreen mozallowfullscreen></iframe></div></div>"
      ],
      "text/plain": [
       "<folium.folium.Map at 0x1ba7d6f17b8>"
      ]
     },
     "execution_count": 10,
     "metadata": {},
     "output_type": "execute_result"
    }
   ],
   "source": [
    "import folium\n",
    "\n",
    "user_address = g.latlng\n",
    "coordinates['distance'] = coordinates[['longitude','latitude']].apply(test, axis=1)\n",
    "nearest_pharmacies = coordinates.sort_values(by='distance', ascending=True)[:15]\n",
    "\n",
    "locations = nearest_pharmacies[['latitude', 'longitude']]\n",
    "locationlist = locations.values.tolist()\n",
    "\n",
    "map = folium.Map(location=user_address, zoom_start=16)\n",
    "for point in tqdm(range(0, 15)):\n",
    "    folium.Marker(locationlist[point], popup=coordinates['pharmercy_name'][point]).add_to(map)\n",
    "folium.Marker(user_address, popup='me', icon=folium.Icon(color='green')).add_to(map)\n",
    "map"
   ]
  },
  {
   "cell_type": "markdown",
   "metadata": {},
   "source": [
    "# User Interface Part"
   ]
  },
  {
   "cell_type": "code",
   "execution_count": 11,
   "metadata": {},
   "outputs": [],
   "source": [
    "def picture_cap(on):   \n",
    "    import cv2\n",
    "    cap = cv2.VideoCapture(0) # video capture source camera (Here webcam of laptop) \n",
    "    ret,frame = cap.read() # return a single frame in variable `frame`\n",
    "    on = True\n",
    "    while on:\n",
    "        cv2.imshow('img1',frame) #display the captured image\n",
    "        if cv2.waitKey(1) & 0xFF == ord('y'): #save on pressing 'y' \n",
    "            cv2.imwrite('c1.png',frame)\n",
    "            cv2.destroyAllWindows()\n",
    "            break\n",
    "    cap.release()"
   ]
  },
  {
   "cell_type": "code",
   "execution_count": 14,
   "metadata": {},
   "outputs": [],
   "source": [
    "picture_cap(True)"
   ]
  },
  {
   "cell_type": "code",
   "execution_count": 32,
   "metadata": {},
   "outputs": [
    {
     "name": "stdout",
     "output_type": "stream",
     "text": [
      "그린노즈 에스 \n",
      "--------------------\n",
      "1. 효능효과\n",
      "2. 사용상 주의사항\n",
      "3. 용법용량\n",
      "4. 성분정보\n",
      "5. 저장방법\n",
      "6. 주변 약국\n",
      "7. 궁금하시다면?\n",
      "8. 또 다른 약 재인식?\n",
      "9. 프로그램 완료\n"
     ]
    },
    {
     "name": "stdin",
     "output_type": "stream",
     "text": [
      "Please, enter a menu 1~9:  9\n"
     ]
    }
   ],
   "source": [
    "picture_cap(True)\n",
    "\n",
    "img_label = model.predict_classes('c1.png')\n",
    "print(df_p.loc[img_label, '약명'])\n",
    "print('-'*20)\n",
    "print('1. 효능효과')\n",
    "print('2. 사용상 주의사항')\n",
    "print('3. 용법용량')\n",
    "print('4. 성분정보')\n",
    "print('5. 저장방법')\n",
    "print('6. 주변 약국')\n",
    "print('7. 궁금하시다면?')\n",
    "print('8. 또 다른 약 재인식?')\n",
    "print('9. 프로그램 완료')\n",
    "question_list = []\n",
    "option = int(input('Please, enter a menu 1~9: '))\n",
    "\n",
    "on_2 = True\n",
    "\n",
    "while on_2:\n",
    "    if option == 1:\n",
    "        print('-'*20)\n",
    "        print('Specific Purpose')\n",
    "        pd.options.display.max_colwidth = 100000\n",
    "        print(df_p.loc[img_label, '효능효과'], sep='\\n')\n",
    "        print('-'*20)\n",
    "        option = int(input('Please, enter a menu 1~9: '))\n",
    "        print('-'*20)\n",
    "        \n",
    "    if option == 2:\n",
    "        print('-'*20)\n",
    "        print('사용상 주의사항')\n",
    "        pd.options.display.max_colwidth = 100000\n",
    "        print(df_p.loc[img_label, '사용상 주의사항'], sep='\\n')\n",
    "        print('-'*20)\n",
    "        option = int(input('Please, enter a menu 1~9: '))\n",
    "        print('-'*20)\n",
    "        \n",
    "    if option == 3:\n",
    "        print('-'*20)\n",
    "        print('Dose')\n",
    "        pd.options.display.max_colwidth = 100000\n",
    "        print(df_p.loc[img_label, '용법용량'], sep='\\n')\n",
    "        print('-'*20)\n",
    "        print('8. Exit')\n",
    "        option = int(input('Please, enter a menu 1~9: '))\n",
    "        \n",
    "    if option == 4:\n",
    "        print('-'*20)\n",
    "        print('성분정보')\n",
    "        pd.options.display.max_colwidth = 100000\n",
    "        print(df_p.loc[img_label, '성분정보'], sep='\\n')\n",
    "        print('-'*20)\n",
    "        print('8. Exit')\n",
    "        option = int(input('Please, enter a menu 1~9: '))\n",
    "        \n",
    "    if option == 5:\n",
    "        print('-'*20)\n",
    "        print('저장방법')\n",
    "        pd.options.display.max_colwidth = 100000\n",
    "        print(df_p.loc[img_label, '저장방법'], sep='\\n')\n",
    "        print('-'*20)\n",
    "        option = int(input('Please, enter a menu 1~9: '))\n",
    "        \n",
    "    if option == 6:\n",
    "        print('주변 약국 알려 드립니다!!')\n",
    "        pharmacy_list = nearest_pharmacies[['pharmercy_name','distance']]\n",
    "        print(pharmacy_list)\n",
    "        print('-'*20)\n",
    "        option = int(input('Please, enter a menu 1~9: '))\n",
    "    \n",
    "    if option == 7:\n",
    "        print('서비스 향상을 위해 질문사항 남겨 최대한 답변 드리겠습니다.')\n",
    "        question = str(input('질문 입력: '))\n",
    "        question_list.append(question)\n",
    "        print('-'*20)\n",
    "        option = int(input('Please, enter a menu 1~9: '))\n",
    "        \n",
    "    if option == 8:\n",
    "        picture_cap(True)\n",
    "        img_label = model.predict_classes('c1.png')\n",
    "        \n",
    "    if option == 9:\n",
    "        break\n",
    "        \n",
    "#import pickle\n",
    "#with open(\"test.txt\", \"wb\") as fp:\n",
    "#    pickle.dump(question_list, fp)\n",
    "#with open(\"test.txt\", \"rb\") as fp:\n",
    " #   b = pickle.load(fp)"
   ]
  },
  {
   "cell_type": "code",
   "execution_count": null,
   "metadata": {},
   "outputs": [],
   "source": []
  },
  {
   "cell_type": "code",
   "execution_count": null,
   "metadata": {},
   "outputs": [],
   "source": []
  },
  {
   "cell_type": "code",
   "execution_count": null,
   "metadata": {},
   "outputs": [],
   "source": []
  },
  {
   "cell_type": "code",
   "execution_count": null,
   "metadata": {},
   "outputs": [],
   "source": []
  },
  {
   "cell_type": "code",
   "execution_count": null,
   "metadata": {},
   "outputs": [],
   "source": []
  },
  {
   "cell_type": "code",
   "execution_count": null,
   "metadata": {},
   "outputs": [],
   "source": []
  }
 ],
 "metadata": {
  "kernelspec": {
   "display_name": "Python 3",
   "language": "python",
   "name": "python3"
  },
  "language_info": {
   "codemirror_mode": {
    "name": "ipython",
    "version": 3
   },
   "file_extension": ".py",
   "mimetype": "text/x-python",
   "name": "python",
   "nbconvert_exporter": "python",
   "pygments_lexer": "ipython3",
   "version": "3.6.6"
  }
 },
 "nbformat": 4,
 "nbformat_minor": 2
}
